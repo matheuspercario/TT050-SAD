{
 "metadata": {
  "language_info": {
   "codemirror_mode": {
    "name": "ipython",
    "version": 3
   },
   "file_extension": ".py",
   "mimetype": "text/x-python",
   "name": "python",
   "nbconvert_exporter": "python",
   "pygments_lexer": "ipython3",
   "version": "3.8.6-final"
  },
  "orig_nbformat": 2,
  "kernelspec": {
   "name": "Python 3.8.6 64-bit ('venv-aula3')",
   "display_name": "Python 3.8.6 64-bit ('venv-aula3')",
   "metadata": {
    "interpreter": {
     "hash": "cf5d1b4ae9df1a43df0c8dbcf701f3aecdae7d0afcd64ba2cdcff6f4fc567502"
    }
   }
  }
 },
 "nbformat": 4,
 "nbformat_minor": 2,
 "cells": [
  {
   "source": [
    "# Preparando ambiente\n"
   ],
   "cell_type": "markdown",
   "metadata": {}
  },
  {
   "cell_type": "code",
   "execution_count": 65,
   "metadata": {},
   "outputs": [],
   "source": [
    "import pandas as pd"
   ]
  },
  {
   "cell_type": "code",
   "execution_count": 66,
   "metadata": {
    "tags": []
   },
   "outputs": [
    {
     "output_type": "stream",
     "name": "stdout",
     "text": "1.1.3\n"
    }
   ],
   "source": [
    "print(pd.__version__)\n"
   ]
  },
  {
   "cell_type": "code",
   "execution_count": 68,
   "metadata": {},
   "outputs": [],
   "source": [
    "# Abrir arquivo .csv\n",
    "dataframe = pd.read_csv(\"data/alunos.csv\", sep=\";\", encoding=\"ANSI\")"
   ]
  },
  {
   "source": [
    "# Iniciando análises"
   ],
   "cell_type": "markdown",
   "metadata": {}
  },
  {
   "cell_type": "code",
   "execution_count": 69,
   "metadata": {},
   "outputs": [
    {
     "output_type": "execute_result",
     "data": {
      "text/plain": "      Nome  Idade Endereço           Cidade  Nota Aprovação Sexo\n0    Renan     18   Rua 10         Maranhao     0       Não    M\n1     João     19    Rua A   Rio de Janeiro    10       Sim    M\n2   Maria      17    Rua 8       São Paulo      8      Sim     F\n3  Junior      17    Rua 8       São Paulo      4       Não    M\n4   Carlos     18   Rua 10  Belo Horizonte      9      Sim     M",
      "text/html": "<div>\n<style scoped>\n    .dataframe tbody tr th:only-of-type {\n        vertical-align: middle;\n    }\n\n    .dataframe tbody tr th {\n        vertical-align: top;\n    }\n\n    .dataframe thead th {\n        text-align: right;\n    }\n</style>\n<table border=\"1\" class=\"dataframe\">\n  <thead>\n    <tr style=\"text-align: right;\">\n      <th></th>\n      <th>Nome</th>\n      <th>Idade</th>\n      <th>Endereço</th>\n      <th>Cidade</th>\n      <th>Nota</th>\n      <th>Aprovação</th>\n      <th>Sexo</th>\n    </tr>\n  </thead>\n  <tbody>\n    <tr>\n      <th>0</th>\n      <td>Renan</td>\n      <td>18</td>\n      <td>Rua 10</td>\n      <td>Maranhao</td>\n      <td>0</td>\n      <td>Não</td>\n      <td>M</td>\n    </tr>\n    <tr>\n      <th>1</th>\n      <td>João</td>\n      <td>19</td>\n      <td>Rua A</td>\n      <td>Rio de Janeiro</td>\n      <td>10</td>\n      <td>Sim</td>\n      <td>M</td>\n    </tr>\n    <tr>\n      <th>2</th>\n      <td>Maria</td>\n      <td>17</td>\n      <td>Rua 8</td>\n      <td>São Paulo</td>\n      <td>8</td>\n      <td>Sim</td>\n      <td>F</td>\n    </tr>\n    <tr>\n      <th>3</th>\n      <td>Junior</td>\n      <td>17</td>\n      <td>Rua 8</td>\n      <td>São Paulo</td>\n      <td>4</td>\n      <td>Não</td>\n      <td>M</td>\n    </tr>\n    <tr>\n      <th>4</th>\n      <td>Carlos</td>\n      <td>18</td>\n      <td>Rua 10</td>\n      <td>Belo Horizonte</td>\n      <td>9</td>\n      <td>Sim</td>\n      <td>M</td>\n    </tr>\n  </tbody>\n</table>\n</div>"
     },
     "metadata": {},
     "execution_count": 69
    }
   ],
   "source": [
    "# Imprimir apenas cabeçalho\n",
    "dataframe.head()"
   ]
  },
  {
   "cell_type": "code",
   "execution_count": 70,
   "metadata": {},
   "outputs": [
    {
     "output_type": "execute_result",
     "data": {
      "text/plain": "      Nome  Idade Endereço           Cidade  Nota Aprovação Sexo\n0    Renan     18   Rua 10         Maranhao     0       Não    M\n1     João     19    Rua A   Rio de Janeiro    10       Sim    M\n2   Maria      17    Rua 8       São Paulo      8      Sim     F\n3  Junior      17    Rua 8       São Paulo      4       Não    M\n4   Carlos     18   Rua 10  Belo Horizonte      9      Sim     M\n5  Robento     22   Rua 19  Santa Catarina      6      Sim     M\n6   Carla      18   Rua 10         Maranhao    10      Sim     F\n7   Renata     23   Rua 20         Curitiba     8      Sim     F",
      "text/html": "<div>\n<style scoped>\n    .dataframe tbody tr th:only-of-type {\n        vertical-align: middle;\n    }\n\n    .dataframe tbody tr th {\n        vertical-align: top;\n    }\n\n    .dataframe thead th {\n        text-align: right;\n    }\n</style>\n<table border=\"1\" class=\"dataframe\">\n  <thead>\n    <tr style=\"text-align: right;\">\n      <th></th>\n      <th>Nome</th>\n      <th>Idade</th>\n      <th>Endereço</th>\n      <th>Cidade</th>\n      <th>Nota</th>\n      <th>Aprovação</th>\n      <th>Sexo</th>\n    </tr>\n  </thead>\n  <tbody>\n    <tr>\n      <th>0</th>\n      <td>Renan</td>\n      <td>18</td>\n      <td>Rua 10</td>\n      <td>Maranhao</td>\n      <td>0</td>\n      <td>Não</td>\n      <td>M</td>\n    </tr>\n    <tr>\n      <th>1</th>\n      <td>João</td>\n      <td>19</td>\n      <td>Rua A</td>\n      <td>Rio de Janeiro</td>\n      <td>10</td>\n      <td>Sim</td>\n      <td>M</td>\n    </tr>\n    <tr>\n      <th>2</th>\n      <td>Maria</td>\n      <td>17</td>\n      <td>Rua 8</td>\n      <td>São Paulo</td>\n      <td>8</td>\n      <td>Sim</td>\n      <td>F</td>\n    </tr>\n    <tr>\n      <th>3</th>\n      <td>Junior</td>\n      <td>17</td>\n      <td>Rua 8</td>\n      <td>São Paulo</td>\n      <td>4</td>\n      <td>Não</td>\n      <td>M</td>\n    </tr>\n    <tr>\n      <th>4</th>\n      <td>Carlos</td>\n      <td>18</td>\n      <td>Rua 10</td>\n      <td>Belo Horizonte</td>\n      <td>9</td>\n      <td>Sim</td>\n      <td>M</td>\n    </tr>\n    <tr>\n      <th>5</th>\n      <td>Robento</td>\n      <td>22</td>\n      <td>Rua 19</td>\n      <td>Santa Catarina</td>\n      <td>6</td>\n      <td>Sim</td>\n      <td>M</td>\n    </tr>\n    <tr>\n      <th>6</th>\n      <td>Carla</td>\n      <td>18</td>\n      <td>Rua 10</td>\n      <td>Maranhao</td>\n      <td>10</td>\n      <td>Sim</td>\n      <td>F</td>\n    </tr>\n    <tr>\n      <th>7</th>\n      <td>Renata</td>\n      <td>23</td>\n      <td>Rua 20</td>\n      <td>Curitiba</td>\n      <td>8</td>\n      <td>Sim</td>\n      <td>F</td>\n    </tr>\n  </tbody>\n</table>\n</div>"
     },
     "metadata": {},
     "execution_count": 70
    }
   ],
   "source": [
    "# Imprimir todo dataframe\n",
    "dataframe"
   ]
  },
  {
   "cell_type": "code",
   "execution_count": 72,
   "metadata": {},
   "outputs": [],
   "source": [
    "df = pd.read_csv(\"data/alunos.csv\", sep=\";\", encoding=\"ANSI\", usecols=[\"Nome\", \"Idade\", \"Aprovação\", \"Nota\"])"
   ]
  },
  {
   "cell_type": "code",
   "execution_count": 73,
   "metadata": {},
   "outputs": [
    {
     "output_type": "execute_result",
     "data": {
      "text/plain": "      Nome  Idade  Nota Aprovação\n0    Renan     18     0       Não\n1     João     19    10       Sim\n2   Maria      17     8      Sim \n3  Junior      17     4       Não\n4   Carlos     18     9      Sim ",
      "text/html": "<div>\n<style scoped>\n    .dataframe tbody tr th:only-of-type {\n        vertical-align: middle;\n    }\n\n    .dataframe tbody tr th {\n        vertical-align: top;\n    }\n\n    .dataframe thead th {\n        text-align: right;\n    }\n</style>\n<table border=\"1\" class=\"dataframe\">\n  <thead>\n    <tr style=\"text-align: right;\">\n      <th></th>\n      <th>Nome</th>\n      <th>Idade</th>\n      <th>Nota</th>\n      <th>Aprovação</th>\n    </tr>\n  </thead>\n  <tbody>\n    <tr>\n      <th>0</th>\n      <td>Renan</td>\n      <td>18</td>\n      <td>0</td>\n      <td>Não</td>\n    </tr>\n    <tr>\n      <th>1</th>\n      <td>João</td>\n      <td>19</td>\n      <td>10</td>\n      <td>Sim</td>\n    </tr>\n    <tr>\n      <th>2</th>\n      <td>Maria</td>\n      <td>17</td>\n      <td>8</td>\n      <td>Sim</td>\n    </tr>\n    <tr>\n      <th>3</th>\n      <td>Junior</td>\n      <td>17</td>\n      <td>4</td>\n      <td>Não</td>\n    </tr>\n    <tr>\n      <th>4</th>\n      <td>Carlos</td>\n      <td>18</td>\n      <td>9</td>\n      <td>Sim</td>\n    </tr>\n  </tbody>\n</table>\n</div>"
     },
     "metadata": {},
     "execution_count": 73
    }
   ],
   "source": [
    "df.head()"
   ]
  },
  {
   "cell_type": "code",
   "execution_count": 74,
   "metadata": {},
   "outputs": [],
   "source": [
    "df = pd.read_csv(\"data/survey_results_public.csv\")"
   ]
  },
  {
   "cell_type": "code",
   "execution_count": 75,
   "metadata": {},
   "outputs": [
    {
     "output_type": "execute_result",
     "data": {
      "text/plain": "   Respondent                                         MainBranch Hobbyist  \\\n0           1                     I am a developer by profession      Yes   \n1           2                     I am a developer by profession       No   \n2           3                        I code primarily as a hobby      Yes   \n3           4                     I am a developer by profession      Yes   \n4           5  I used to be a developer by profession, but no...      Yes   \n\n    Age Age1stCode CompFreq  CompTotal  ConvertedComp             Country  \\\n0   NaN         13  Monthly        NaN            NaN             Germany   \n1   NaN         19      NaN        NaN            NaN      United Kingdom   \n2   NaN         15      NaN        NaN            NaN  Russian Federation   \n3  25.0         18      NaN        NaN            NaN             Albania   \n4  31.0         16      NaN        NaN            NaN       United States   \n\n     CurrencyDesc  ...                  SurveyEase           SurveyLength  \\\n0   European Euro  ...  Neither easy nor difficult  Appropriate in length   \n1  Pound sterling  ...                         NaN                    NaN   \n2             NaN  ...  Neither easy nor difficult  Appropriate in length   \n3    Albanian lek  ...                         NaN                    NaN   \n4             NaN  ...                        Easy              Too short   \n\n  Trans                                     UndergradMajor  \\\n0    No  Computer science, computer engineering, or sof...   \n1   NaN  Computer science, computer engineering, or sof...   \n2   NaN                                                NaN   \n3    No  Computer science, computer engineering, or sof...   \n4    No  Computer science, computer engineering, or sof...   \n\n  WebframeDesireNextYear    WebframeWorkedWith  \\\n0           ASP.NET Core  ASP.NET;ASP.NET Core   \n1                    NaN                   NaN   \n2                    NaN                   NaN   \n3                    NaN                   NaN   \n4   Django;Ruby on Rails         Ruby on Rails   \n\n                              WelcomeChange WorkWeekHrs YearsCode YearsCodePro  \n0   Just as welcome now as I felt last year        50.0        36           27  \n1  Somewhat more welcome now than last year         NaN         7            4  \n2  Somewhat more welcome now than last year         NaN         4          NaN  \n3  Somewhat less welcome now than last year        40.0         7            4  \n4   Just as welcome now as I felt last year         NaN        15            8  \n\n[5 rows x 61 columns]",
      "text/html": "<div>\n<style scoped>\n    .dataframe tbody tr th:only-of-type {\n        vertical-align: middle;\n    }\n\n    .dataframe tbody tr th {\n        vertical-align: top;\n    }\n\n    .dataframe thead th {\n        text-align: right;\n    }\n</style>\n<table border=\"1\" class=\"dataframe\">\n  <thead>\n    <tr style=\"text-align: right;\">\n      <th></th>\n      <th>Respondent</th>\n      <th>MainBranch</th>\n      <th>Hobbyist</th>\n      <th>Age</th>\n      <th>Age1stCode</th>\n      <th>CompFreq</th>\n      <th>CompTotal</th>\n      <th>ConvertedComp</th>\n      <th>Country</th>\n      <th>CurrencyDesc</th>\n      <th>...</th>\n      <th>SurveyEase</th>\n      <th>SurveyLength</th>\n      <th>Trans</th>\n      <th>UndergradMajor</th>\n      <th>WebframeDesireNextYear</th>\n      <th>WebframeWorkedWith</th>\n      <th>WelcomeChange</th>\n      <th>WorkWeekHrs</th>\n      <th>YearsCode</th>\n      <th>YearsCodePro</th>\n    </tr>\n  </thead>\n  <tbody>\n    <tr>\n      <th>0</th>\n      <td>1</td>\n      <td>I am a developer by profession</td>\n      <td>Yes</td>\n      <td>NaN</td>\n      <td>13</td>\n      <td>Monthly</td>\n      <td>NaN</td>\n      <td>NaN</td>\n      <td>Germany</td>\n      <td>European Euro</td>\n      <td>...</td>\n      <td>Neither easy nor difficult</td>\n      <td>Appropriate in length</td>\n      <td>No</td>\n      <td>Computer science, computer engineering, or sof...</td>\n      <td>ASP.NET Core</td>\n      <td>ASP.NET;ASP.NET Core</td>\n      <td>Just as welcome now as I felt last year</td>\n      <td>50.0</td>\n      <td>36</td>\n      <td>27</td>\n    </tr>\n    <tr>\n      <th>1</th>\n      <td>2</td>\n      <td>I am a developer by profession</td>\n      <td>No</td>\n      <td>NaN</td>\n      <td>19</td>\n      <td>NaN</td>\n      <td>NaN</td>\n      <td>NaN</td>\n      <td>United Kingdom</td>\n      <td>Pound sterling</td>\n      <td>...</td>\n      <td>NaN</td>\n      <td>NaN</td>\n      <td>NaN</td>\n      <td>Computer science, computer engineering, or sof...</td>\n      <td>NaN</td>\n      <td>NaN</td>\n      <td>Somewhat more welcome now than last year</td>\n      <td>NaN</td>\n      <td>7</td>\n      <td>4</td>\n    </tr>\n    <tr>\n      <th>2</th>\n      <td>3</td>\n      <td>I code primarily as a hobby</td>\n      <td>Yes</td>\n      <td>NaN</td>\n      <td>15</td>\n      <td>NaN</td>\n      <td>NaN</td>\n      <td>NaN</td>\n      <td>Russian Federation</td>\n      <td>NaN</td>\n      <td>...</td>\n      <td>Neither easy nor difficult</td>\n      <td>Appropriate in length</td>\n      <td>NaN</td>\n      <td>NaN</td>\n      <td>NaN</td>\n      <td>NaN</td>\n      <td>Somewhat more welcome now than last year</td>\n      <td>NaN</td>\n      <td>4</td>\n      <td>NaN</td>\n    </tr>\n    <tr>\n      <th>3</th>\n      <td>4</td>\n      <td>I am a developer by profession</td>\n      <td>Yes</td>\n      <td>25.0</td>\n      <td>18</td>\n      <td>NaN</td>\n      <td>NaN</td>\n      <td>NaN</td>\n      <td>Albania</td>\n      <td>Albanian lek</td>\n      <td>...</td>\n      <td>NaN</td>\n      <td>NaN</td>\n      <td>No</td>\n      <td>Computer science, computer engineering, or sof...</td>\n      <td>NaN</td>\n      <td>NaN</td>\n      <td>Somewhat less welcome now than last year</td>\n      <td>40.0</td>\n      <td>7</td>\n      <td>4</td>\n    </tr>\n    <tr>\n      <th>4</th>\n      <td>5</td>\n      <td>I used to be a developer by profession, but no...</td>\n      <td>Yes</td>\n      <td>31.0</td>\n      <td>16</td>\n      <td>NaN</td>\n      <td>NaN</td>\n      <td>NaN</td>\n      <td>United States</td>\n      <td>NaN</td>\n      <td>...</td>\n      <td>Easy</td>\n      <td>Too short</td>\n      <td>No</td>\n      <td>Computer science, computer engineering, or sof...</td>\n      <td>Django;Ruby on Rails</td>\n      <td>Ruby on Rails</td>\n      <td>Just as welcome now as I felt last year</td>\n      <td>NaN</td>\n      <td>15</td>\n      <td>8</td>\n    </tr>\n  </tbody>\n</table>\n<p>5 rows × 61 columns</p>\n</div>"
     },
     "metadata": {},
     "execution_count": 75
    }
   ],
   "source": [
    "df.head()"
   ]
  },
  {
   "cell_type": "code",
   "execution_count": 76,
   "metadata": {},
   "outputs": [
    {
     "output_type": "execute_result",
     "data": {
      "text/plain": "(64461, 61)"
     },
     "metadata": {},
     "execution_count": 76
    }
   ],
   "source": [
    "# Linhas e colunas\n",
    "df.shape"
   ]
  },
  {
   "cell_type": "code",
   "execution_count": 77,
   "metadata": {},
   "outputs": [
    {
     "output_type": "execute_result",
     "data": {
      "text/plain": "Respondent              int64\nMainBranch             object\nHobbyist               object\nAge                   float64\nAge1stCode             object\n                       ...   \nWebframeWorkedWith     object\nWelcomeChange          object\nWorkWeekHrs           float64\nYearsCode              object\nYearsCodePro           object\nLength: 61, dtype: object"
     },
     "metadata": {},
     "execution_count": 77
    }
   ],
   "source": [
    "# Tipos de dados do dataframe\n",
    "df.dtypes"
   ]
  },
  {
   "cell_type": "code",
   "execution_count": 78,
   "metadata": {},
   "outputs": [
    {
     "output_type": "execute_result",
     "data": {
      "text/plain": "&lt;bound method DataFrame.info of        Respondent                                         MainBranch Hobbyist  \\\n0               1                     I am a developer by profession      Yes   \n1               2                     I am a developer by profession       No   \n2               3                        I code primarily as a hobby      Yes   \n3               4                     I am a developer by profession      Yes   \n4               5  I used to be a developer by profession, but no...      Yes   \n...           ...                                                ...      ...   \n64456       64858                                                NaN      Yes   \n64457       64867                                                NaN      Yes   \n64458       64898                                                NaN      Yes   \n64459       64925                                                NaN      Yes   \n64460       65112                                                NaN      Yes   \n\n        Age Age1stCode CompFreq  CompTotal  ConvertedComp             Country  \\\n0       NaN         13  Monthly        NaN            NaN             Germany   \n1       NaN         19      NaN        NaN            NaN      United Kingdom   \n2       NaN         15      NaN        NaN            NaN  Russian Federation   \n3      25.0         18      NaN        NaN            NaN             Albania   \n4      31.0         16      NaN        NaN            NaN       United States   \n...     ...        ...      ...        ...            ...                 ...   \n64456   NaN         16      NaN        NaN            NaN       United States   \n64457   NaN        NaN      NaN        NaN            NaN             Morocco   \n64458   NaN        NaN      NaN        NaN            NaN            Viet Nam   \n64459   NaN        NaN      NaN        NaN            NaN              Poland   \n64460   NaN        NaN      NaN        NaN            NaN               Spain   \n\n         CurrencyDesc  ...                  SurveyEase           SurveyLength  \\\n0       European Euro  ...  Neither easy nor difficult  Appropriate in length   \n1      Pound sterling  ...                         NaN                    NaN   \n2                 NaN  ...  Neither easy nor difficult  Appropriate in length   \n3        Albanian lek  ...                         NaN                    NaN   \n4                 NaN  ...                        Easy              Too short   \n...               ...  ...                         ...                    ...   \n64456             NaN  ...                         NaN                    NaN   \n64457             NaN  ...                         NaN                    NaN   \n64458             NaN  ...                         NaN                    NaN   \n64459             NaN  ...                         NaN                    NaN   \n64460             NaN  ...                         NaN                    NaN   \n\n      Trans                                     UndergradMajor  \\\n0        No  Computer science, computer engineering, or sof...   \n1       NaN  Computer science, computer engineering, or sof...   \n2       NaN                                                NaN   \n3        No  Computer science, computer engineering, or sof...   \n4        No  Computer science, computer engineering, or sof...   \n...     ...                                                ...   \n64456   NaN  Computer science, computer engineering, or sof...   \n64457   NaN                                                NaN   \n64458   NaN                                                NaN   \n64459   NaN                                                NaN   \n64460   NaN  Computer science, computer engineering, or sof...   \n\n            WebframeDesireNextYear                      WebframeWorkedWith  \\\n0                     ASP.NET Core                    ASP.NET;ASP.NET Core   \n1                              NaN                                     NaN   \n2                              NaN                                     NaN   \n3                              NaN                                     NaN   \n4             Django;Ruby on Rails                           Ruby on Rails   \n...                            ...                                     ...   \n64456                          NaN                                     NaN   \n64457                          NaN                                     NaN   \n64458                          NaN                                     NaN   \n64459  Angular;Angular.js;React.js                                     NaN   \n64460          ASP.NET Core;jQuery  Angular;Angular.js;ASP.NET Core;jQuery   \n\n                                  WelcomeChange WorkWeekHrs YearsCode  \\\n0       Just as welcome now as I felt last year        50.0        36   \n1      Somewhat more welcome now than last year         NaN         7   \n2      Somewhat more welcome now than last year         NaN         4   \n3      Somewhat less welcome now than last year        40.0         7   \n4       Just as welcome now as I felt last year         NaN        15   \n...                                         ...         ...       ...   \n64456                                       NaN         NaN        10   \n64457                                       NaN         NaN       NaN   \n64458                                       NaN         NaN       NaN   \n64459                                       NaN         NaN       NaN   \n64460                                       NaN         NaN       NaN   \n\n           YearsCodePro  \n0                    27  \n1                     4  \n2                   NaN  \n3                     4  \n4                     8  \n...                 ...  \n64456  Less than 1 year  \n64457               NaN  \n64458               NaN  \n64459               NaN  \n64460               NaN  \n\n[64461 rows x 61 columns]&gt;"
     },
     "metadata": {},
     "execution_count": 78
    }
   ],
   "source": [
    "# Informacoes sobre dataframe\n",
    "df.info"
   ]
  },
  {
   "cell_type": "code",
   "execution_count": 80,
   "metadata": {},
   "outputs": [],
   "source": [
    "aluno = pd.read_csv(\"data/alunos.csv\", sep=\";\", encoding=\"ANSI\")"
   ]
  },
  {
   "cell_type": "code",
   "execution_count": 81,
   "metadata": {},
   "outputs": [
    {
     "output_type": "execute_result",
     "data": {
      "text/plain": "      Nome  Idade Endereço           Cidade  Nota Aprovação Sexo\n0    Renan     18   Rua 10         Maranhao     0       Não    M\n1     João     19    Rua A   Rio de Janeiro    10       Sim    M\n2   Maria      17    Rua 8       São Paulo      8      Sim     F\n3  Junior      17    Rua 8       São Paulo      4       Não    M\n4   Carlos     18   Rua 10  Belo Horizonte      9      Sim     M\n5  Robento     22   Rua 19  Santa Catarina      6      Sim     M\n6   Carla      18   Rua 10         Maranhao    10      Sim     F\n7   Renata     23   Rua 20         Curitiba     8      Sim     F",
      "text/html": "<div>\n<style scoped>\n    .dataframe tbody tr th:only-of-type {\n        vertical-align: middle;\n    }\n\n    .dataframe tbody tr th {\n        vertical-align: top;\n    }\n\n    .dataframe thead th {\n        text-align: right;\n    }\n</style>\n<table border=\"1\" class=\"dataframe\">\n  <thead>\n    <tr style=\"text-align: right;\">\n      <th></th>\n      <th>Nome</th>\n      <th>Idade</th>\n      <th>Endereço</th>\n      <th>Cidade</th>\n      <th>Nota</th>\n      <th>Aprovação</th>\n      <th>Sexo</th>\n    </tr>\n  </thead>\n  <tbody>\n    <tr>\n      <th>0</th>\n      <td>Renan</td>\n      <td>18</td>\n      <td>Rua 10</td>\n      <td>Maranhao</td>\n      <td>0</td>\n      <td>Não</td>\n      <td>M</td>\n    </tr>\n    <tr>\n      <th>1</th>\n      <td>João</td>\n      <td>19</td>\n      <td>Rua A</td>\n      <td>Rio de Janeiro</td>\n      <td>10</td>\n      <td>Sim</td>\n      <td>M</td>\n    </tr>\n    <tr>\n      <th>2</th>\n      <td>Maria</td>\n      <td>17</td>\n      <td>Rua 8</td>\n      <td>São Paulo</td>\n      <td>8</td>\n      <td>Sim</td>\n      <td>F</td>\n    </tr>\n    <tr>\n      <th>3</th>\n      <td>Junior</td>\n      <td>17</td>\n      <td>Rua 8</td>\n      <td>São Paulo</td>\n      <td>4</td>\n      <td>Não</td>\n      <td>M</td>\n    </tr>\n    <tr>\n      <th>4</th>\n      <td>Carlos</td>\n      <td>18</td>\n      <td>Rua 10</td>\n      <td>Belo Horizonte</td>\n      <td>9</td>\n      <td>Sim</td>\n      <td>M</td>\n    </tr>\n    <tr>\n      <th>5</th>\n      <td>Robento</td>\n      <td>22</td>\n      <td>Rua 19</td>\n      <td>Santa Catarina</td>\n      <td>6</td>\n      <td>Sim</td>\n      <td>M</td>\n    </tr>\n    <tr>\n      <th>6</th>\n      <td>Carla</td>\n      <td>18</td>\n      <td>Rua 10</td>\n      <td>Maranhao</td>\n      <td>10</td>\n      <td>Sim</td>\n      <td>F</td>\n    </tr>\n    <tr>\n      <th>7</th>\n      <td>Renata</td>\n      <td>23</td>\n      <td>Rua 20</td>\n      <td>Curitiba</td>\n      <td>8</td>\n      <td>Sim</td>\n      <td>F</td>\n    </tr>\n  </tbody>\n</table>\n</div>"
     },
     "metadata": {},
     "execution_count": 81
    }
   ],
   "source": [
    "aluno"
   ]
  },
  {
   "cell_type": "code",
   "execution_count": 82,
   "metadata": {},
   "outputs": [],
   "source": [
    "# Exportando para excel\n",
    "aluno.to_excel(\"data/alunos-excel.xlsx\")"
   ]
  },
  {
   "cell_type": "code",
   "execution_count": 83,
   "metadata": {},
   "outputs": [],
   "source": [
    "# Ler do excel que acabou de ser criado\n",
    "dados = pd.read_excel(\"data/alunos-excel.xlsx\")"
   ]
  },
  {
   "cell_type": "code",
   "execution_count": 84,
   "metadata": {},
   "outputs": [
    {
     "output_type": "execute_result",
     "data": {
      "text/plain": "   Unnamed: 0     Nome  Idade Endereço           Cidade  Nota Aprovação Sexo\n0           0    Renan     18   Rua 10         Maranhao     0       Não    M\n1           1     João     19    Rua A   Rio de Janeiro    10       Sim    M\n2           2   Maria      17    Rua 8       São Paulo      8      Sim     F\n3           3  Junior      17    Rua 8       São Paulo      4       Não    M\n4           4   Carlos     18   Rua 10  Belo Horizonte      9      Sim     M\n5           5  Robento     22   Rua 19  Santa Catarina      6      Sim     M\n6           6   Carla      18   Rua 10         Maranhao    10      Sim     F\n7           7   Renata     23   Rua 20         Curitiba     8      Sim     F",
      "text/html": "<div>\n<style scoped>\n    .dataframe tbody tr th:only-of-type {\n        vertical-align: middle;\n    }\n\n    .dataframe tbody tr th {\n        vertical-align: top;\n    }\n\n    .dataframe thead th {\n        text-align: right;\n    }\n</style>\n<table border=\"1\" class=\"dataframe\">\n  <thead>\n    <tr style=\"text-align: right;\">\n      <th></th>\n      <th>Unnamed: 0</th>\n      <th>Nome</th>\n      <th>Idade</th>\n      <th>Endereço</th>\n      <th>Cidade</th>\n      <th>Nota</th>\n      <th>Aprovação</th>\n      <th>Sexo</th>\n    </tr>\n  </thead>\n  <tbody>\n    <tr>\n      <th>0</th>\n      <td>0</td>\n      <td>Renan</td>\n      <td>18</td>\n      <td>Rua 10</td>\n      <td>Maranhao</td>\n      <td>0</td>\n      <td>Não</td>\n      <td>M</td>\n    </tr>\n    <tr>\n      <th>1</th>\n      <td>1</td>\n      <td>João</td>\n      <td>19</td>\n      <td>Rua A</td>\n      <td>Rio de Janeiro</td>\n      <td>10</td>\n      <td>Sim</td>\n      <td>M</td>\n    </tr>\n    <tr>\n      <th>2</th>\n      <td>2</td>\n      <td>Maria</td>\n      <td>17</td>\n      <td>Rua 8</td>\n      <td>São Paulo</td>\n      <td>8</td>\n      <td>Sim</td>\n      <td>F</td>\n    </tr>\n    <tr>\n      <th>3</th>\n      <td>3</td>\n      <td>Junior</td>\n      <td>17</td>\n      <td>Rua 8</td>\n      <td>São Paulo</td>\n      <td>4</td>\n      <td>Não</td>\n      <td>M</td>\n    </tr>\n    <tr>\n      <th>4</th>\n      <td>4</td>\n      <td>Carlos</td>\n      <td>18</td>\n      <td>Rua 10</td>\n      <td>Belo Horizonte</td>\n      <td>9</td>\n      <td>Sim</td>\n      <td>M</td>\n    </tr>\n    <tr>\n      <th>5</th>\n      <td>5</td>\n      <td>Robento</td>\n      <td>22</td>\n      <td>Rua 19</td>\n      <td>Santa Catarina</td>\n      <td>6</td>\n      <td>Sim</td>\n      <td>M</td>\n    </tr>\n    <tr>\n      <th>6</th>\n      <td>6</td>\n      <td>Carla</td>\n      <td>18</td>\n      <td>Rua 10</td>\n      <td>Maranhao</td>\n      <td>10</td>\n      <td>Sim</td>\n      <td>F</td>\n    </tr>\n    <tr>\n      <th>7</th>\n      <td>7</td>\n      <td>Renata</td>\n      <td>23</td>\n      <td>Rua 20</td>\n      <td>Curitiba</td>\n      <td>8</td>\n      <td>Sim</td>\n      <td>F</td>\n    </tr>\n  </tbody>\n</table>\n</div>"
     },
     "metadata": {},
     "execution_count": 84
    }
   ],
   "source": [
    "dados"
   ]
  },
  {
   "cell_type": "code",
   "execution_count": 85,
   "metadata": {},
   "outputs": [
    {
     "output_type": "execute_result",
     "data": {
      "text/plain": "0      Renan\n1       João\n2     Maria \n3    Junior \n4     Carlos\n5    Robento\n6     Carla \n7     Renata\nName: Nome, dtype: object"
     },
     "metadata": {},
     "execution_count": 85
    }
   ],
   "source": [
    "dados[\"Nome\"]"
   ]
  },
  {
   "cell_type": "code",
   "execution_count": 86,
   "metadata": {},
   "outputs": [
    {
     "output_type": "execute_result",
     "data": {
      "text/plain": "      Nome  Nota Sexo\n0    Renan     0    M\n1     João    10    M\n2   Maria      8    F\n3  Junior      4    M\n4   Carlos     9    M\n5  Robento     6    M\n6   Carla     10    F\n7   Renata     8    F",
      "text/html": "<div>\n<style scoped>\n    .dataframe tbody tr th:only-of-type {\n        vertical-align: middle;\n    }\n\n    .dataframe tbody tr th {\n        vertical-align: top;\n    }\n\n    .dataframe thead th {\n        text-align: right;\n    }\n</style>\n<table border=\"1\" class=\"dataframe\">\n  <thead>\n    <tr style=\"text-align: right;\">\n      <th></th>\n      <th>Nome</th>\n      <th>Nota</th>\n      <th>Sexo</th>\n    </tr>\n  </thead>\n  <tbody>\n    <tr>\n      <th>0</th>\n      <td>Renan</td>\n      <td>0</td>\n      <td>M</td>\n    </tr>\n    <tr>\n      <th>1</th>\n      <td>João</td>\n      <td>10</td>\n      <td>M</td>\n    </tr>\n    <tr>\n      <th>2</th>\n      <td>Maria</td>\n      <td>8</td>\n      <td>F</td>\n    </tr>\n    <tr>\n      <th>3</th>\n      <td>Junior</td>\n      <td>4</td>\n      <td>M</td>\n    </tr>\n    <tr>\n      <th>4</th>\n      <td>Carlos</td>\n      <td>9</td>\n      <td>M</td>\n    </tr>\n    <tr>\n      <th>5</th>\n      <td>Robento</td>\n      <td>6</td>\n      <td>M</td>\n    </tr>\n    <tr>\n      <th>6</th>\n      <td>Carla</td>\n      <td>10</td>\n      <td>F</td>\n    </tr>\n    <tr>\n      <th>7</th>\n      <td>Renata</td>\n      <td>8</td>\n      <td>F</td>\n    </tr>\n  </tbody>\n</table>\n</div>"
     },
     "metadata": {},
     "execution_count": 86
    }
   ],
   "source": [
    "dados[[\"Nome\", \"Nota\", \"Sexo\"]]"
   ]
  },
  {
   "cell_type": "code",
   "execution_count": 87,
   "metadata": {},
   "outputs": [
    {
     "output_type": "execute_result",
     "data": {
      "text/plain": "   Unnamed: 0   Nome  Idade Endereço    Cidade  Nota Aprovação Sexo\n0           0  Renan     18   Rua 10  Maranhao     0       Não    M",
      "text/html": "<div>\n<style scoped>\n    .dataframe tbody tr th:only-of-type {\n        vertical-align: middle;\n    }\n\n    .dataframe tbody tr th {\n        vertical-align: top;\n    }\n\n    .dataframe thead th {\n        text-align: right;\n    }\n</style>\n<table border=\"1\" class=\"dataframe\">\n  <thead>\n    <tr style=\"text-align: right;\">\n      <th></th>\n      <th>Unnamed: 0</th>\n      <th>Nome</th>\n      <th>Idade</th>\n      <th>Endereço</th>\n      <th>Cidade</th>\n      <th>Nota</th>\n      <th>Aprovação</th>\n      <th>Sexo</th>\n    </tr>\n  </thead>\n  <tbody>\n    <tr>\n      <th>0</th>\n      <td>0</td>\n      <td>Renan</td>\n      <td>18</td>\n      <td>Rua 10</td>\n      <td>Maranhao</td>\n      <td>0</td>\n      <td>Não</td>\n      <td>M</td>\n    </tr>\n  </tbody>\n</table>\n</div>"
     },
     "metadata": {},
     "execution_count": 87
    }
   ],
   "source": [
    "# Localização por índices - Linha\n",
    "dados.loc[[0]]"
   ]
  },
  {
   "cell_type": "code",
   "execution_count": 88,
   "metadata": {},
   "outputs": [
    {
     "output_type": "execute_result",
     "data": {
      "text/plain": "   Unnamed: 0    Nome  Idade Endereço    Cidade  Nota Aprovação Sexo\n7           7  Renata     23   Rua 20  Curitiba     8      Sim     F",
      "text/html": "<div>\n<style scoped>\n    .dataframe tbody tr th:only-of-type {\n        vertical-align: middle;\n    }\n\n    .dataframe tbody tr th {\n        vertical-align: top;\n    }\n\n    .dataframe thead th {\n        text-align: right;\n    }\n</style>\n<table border=\"1\" class=\"dataframe\">\n  <thead>\n    <tr style=\"text-align: right;\">\n      <th></th>\n      <th>Unnamed: 0</th>\n      <th>Nome</th>\n      <th>Idade</th>\n      <th>Endereço</th>\n      <th>Cidade</th>\n      <th>Nota</th>\n      <th>Aprovação</th>\n      <th>Sexo</th>\n    </tr>\n  </thead>\n  <tbody>\n    <tr>\n      <th>7</th>\n      <td>7</td>\n      <td>Renata</td>\n      <td>23</td>\n      <td>Rua 20</td>\n      <td>Curitiba</td>\n      <td>8</td>\n      <td>Sim</td>\n      <td>F</td>\n    </tr>\n  </tbody>\n</table>\n</div>"
     },
     "metadata": {},
     "execution_count": 88
    }
   ],
   "source": [
    "# Apenas linha 7\n",
    "dados.loc[[7]]"
   ]
  },
  {
   "cell_type": "code",
   "execution_count": 89,
   "metadata": {},
   "outputs": [
    {
     "output_type": "execute_result",
     "data": {
      "text/plain": "   Unnamed: 0     Nome  Idade Endereço          Cidade  Nota Aprovação Sexo\n0           0    Renan     18   Rua 10        Maranhao     0       Não    M\n1           1     João     19    Rua A  Rio de Janeiro    10       Sim    M\n2           2   Maria      17    Rua 8      São Paulo      8      Sim     F\n3           3  Junior      17    Rua 8      São Paulo      4       Não    M",
      "text/html": "<div>\n<style scoped>\n    .dataframe tbody tr th:only-of-type {\n        vertical-align: middle;\n    }\n\n    .dataframe tbody tr th {\n        vertical-align: top;\n    }\n\n    .dataframe thead th {\n        text-align: right;\n    }\n</style>\n<table border=\"1\" class=\"dataframe\">\n  <thead>\n    <tr style=\"text-align: right;\">\n      <th></th>\n      <th>Unnamed: 0</th>\n      <th>Nome</th>\n      <th>Idade</th>\n      <th>Endereço</th>\n      <th>Cidade</th>\n      <th>Nota</th>\n      <th>Aprovação</th>\n      <th>Sexo</th>\n    </tr>\n  </thead>\n  <tbody>\n    <tr>\n      <th>0</th>\n      <td>0</td>\n      <td>Renan</td>\n      <td>18</td>\n      <td>Rua 10</td>\n      <td>Maranhao</td>\n      <td>0</td>\n      <td>Não</td>\n      <td>M</td>\n    </tr>\n    <tr>\n      <th>1</th>\n      <td>1</td>\n      <td>João</td>\n      <td>19</td>\n      <td>Rua A</td>\n      <td>Rio de Janeiro</td>\n      <td>10</td>\n      <td>Sim</td>\n      <td>M</td>\n    </tr>\n    <tr>\n      <th>2</th>\n      <td>2</td>\n      <td>Maria</td>\n      <td>17</td>\n      <td>Rua 8</td>\n      <td>São Paulo</td>\n      <td>8</td>\n      <td>Sim</td>\n      <td>F</td>\n    </tr>\n    <tr>\n      <th>3</th>\n      <td>3</td>\n      <td>Junior</td>\n      <td>17</td>\n      <td>Rua 8</td>\n      <td>São Paulo</td>\n      <td>4</td>\n      <td>Não</td>\n      <td>M</td>\n    </tr>\n  </tbody>\n</table>\n</div>"
     },
     "metadata": {},
     "execution_count": 89
    }
   ],
   "source": [
    "# Intervalo de linhas\n",
    "dados.loc[0:3]"
   ]
  },
  {
   "cell_type": "code",
   "execution_count": 90,
   "metadata": {},
   "outputs": [
    {
     "output_type": "execute_result",
     "data": {
      "text/plain": "   Unnamed: 0    Nome  Idade Endereço           Cidade  Nota Aprovação Sexo\n0           0   Renan     18   Rua 10         Maranhao     0       Não    M\n2           2  Maria      17    Rua 8       São Paulo      8      Sim     F\n4           4  Carlos     18   Rua 10  Belo Horizonte      9      Sim     M",
      "text/html": "<div>\n<style scoped>\n    .dataframe tbody tr th:only-of-type {\n        vertical-align: middle;\n    }\n\n    .dataframe tbody tr th {\n        vertical-align: top;\n    }\n\n    .dataframe thead th {\n        text-align: right;\n    }\n</style>\n<table border=\"1\" class=\"dataframe\">\n  <thead>\n    <tr style=\"text-align: right;\">\n      <th></th>\n      <th>Unnamed: 0</th>\n      <th>Nome</th>\n      <th>Idade</th>\n      <th>Endereço</th>\n      <th>Cidade</th>\n      <th>Nota</th>\n      <th>Aprovação</th>\n      <th>Sexo</th>\n    </tr>\n  </thead>\n  <tbody>\n    <tr>\n      <th>0</th>\n      <td>0</td>\n      <td>Renan</td>\n      <td>18</td>\n      <td>Rua 10</td>\n      <td>Maranhao</td>\n      <td>0</td>\n      <td>Não</td>\n      <td>M</td>\n    </tr>\n    <tr>\n      <th>2</th>\n      <td>2</td>\n      <td>Maria</td>\n      <td>17</td>\n      <td>Rua 8</td>\n      <td>São Paulo</td>\n      <td>8</td>\n      <td>Sim</td>\n      <td>F</td>\n    </tr>\n    <tr>\n      <th>4</th>\n      <td>4</td>\n      <td>Carlos</td>\n      <td>18</td>\n      <td>Rua 10</td>\n      <td>Belo Horizonte</td>\n      <td>9</td>\n      <td>Sim</td>\n      <td>M</td>\n    </tr>\n  </tbody>\n</table>\n</div>"
     },
     "metadata": {},
     "execution_count": 90
    }
   ],
   "source": [
    "# Intervalo de linhas com passo de 2\n",
    "dados.loc[0:5:2]"
   ]
  },
  {
   "cell_type": "code",
   "execution_count": 91,
   "metadata": {},
   "outputs": [],
   "source": [
    "# Criando novos dados\n",
    "NewData = {\n",
    "    \"Nome\":[\"Tiago\", \"João\", \"Maria\"],\n",
    "    \"Idade\": [\"18\", \"15\", \"23\"]\n",
    "}"
   ]
  },
  {
   "cell_type": "code",
   "execution_count": 92,
   "metadata": {},
   "outputs": [
    {
     "output_type": "execute_result",
     "data": {
      "text/plain": "{&#39;Nome&#39;: [&#39;Tiago&#39;, &#39;João&#39;, &#39;Maria&#39;], &#39;Idade&#39;: [&#39;18&#39;, &#39;15&#39;, &#39;23&#39;]}"
     },
     "metadata": {},
     "execution_count": 92
    }
   ],
   "source": [
    "NewData"
   ]
  },
  {
   "cell_type": "code",
   "execution_count": 93,
   "metadata": {},
   "outputs": [],
   "source": [
    "# Criando novo dataframe\n",
    "nomes = pd.DataFrame(NewData)"
   ]
  },
  {
   "cell_type": "code",
   "execution_count": 94,
   "metadata": {},
   "outputs": [
    {
     "output_type": "execute_result",
     "data": {
      "text/plain": "    Nome Idade\n0  Tiago    18\n1   João    15\n2  Maria    23",
      "text/html": "<div>\n<style scoped>\n    .dataframe tbody tr th:only-of-type {\n        vertical-align: middle;\n    }\n\n    .dataframe tbody tr th {\n        vertical-align: top;\n    }\n\n    .dataframe thead th {\n        text-align: right;\n    }\n</style>\n<table border=\"1\" class=\"dataframe\">\n  <thead>\n    <tr style=\"text-align: right;\">\n      <th></th>\n      <th>Nome</th>\n      <th>Idade</th>\n    </tr>\n  </thead>\n  <tbody>\n    <tr>\n      <th>0</th>\n      <td>Tiago</td>\n      <td>18</td>\n    </tr>\n    <tr>\n      <th>1</th>\n      <td>João</td>\n      <td>15</td>\n    </tr>\n    <tr>\n      <th>2</th>\n      <td>Maria</td>\n      <td>23</td>\n    </tr>\n  </tbody>\n</table>\n</div>"
     },
     "metadata": {},
     "execution_count": 94
    }
   ],
   "source": [
    "nomes"
   ]
  },
  {
   "cell_type": "code",
   "execution_count": 95,
   "metadata": {},
   "outputs": [],
   "source": [
    "nomes.to_excel(\"data/nome.xlsx\")"
   ]
  },
  {
   "cell_type": "code",
   "execution_count": 96,
   "metadata": {},
   "outputs": [
    {
     "output_type": "execute_result",
     "data": {
      "text/plain": "   Unnamed: 0     Nome  Idade Endereço           Cidade  Nota Aprovado Sexo\n0           0    Renan     18   Rua 10         Maranhao     0      Não    M\n1           1     João     19    Rua A   Rio de Janeiro    10      Sim    M\n2           2   Maria      17    Rua 8       São Paulo      8     Sim     F\n3           3  Junior      17    Rua 8       São Paulo      4      Não    M\n4           4   Carlos     18   Rua 10  Belo Horizonte      9     Sim     M\n5           5  Robento     22   Rua 19  Santa Catarina      6     Sim     M\n6           6   Carla      18   Rua 10         Maranhao    10     Sim     F\n7           7   Renata     23   Rua 20         Curitiba     8     Sim     F",
      "text/html": "<div>\n<style scoped>\n    .dataframe tbody tr th:only-of-type {\n        vertical-align: middle;\n    }\n\n    .dataframe tbody tr th {\n        vertical-align: top;\n    }\n\n    .dataframe thead th {\n        text-align: right;\n    }\n</style>\n<table border=\"1\" class=\"dataframe\">\n  <thead>\n    <tr style=\"text-align: right;\">\n      <th></th>\n      <th>Unnamed: 0</th>\n      <th>Nome</th>\n      <th>Idade</th>\n      <th>Endereço</th>\n      <th>Cidade</th>\n      <th>Nota</th>\n      <th>Aprovado</th>\n      <th>Sexo</th>\n    </tr>\n  </thead>\n  <tbody>\n    <tr>\n      <th>0</th>\n      <td>0</td>\n      <td>Renan</td>\n      <td>18</td>\n      <td>Rua 10</td>\n      <td>Maranhao</td>\n      <td>0</td>\n      <td>Não</td>\n      <td>M</td>\n    </tr>\n    <tr>\n      <th>1</th>\n      <td>1</td>\n      <td>João</td>\n      <td>19</td>\n      <td>Rua A</td>\n      <td>Rio de Janeiro</td>\n      <td>10</td>\n      <td>Sim</td>\n      <td>M</td>\n    </tr>\n    <tr>\n      <th>2</th>\n      <td>2</td>\n      <td>Maria</td>\n      <td>17</td>\n      <td>Rua 8</td>\n      <td>São Paulo</td>\n      <td>8</td>\n      <td>Sim</td>\n      <td>F</td>\n    </tr>\n    <tr>\n      <th>3</th>\n      <td>3</td>\n      <td>Junior</td>\n      <td>17</td>\n      <td>Rua 8</td>\n      <td>São Paulo</td>\n      <td>4</td>\n      <td>Não</td>\n      <td>M</td>\n    </tr>\n    <tr>\n      <th>4</th>\n      <td>4</td>\n      <td>Carlos</td>\n      <td>18</td>\n      <td>Rua 10</td>\n      <td>Belo Horizonte</td>\n      <td>9</td>\n      <td>Sim</td>\n      <td>M</td>\n    </tr>\n    <tr>\n      <th>5</th>\n      <td>5</td>\n      <td>Robento</td>\n      <td>22</td>\n      <td>Rua 19</td>\n      <td>Santa Catarina</td>\n      <td>6</td>\n      <td>Sim</td>\n      <td>M</td>\n    </tr>\n    <tr>\n      <th>6</th>\n      <td>6</td>\n      <td>Carla</td>\n      <td>18</td>\n      <td>Rua 10</td>\n      <td>Maranhao</td>\n      <td>10</td>\n      <td>Sim</td>\n      <td>F</td>\n    </tr>\n    <tr>\n      <th>7</th>\n      <td>7</td>\n      <td>Renata</td>\n      <td>23</td>\n      <td>Rua 20</td>\n      <td>Curitiba</td>\n      <td>8</td>\n      <td>Sim</td>\n      <td>F</td>\n    </tr>\n  </tbody>\n</table>\n</div>"
     },
     "metadata": {},
     "execution_count": 96
    }
   ],
   "source": [
    "# Alteração temporária\n",
    "dados.rename(columns={\"Aprovação\":\"Aprovado\"})"
   ]
  },
  {
   "cell_type": "code",
   "execution_count": 97,
   "metadata": {},
   "outputs": [
    {
     "output_type": "execute_result",
     "data": {
      "text/plain": "   Unnamed: 0     Nome  Idade Endereço           Cidade  Nota Aprovação Sexo\n0           0    Renan     18   Rua 10         Maranhao     0       Não    M\n1           1     João     19    Rua A   Rio de Janeiro    10       Sim    M\n2           2   Maria      17    Rua 8       São Paulo      8      Sim     F\n3           3  Junior      17    Rua 8       São Paulo      4       Não    M\n4           4   Carlos     18   Rua 10  Belo Horizonte      9      Sim     M\n5           5  Robento     22   Rua 19  Santa Catarina      6      Sim     M\n6           6   Carla      18   Rua 10         Maranhao    10      Sim     F\n7           7   Renata     23   Rua 20         Curitiba     8      Sim     F",
      "text/html": "<div>\n<style scoped>\n    .dataframe tbody tr th:only-of-type {\n        vertical-align: middle;\n    }\n\n    .dataframe tbody tr th {\n        vertical-align: top;\n    }\n\n    .dataframe thead th {\n        text-align: right;\n    }\n</style>\n<table border=\"1\" class=\"dataframe\">\n  <thead>\n    <tr style=\"text-align: right;\">\n      <th></th>\n      <th>Unnamed: 0</th>\n      <th>Nome</th>\n      <th>Idade</th>\n      <th>Endereço</th>\n      <th>Cidade</th>\n      <th>Nota</th>\n      <th>Aprovação</th>\n      <th>Sexo</th>\n    </tr>\n  </thead>\n  <tbody>\n    <tr>\n      <th>0</th>\n      <td>0</td>\n      <td>Renan</td>\n      <td>18</td>\n      <td>Rua 10</td>\n      <td>Maranhao</td>\n      <td>0</td>\n      <td>Não</td>\n      <td>M</td>\n    </tr>\n    <tr>\n      <th>1</th>\n      <td>1</td>\n      <td>João</td>\n      <td>19</td>\n      <td>Rua A</td>\n      <td>Rio de Janeiro</td>\n      <td>10</td>\n      <td>Sim</td>\n      <td>M</td>\n    </tr>\n    <tr>\n      <th>2</th>\n      <td>2</td>\n      <td>Maria</td>\n      <td>17</td>\n      <td>Rua 8</td>\n      <td>São Paulo</td>\n      <td>8</td>\n      <td>Sim</td>\n      <td>F</td>\n    </tr>\n    <tr>\n      <th>3</th>\n      <td>3</td>\n      <td>Junior</td>\n      <td>17</td>\n      <td>Rua 8</td>\n      <td>São Paulo</td>\n      <td>4</td>\n      <td>Não</td>\n      <td>M</td>\n    </tr>\n    <tr>\n      <th>4</th>\n      <td>4</td>\n      <td>Carlos</td>\n      <td>18</td>\n      <td>Rua 10</td>\n      <td>Belo Horizonte</td>\n      <td>9</td>\n      <td>Sim</td>\n      <td>M</td>\n    </tr>\n    <tr>\n      <th>5</th>\n      <td>5</td>\n      <td>Robento</td>\n      <td>22</td>\n      <td>Rua 19</td>\n      <td>Santa Catarina</td>\n      <td>6</td>\n      <td>Sim</td>\n      <td>M</td>\n    </tr>\n    <tr>\n      <th>6</th>\n      <td>6</td>\n      <td>Carla</td>\n      <td>18</td>\n      <td>Rua 10</td>\n      <td>Maranhao</td>\n      <td>10</td>\n      <td>Sim</td>\n      <td>F</td>\n    </tr>\n    <tr>\n      <th>7</th>\n      <td>7</td>\n      <td>Renata</td>\n      <td>23</td>\n      <td>Rua 20</td>\n      <td>Curitiba</td>\n      <td>8</td>\n      <td>Sim</td>\n      <td>F</td>\n    </tr>\n  </tbody>\n</table>\n</div>"
     },
     "metadata": {},
     "execution_count": 97
    }
   ],
   "source": [
    "dados"
   ]
  },
  {
   "cell_type": "code",
   "execution_count": 98,
   "metadata": {},
   "outputs": [],
   "source": [
    "# Alteração permanente\n",
    "dados.rename(columns={\"Aprovação\":\"Aprovado\"}, inplace=True)"
   ]
  },
  {
   "cell_type": "code",
   "execution_count": 99,
   "metadata": {},
   "outputs": [
    {
     "output_type": "execute_result",
     "data": {
      "text/plain": "   Unnamed: 0     Nome  Idade Endereço           Cidade  Nota Aprovado Sexo\n0           0    Renan     18   Rua 10         Maranhao     0      Não    M\n1           1     João     19    Rua A   Rio de Janeiro    10      Sim    M\n2           2   Maria      17    Rua 8       São Paulo      8     Sim     F\n3           3  Junior      17    Rua 8       São Paulo      4      Não    M\n4           4   Carlos     18   Rua 10  Belo Horizonte      9     Sim     M\n5           5  Robento     22   Rua 19  Santa Catarina      6     Sim     M\n6           6   Carla      18   Rua 10         Maranhao    10     Sim     F\n7           7   Renata     23   Rua 20         Curitiba     8     Sim     F",
      "text/html": "<div>\n<style scoped>\n    .dataframe tbody tr th:only-of-type {\n        vertical-align: middle;\n    }\n\n    .dataframe tbody tr th {\n        vertical-align: top;\n    }\n\n    .dataframe thead th {\n        text-align: right;\n    }\n</style>\n<table border=\"1\" class=\"dataframe\">\n  <thead>\n    <tr style=\"text-align: right;\">\n      <th></th>\n      <th>Unnamed: 0</th>\n      <th>Nome</th>\n      <th>Idade</th>\n      <th>Endereço</th>\n      <th>Cidade</th>\n      <th>Nota</th>\n      <th>Aprovado</th>\n      <th>Sexo</th>\n    </tr>\n  </thead>\n  <tbody>\n    <tr>\n      <th>0</th>\n      <td>0</td>\n      <td>Renan</td>\n      <td>18</td>\n      <td>Rua 10</td>\n      <td>Maranhao</td>\n      <td>0</td>\n      <td>Não</td>\n      <td>M</td>\n    </tr>\n    <tr>\n      <th>1</th>\n      <td>1</td>\n      <td>João</td>\n      <td>19</td>\n      <td>Rua A</td>\n      <td>Rio de Janeiro</td>\n      <td>10</td>\n      <td>Sim</td>\n      <td>M</td>\n    </tr>\n    <tr>\n      <th>2</th>\n      <td>2</td>\n      <td>Maria</td>\n      <td>17</td>\n      <td>Rua 8</td>\n      <td>São Paulo</td>\n      <td>8</td>\n      <td>Sim</td>\n      <td>F</td>\n    </tr>\n    <tr>\n      <th>3</th>\n      <td>3</td>\n      <td>Junior</td>\n      <td>17</td>\n      <td>Rua 8</td>\n      <td>São Paulo</td>\n      <td>4</td>\n      <td>Não</td>\n      <td>M</td>\n    </tr>\n    <tr>\n      <th>4</th>\n      <td>4</td>\n      <td>Carlos</td>\n      <td>18</td>\n      <td>Rua 10</td>\n      <td>Belo Horizonte</td>\n      <td>9</td>\n      <td>Sim</td>\n      <td>M</td>\n    </tr>\n    <tr>\n      <th>5</th>\n      <td>5</td>\n      <td>Robento</td>\n      <td>22</td>\n      <td>Rua 19</td>\n      <td>Santa Catarina</td>\n      <td>6</td>\n      <td>Sim</td>\n      <td>M</td>\n    </tr>\n    <tr>\n      <th>6</th>\n      <td>6</td>\n      <td>Carla</td>\n      <td>18</td>\n      <td>Rua 10</td>\n      <td>Maranhao</td>\n      <td>10</td>\n      <td>Sim</td>\n      <td>F</td>\n    </tr>\n    <tr>\n      <th>7</th>\n      <td>7</td>\n      <td>Renata</td>\n      <td>23</td>\n      <td>Rua 20</td>\n      <td>Curitiba</td>\n      <td>8</td>\n      <td>Sim</td>\n      <td>F</td>\n    </tr>\n  </tbody>\n</table>\n</div>"
     },
     "metadata": {},
     "execution_count": 99
    }
   ],
   "source": [
    "dados"
   ]
  },
  {
   "cell_type": "code",
   "execution_count": 100,
   "metadata": {},
   "outputs": [
    {
     "output_type": "execute_result",
     "data": {
      "text/plain": "   Unnamed: 0  Idade Endereço           Cidade  Nota Aprovado Sexo\n0           0     18   Rua 10         Maranhao     0      Não    M\n1           1     19    Rua A   Rio de Janeiro    10      Sim    M\n2           2     17    Rua 8       São Paulo      8     Sim     F\n3           3     17    Rua 8       São Paulo      4      Não    M\n4           4     18   Rua 10  Belo Horizonte      9     Sim     M\n5           5     22   Rua 19  Santa Catarina      6     Sim     M\n6           6     18   Rua 10         Maranhao    10     Sim     F\n7           7     23   Rua 20         Curitiba     8     Sim     F",
      "text/html": "<div>\n<style scoped>\n    .dataframe tbody tr th:only-of-type {\n        vertical-align: middle;\n    }\n\n    .dataframe tbody tr th {\n        vertical-align: top;\n    }\n\n    .dataframe thead th {\n        text-align: right;\n    }\n</style>\n<table border=\"1\" class=\"dataframe\">\n  <thead>\n    <tr style=\"text-align: right;\">\n      <th></th>\n      <th>Unnamed: 0</th>\n      <th>Idade</th>\n      <th>Endereço</th>\n      <th>Cidade</th>\n      <th>Nota</th>\n      <th>Aprovado</th>\n      <th>Sexo</th>\n    </tr>\n  </thead>\n  <tbody>\n    <tr>\n      <th>0</th>\n      <td>0</td>\n      <td>18</td>\n      <td>Rua 10</td>\n      <td>Maranhao</td>\n      <td>0</td>\n      <td>Não</td>\n      <td>M</td>\n    </tr>\n    <tr>\n      <th>1</th>\n      <td>1</td>\n      <td>19</td>\n      <td>Rua A</td>\n      <td>Rio de Janeiro</td>\n      <td>10</td>\n      <td>Sim</td>\n      <td>M</td>\n    </tr>\n    <tr>\n      <th>2</th>\n      <td>2</td>\n      <td>17</td>\n      <td>Rua 8</td>\n      <td>São Paulo</td>\n      <td>8</td>\n      <td>Sim</td>\n      <td>F</td>\n    </tr>\n    <tr>\n      <th>3</th>\n      <td>3</td>\n      <td>17</td>\n      <td>Rua 8</td>\n      <td>São Paulo</td>\n      <td>4</td>\n      <td>Não</td>\n      <td>M</td>\n    </tr>\n    <tr>\n      <th>4</th>\n      <td>4</td>\n      <td>18</td>\n      <td>Rua 10</td>\n      <td>Belo Horizonte</td>\n      <td>9</td>\n      <td>Sim</td>\n      <td>M</td>\n    </tr>\n    <tr>\n      <th>5</th>\n      <td>5</td>\n      <td>22</td>\n      <td>Rua 19</td>\n      <td>Santa Catarina</td>\n      <td>6</td>\n      <td>Sim</td>\n      <td>M</td>\n    </tr>\n    <tr>\n      <th>6</th>\n      <td>6</td>\n      <td>18</td>\n      <td>Rua 10</td>\n      <td>Maranhao</td>\n      <td>10</td>\n      <td>Sim</td>\n      <td>F</td>\n    </tr>\n    <tr>\n      <th>7</th>\n      <td>7</td>\n      <td>23</td>\n      <td>Rua 20</td>\n      <td>Curitiba</td>\n      <td>8</td>\n      <td>Sim</td>\n      <td>F</td>\n    </tr>\n  </tbody>\n</table>\n</div>"
     },
     "metadata": {},
     "execution_count": 100
    }
   ],
   "source": [
    "# Deletar toda a coluna \"Name\" -> axis=1\n",
    "dados.drop(\"Nome\", axis=1)"
   ]
  },
  {
   "cell_type": "code",
   "execution_count": 101,
   "metadata": {},
   "outputs": [
    {
     "output_type": "execute_result",
     "data": {
      "text/plain": "   Unnamed: 0     Nome  Idade Endereço           Cidade  Nota Aprovado Sexo\n0           0    Renan     18   Rua 10         Maranhao     0      Não    M\n2           2   Maria      17    Rua 8       São Paulo      8     Sim     F\n3           3  Junior      17    Rua 8       São Paulo      4      Não    M\n4           4   Carlos     18   Rua 10  Belo Horizonte      9     Sim     M\n5           5  Robento     22   Rua 19  Santa Catarina      6     Sim     M\n6           6   Carla      18   Rua 10         Maranhao    10     Sim     F\n7           7   Renata     23   Rua 20         Curitiba     8     Sim     F",
      "text/html": "<div>\n<style scoped>\n    .dataframe tbody tr th:only-of-type {\n        vertical-align: middle;\n    }\n\n    .dataframe tbody tr th {\n        vertical-align: top;\n    }\n\n    .dataframe thead th {\n        text-align: right;\n    }\n</style>\n<table border=\"1\" class=\"dataframe\">\n  <thead>\n    <tr style=\"text-align: right;\">\n      <th></th>\n      <th>Unnamed: 0</th>\n      <th>Nome</th>\n      <th>Idade</th>\n      <th>Endereço</th>\n      <th>Cidade</th>\n      <th>Nota</th>\n      <th>Aprovado</th>\n      <th>Sexo</th>\n    </tr>\n  </thead>\n  <tbody>\n    <tr>\n      <th>0</th>\n      <td>0</td>\n      <td>Renan</td>\n      <td>18</td>\n      <td>Rua 10</td>\n      <td>Maranhao</td>\n      <td>0</td>\n      <td>Não</td>\n      <td>M</td>\n    </tr>\n    <tr>\n      <th>2</th>\n      <td>2</td>\n      <td>Maria</td>\n      <td>17</td>\n      <td>Rua 8</td>\n      <td>São Paulo</td>\n      <td>8</td>\n      <td>Sim</td>\n      <td>F</td>\n    </tr>\n    <tr>\n      <th>3</th>\n      <td>3</td>\n      <td>Junior</td>\n      <td>17</td>\n      <td>Rua 8</td>\n      <td>São Paulo</td>\n      <td>4</td>\n      <td>Não</td>\n      <td>M</td>\n    </tr>\n    <tr>\n      <th>4</th>\n      <td>4</td>\n      <td>Carlos</td>\n      <td>18</td>\n      <td>Rua 10</td>\n      <td>Belo Horizonte</td>\n      <td>9</td>\n      <td>Sim</td>\n      <td>M</td>\n    </tr>\n    <tr>\n      <th>5</th>\n      <td>5</td>\n      <td>Robento</td>\n      <td>22</td>\n      <td>Rua 19</td>\n      <td>Santa Catarina</td>\n      <td>6</td>\n      <td>Sim</td>\n      <td>M</td>\n    </tr>\n    <tr>\n      <th>6</th>\n      <td>6</td>\n      <td>Carla</td>\n      <td>18</td>\n      <td>Rua 10</td>\n      <td>Maranhao</td>\n      <td>10</td>\n      <td>Sim</td>\n      <td>F</td>\n    </tr>\n    <tr>\n      <th>7</th>\n      <td>7</td>\n      <td>Renata</td>\n      <td>23</td>\n      <td>Rua 20</td>\n      <td>Curitiba</td>\n      <td>8</td>\n      <td>Sim</td>\n      <td>F</td>\n    </tr>\n  </tbody>\n</table>\n</div>"
     },
     "metadata": {},
     "execution_count": 101
    }
   ],
   "source": [
    "dados.drop(1)"
   ]
  },
  {
   "cell_type": "code",
   "execution_count": 102,
   "metadata": {},
   "outputs": [
    {
     "output_type": "execute_result",
     "data": {
      "text/plain": "   Unnamed: 0     Nome  Idade Endereço           Cidade  Nota Aprovado Sexo\n0           0    Renan     18   Rua 10         Maranhao     0      Não    M\n1           1     João     19    Rua A   Rio de Janeiro    10      Sim    M\n3           3  Junior      17    Rua 8       São Paulo      4      Não    M\n5           5  Robento     22   Rua 19  Santa Catarina      6     Sim     M\n7           7   Renata     23   Rua 20         Curitiba     8     Sim     F",
      "text/html": "<div>\n<style scoped>\n    .dataframe tbody tr th:only-of-type {\n        vertical-align: middle;\n    }\n\n    .dataframe tbody tr th {\n        vertical-align: top;\n    }\n\n    .dataframe thead th {\n        text-align: right;\n    }\n</style>\n<table border=\"1\" class=\"dataframe\">\n  <thead>\n    <tr style=\"text-align: right;\">\n      <th></th>\n      <th>Unnamed: 0</th>\n      <th>Nome</th>\n      <th>Idade</th>\n      <th>Endereço</th>\n      <th>Cidade</th>\n      <th>Nota</th>\n      <th>Aprovado</th>\n      <th>Sexo</th>\n    </tr>\n  </thead>\n  <tbody>\n    <tr>\n      <th>0</th>\n      <td>0</td>\n      <td>Renan</td>\n      <td>18</td>\n      <td>Rua 10</td>\n      <td>Maranhao</td>\n      <td>0</td>\n      <td>Não</td>\n      <td>M</td>\n    </tr>\n    <tr>\n      <th>1</th>\n      <td>1</td>\n      <td>João</td>\n      <td>19</td>\n      <td>Rua A</td>\n      <td>Rio de Janeiro</td>\n      <td>10</td>\n      <td>Sim</td>\n      <td>M</td>\n    </tr>\n    <tr>\n      <th>3</th>\n      <td>3</td>\n      <td>Junior</td>\n      <td>17</td>\n      <td>Rua 8</td>\n      <td>São Paulo</td>\n      <td>4</td>\n      <td>Não</td>\n      <td>M</td>\n    </tr>\n    <tr>\n      <th>5</th>\n      <td>5</td>\n      <td>Robento</td>\n      <td>22</td>\n      <td>Rua 19</td>\n      <td>Santa Catarina</td>\n      <td>6</td>\n      <td>Sim</td>\n      <td>M</td>\n    </tr>\n    <tr>\n      <th>7</th>\n      <td>7</td>\n      <td>Renata</td>\n      <td>23</td>\n      <td>Rua 20</td>\n      <td>Curitiba</td>\n      <td>8</td>\n      <td>Sim</td>\n      <td>F</td>\n    </tr>\n  </tbody>\n</table>\n</div>"
     },
     "metadata": {},
     "execution_count": 102
    }
   ],
   "source": [
    "dados.drop([2,4,6])"
   ]
  },
  {
   "cell_type": "code",
   "execution_count": 103,
   "metadata": {},
   "outputs": [],
   "source": [
    "dados.drop(0, inplace=True)"
   ]
  },
  {
   "cell_type": "code",
   "execution_count": 104,
   "metadata": {},
   "outputs": [
    {
     "output_type": "execute_result",
     "data": {
      "text/plain": "   Unnamed: 0     Nome  Idade Endereço           Cidade  Nota Aprovado Sexo\n1           1     João     19    Rua A   Rio de Janeiro    10      Sim    M\n2           2   Maria      17    Rua 8       São Paulo      8     Sim     F\n3           3  Junior      17    Rua 8       São Paulo      4      Não    M\n4           4   Carlos     18   Rua 10  Belo Horizonte      9     Sim     M\n5           5  Robento     22   Rua 19  Santa Catarina      6     Sim     M\n6           6   Carla      18   Rua 10         Maranhao    10     Sim     F\n7           7   Renata     23   Rua 20         Curitiba     8     Sim     F",
      "text/html": "<div>\n<style scoped>\n    .dataframe tbody tr th:only-of-type {\n        vertical-align: middle;\n    }\n\n    .dataframe tbody tr th {\n        vertical-align: top;\n    }\n\n    .dataframe thead th {\n        text-align: right;\n    }\n</style>\n<table border=\"1\" class=\"dataframe\">\n  <thead>\n    <tr style=\"text-align: right;\">\n      <th></th>\n      <th>Unnamed: 0</th>\n      <th>Nome</th>\n      <th>Idade</th>\n      <th>Endereço</th>\n      <th>Cidade</th>\n      <th>Nota</th>\n      <th>Aprovado</th>\n      <th>Sexo</th>\n    </tr>\n  </thead>\n  <tbody>\n    <tr>\n      <th>1</th>\n      <td>1</td>\n      <td>João</td>\n      <td>19</td>\n      <td>Rua A</td>\n      <td>Rio de Janeiro</td>\n      <td>10</td>\n      <td>Sim</td>\n      <td>M</td>\n    </tr>\n    <tr>\n      <th>2</th>\n      <td>2</td>\n      <td>Maria</td>\n      <td>17</td>\n      <td>Rua 8</td>\n      <td>São Paulo</td>\n      <td>8</td>\n      <td>Sim</td>\n      <td>F</td>\n    </tr>\n    <tr>\n      <th>3</th>\n      <td>3</td>\n      <td>Junior</td>\n      <td>17</td>\n      <td>Rua 8</td>\n      <td>São Paulo</td>\n      <td>4</td>\n      <td>Não</td>\n      <td>M</td>\n    </tr>\n    <tr>\n      <th>4</th>\n      <td>4</td>\n      <td>Carlos</td>\n      <td>18</td>\n      <td>Rua 10</td>\n      <td>Belo Horizonte</td>\n      <td>9</td>\n      <td>Sim</td>\n      <td>M</td>\n    </tr>\n    <tr>\n      <th>5</th>\n      <td>5</td>\n      <td>Robento</td>\n      <td>22</td>\n      <td>Rua 19</td>\n      <td>Santa Catarina</td>\n      <td>6</td>\n      <td>Sim</td>\n      <td>M</td>\n    </tr>\n    <tr>\n      <th>6</th>\n      <td>6</td>\n      <td>Carla</td>\n      <td>18</td>\n      <td>Rua 10</td>\n      <td>Maranhao</td>\n      <td>10</td>\n      <td>Sim</td>\n      <td>F</td>\n    </tr>\n    <tr>\n      <th>7</th>\n      <td>7</td>\n      <td>Renata</td>\n      <td>23</td>\n      <td>Rua 20</td>\n      <td>Curitiba</td>\n      <td>8</td>\n      <td>Sim</td>\n      <td>F</td>\n    </tr>\n  </tbody>\n</table>\n</div>"
     },
     "metadata": {},
     "execution_count": 104
    }
   ],
   "source": [
    "dados"
   ]
  }
 ]
}