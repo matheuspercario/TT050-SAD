{
 "cells": [
  {
   "cell_type": "markdown",
   "metadata": {},
   "source": [
    "# Regressão Linear simples"
   ]
  },
  {
   "cell_type": "markdown",
   "metadata": {},
   "source": [
    "Dada uma coleção de valores numéricos que representam uma\n",
    "variável e uma variável dependente, a regressão linear simples descreve a relação\n",
    "entre essas variáveis ​​com uma linha reta, conhecida como linha de regressão.\n",
    "\n"
   ]
  },
  {
   "cell_type": "markdown",
   "metadata": {},
   "source": [
    "Considere realizar uma regressão linear simples em uma série temporal das temperaturas médias em Nova Iorque de 1895 a 2018."
   ]
  },
  {
   "cell_type": "code",
   "execution_count": 1,
   "metadata": {},
   "outputs": [],
   "source": [
    "import pandas as pd"
   ]
  },
  {
   "cell_type": "code",
   "execution_count": 2,
   "metadata": {},
   "outputs": [],
   "source": [
    "nyc = pd.read_csv('ave_hi_nyc_jan_1895-2018.csv')"
   ]
  },
  {
   "cell_type": "code",
   "execution_count": 3,
   "metadata": {},
   "outputs": [],
   "source": [
    "nyc.columns = ['Date', 'Temperature', 'Anomaly']"
   ]
  },
  {
   "cell_type": "code",
   "execution_count": 4,
   "metadata": {},
   "outputs": [],
   "source": [
    "nyc.Date = nyc.Date.floordiv(100)"
   ]
  },
  {
   "cell_type": "code",
   "execution_count": 5,
   "metadata": {
    "scrolled": true
   },
   "outputs": [
    {
     "output_type": "execute_result",
     "data": {
      "text/plain": [
       "   Date  Temperature  Anomaly\n",
       "0  1895         34.2     -3.2\n",
       "1  1896         34.7     -2.7\n",
       "2  1897         35.5     -1.9\n",
       "3  1898         39.6      2.2\n",
       "4  1899         36.4     -1.0"
      ],
      "text/html": "<div>\n<style scoped>\n    .dataframe tbody tr th:only-of-type {\n        vertical-align: middle;\n    }\n\n    .dataframe tbody tr th {\n        vertical-align: top;\n    }\n\n    .dataframe thead th {\n        text-align: right;\n    }\n</style>\n<table border=\"1\" class=\"dataframe\">\n  <thead>\n    <tr style=\"text-align: right;\">\n      <th></th>\n      <th>Date</th>\n      <th>Temperature</th>\n      <th>Anomaly</th>\n    </tr>\n  </thead>\n  <tbody>\n    <tr>\n      <th>0</th>\n      <td>1895</td>\n      <td>34.2</td>\n      <td>-3.2</td>\n    </tr>\n    <tr>\n      <th>1</th>\n      <td>1896</td>\n      <td>34.7</td>\n      <td>-2.7</td>\n    </tr>\n    <tr>\n      <th>2</th>\n      <td>1897</td>\n      <td>35.5</td>\n      <td>-1.9</td>\n    </tr>\n    <tr>\n      <th>3</th>\n      <td>1898</td>\n      <td>39.6</td>\n      <td>2.2</td>\n    </tr>\n    <tr>\n      <th>4</th>\n      <td>1899</td>\n      <td>36.4</td>\n      <td>-1.0</td>\n    </tr>\n  </tbody>\n</table>\n</div>"
     },
     "metadata": {},
     "execution_count": 5
    }
   ],
   "source": [
    "nyc.head()"
   ]
  },
  {
   "cell_type": "markdown",
   "metadata": {},
   "source": [
    "### Dividindo os dados para treinamento e teste\n",
    "Neste exemplo, usaremos o estimador **LinearRegression** de **sklearn.linear_model**.\n",
    "- Por padrão, este estimador usa todos os atributos numéricos em um conjunto de dados. \n",
    "\n",
    "Aqui, executaremos uma regressão linear simples, usando um único atributo como variável independente. Portanto, precisamos selecionar um atributo (a Data) do conjunto de dados.\n",
    "- Quando você seleciona uma coluna de um DataFrame bidimensional, o resultado é uma **Serie** unidimensional.\n",
    "No entanto, os estimadores do scikit-learn exigem em seu treinamento e teste que os \n",
    "dados sejam matrizes bidimensionais (ou dados semelhantes a matrizes bidimensionais, como listas de listas ou pandas DataFrames). "
   ]
  },
  {
   "cell_type": "code",
   "execution_count": 6,
   "metadata": {},
   "outputs": [],
   "source": [
    "from sklearn.model_selection import train_test_split"
   ]
  },
  {
   "cell_type": "code",
   "execution_count": 7,
   "metadata": {},
   "outputs": [],
   "source": [
    "X_train, X_test, y_train, y_test = train_test_split(\n",
    "        nyc.Date.values.reshape(-1, 1), nyc.Temperature.values,\n",
    "        random_state=11)"
   ]
  },
  {
   "cell_type": "markdown",
   "metadata": {},
   "source": [
    "A expressão **nyc.Date** retorna a **Serie** da coluna **Data** e o atributo **values** da **Serie** retorna um array **NumPy** contendo os valores dessa **Serie**. \n",
    "\n",
    "- Para transformar esse array unidimensional em duas dimensões, chamamos o método **reshape** do array. \n",
    "    - Normalmente, dois argumentos são o número preciso de linhas e colunas. \n",
    "    - No entanto, o primeiro argumento -1 diz a **reshape** para inferir o número de linhas, com base no número de colunas (1) e o número de elementos (124) na matriz. \n",
    "\n",
    "Podemos confirmar a divisão de teste de trem de 75% -25% verificando as formas de X_train e\n",
    "X_test:"
   ]
  },
  {
   "cell_type": "code",
   "execution_count": 20,
   "metadata": {},
   "outputs": [
    {
     "output_type": "execute_result",
     "data": {
      "text/plain": [
       "(93, 1)"
      ]
     },
     "metadata": {},
     "execution_count": 20
    }
   ],
   "source": [
    "X_train.shape"
   ]
  },
  {
   "cell_type": "code",
   "execution_count": 21,
   "metadata": {},
   "outputs": [
    {
     "output_type": "execute_result",
     "data": {
      "text/plain": [
       "(31, 1)"
      ]
     },
     "metadata": {},
     "execution_count": 21
    }
   ],
   "source": [
    "X_test.shape"
   ]
  },
  {
   "cell_type": "markdown",
   "metadata": {},
   "source": [
    "### Treinando o modelo\n",
    "O Scikit-learn não tem uma classe separada para regressão linear simples porque é apenas um especial caso de regressão linear múltipla, então vamos treinar um estimador **LinearRegression**"
   ]
  },
  {
   "cell_type": "code",
   "execution_count": 22,
   "metadata": {},
   "outputs": [],
   "source": [
    "from sklearn.linear_model import LinearRegression"
   ]
  },
  {
   "cell_type": "code",
   "execution_count": 23,
   "metadata": {},
   "outputs": [],
   "source": [
    "linear_regression = LinearRegression()"
   ]
  },
  {
   "cell_type": "code",
   "execution_count": 24,
   "metadata": {},
   "outputs": [
    {
     "output_type": "execute_result",
     "data": {
      "text/plain": [
       "LinearRegression()"
      ]
     },
     "metadata": {},
     "execution_count": 24
    }
   ],
   "source": [
    "linear_regression.fit(X=X_train, y=y_train)"
   ]
  },
  {
   "cell_type": "markdown",
   "metadata": {},
   "source": [
    "Agora, podemos obter a inclinação e a interceptação usadas no cálculo $y = b + mx$  para fazer\n",
    "previsões. \n",
    "- A inclinação é armazenada no atributo **coeff_** do estimador ($m$ na quação) e\n",
    "a interceptação é armazenada no atributo **intercept_** do estimador ($b$ na equação):"
   ]
  },
  {
   "cell_type": "code",
   "execution_count": 25,
   "metadata": {},
   "outputs": [
    {
     "output_type": "execute_result",
     "data": {
      "text/plain": [
       "array([0.01939167])"
      ]
     },
     "metadata": {},
     "execution_count": 25
    }
   ],
   "source": [
    "linear_regression.coef_"
   ]
  },
  {
   "cell_type": "code",
   "execution_count": 26,
   "metadata": {},
   "outputs": [
    {
     "output_type": "execute_result",
     "data": {
      "text/plain": [
       "-0.30779820252656975"
      ]
     },
     "metadata": {},
     "execution_count": 26
    }
   ],
   "source": [
    "linear_regression.intercept_"
   ]
  },
  {
   "cell_type": "markdown",
   "metadata": {},
   "source": [
    "Vamos testar o modelo usando os dados em *X_test* e verificar algumas das previsões ao longo\n",
    "do conjunto de dados exibindo os valores previstos e esperados para cada cinco elementos."
   ]
  },
  {
   "cell_type": "code",
   "execution_count": 27,
   "metadata": {},
   "outputs": [],
   "source": [
    "predicted = linear_regression.predict(X_test)"
   ]
  },
  {
   "cell_type": "code",
   "execution_count": 28,
   "metadata": {},
   "outputs": [],
   "source": [
    "expected = y_test"
   ]
  },
  {
   "cell_type": "code",
   "execution_count": 66,
   "metadata": {},
   "outputs": [
    {
     "output_type": "stream",
     "name": "stdout",
     "text": [
      "date: [1968] -> predicted: 37.86, expected: 31.70\ndate: [2011] -> predicted: 38.69, expected: 34.80\ndate: [1924] -> predicted: 37.00, expected: 39.40\ndate: [1937] -> predicted: 37.25, expected: 45.70\ndate: [1978] -> predicted: 38.05, expected: 32.30\ndate: [1957] -> predicted: 37.64, expected: 33.80\ndate: [1921] -> predicted: 36.94, expected: 39.70\n"
     ]
    }
   ],
   "source": [
    "for d, p, e in zip(X_test[::5], predicted[::5], expected[::5]):\n",
    "    print(f'date: {d} -> predicted: {p:.2f}, expected: {e:.2f}')"
   ]
  },
  {
   "cell_type": "markdown",
   "metadata": {},
   "source": [
    "### Visualizando o conjunto de dados com a linha de regressão\n",
    "\n",
    "A seguir, vamos criar um gráfico de dispersão do conjunto de dados usando a função de gráfico de dispersão do Seaborn e a função de plot do Matplotlib. "
   ]
  },
  {
   "cell_type": "code",
   "execution_count": 46,
   "metadata": {},
   "outputs": [],
   "source": [
    "import seaborn as sns"
   ]
  },
  {
   "cell_type": "code",
   "execution_count": 47,
   "metadata": {},
   "outputs": [
    {
     "output_type": "display_data",
     "data": {
      "text/plain": "<Figure size 432x288 with 1 Axes>",
      "image/svg+xml": "<?xml version=\"1.0\" encoding=\"utf-8\" standalone=\"no\"?>\r\n<!DOCTYPE svg PUBLIC \"-//W3C//DTD SVG 1.1//EN\"\r\n  \"http://www.w3.org/Graphics/SVG/1.1/DTD/svg11.dtd\">\r\n<!-- Created with matplotlib (https://matplotlib.org/) -->\r\n<svg height=\"262.19625pt\" version=\"1.1\" viewBox=\"0 0 385.058945 262.19625\" width=\"385.058945pt\" xmlns=\"http://www.w3.org/2000/svg\" xmlns:xlink=\"http://www.w3.org/1999/xlink\">\r\n <metadata>\r\n  <rdf:RDF xmlns:cc=\"http://creativecommons.org/ns#\" xmlns:dc=\"http://purl.org/dc/elements/1.1/\" xmlns:rdf=\"http://www.w3.org/1999/02/22-rdf-syntax-ns#\">\r\n   <cc:Work>\r\n    <dc:type rdf:resource=\"http://purl.org/dc/dcmitype/StillImage\"/>\r\n    <dc:date>2020-11-26T10:37:25.032618</dc:date>\r\n    <dc:format>image/svg+xml</dc:format>\r\n    <dc:creator>\r\n     <cc:Agent>\r\n      <dc:title>Matplotlib v3.3.3, https://matplotlib.org/</dc:title>\r\n     </cc:Agent>\r\n    </dc:creator>\r\n   </cc:Work>\r\n  </rdf:RDF>\r\n </metadata>\r\n <defs>\r\n  <style type=\"text/css\">*{stroke-linecap:butt;stroke-linejoin:round;}</style>\r\n </defs>\r\n <g id=\"figure_1\">\r\n  <g id=\"patch_1\">\r\n   <path d=\"M 0 262.19625 \r\nL 385.058945 262.19625 \r\nL 385.058945 0 \r\nL 0 0 \r\nz\r\n\"/>\r\n  </g>\r\n  <g id=\"axes_1\">\r\n   <g id=\"patch_2\">\r\n    <path d=\"M 40.603125 224.64 \r\nL 375.403125 224.64 \r\nL 375.403125 7.2 \r\nL 40.603125 7.2 \r\nz\r\n\"/>\r\n   </g>\r\n   <g id=\"PathCollection_1\">\r\n    <defs>\r\n     <path d=\"M 0 3 \r\nC 0.795609 3 1.55874 2.683901 2.12132 2.12132 \r\nC 2.683901 1.55874 3 0.795609 3 -0 \r\nC 3 -0.795609 2.683901 -1.55874 2.12132 -2.12132 \r\nC 1.55874 -2.683901 0.795609 -3 0 -3 \r\nC -0.795609 -3 -1.55874 -2.683901 -2.12132 -2.12132 \r\nC -2.683901 -1.55874 -3 -0.795609 -3 0 \r\nC -3 0.795609 -2.683901 1.55874 -2.12132 2.12132 \r\nC -1.55874 2.683901 -0.795609 3 0 3 \r\nz\r\n\" id=\"C0_0_dd382180ae\"/>\r\n    </defs>\r\n    <g clip-path=\"url(#p158df751c5)\">\r\n     <use style=\"fill:#0060cf;stroke:#ffffff;stroke-width:0.48;\" x=\"55.821307\" xlink:href=\"#C0_0_dd382180ae\" y=\"140.284313\"/>\r\n    </g>\r\n    <g clip-path=\"url(#p158df751c5)\">\r\n     <use style=\"fill:#0066cc;stroke:#ffffff;stroke-width:0.48;\" x=\"58.295808\" xlink:href=\"#C0_0_dd382180ae\" y=\"135.687273\"/>\r\n    </g>\r\n    <g clip-path=\"url(#p158df751c5)\">\r\n     <use style=\"fill:#006fc8;stroke:#ffffff;stroke-width:0.48;\" x=\"60.770309\" xlink:href=\"#C0_0_dd382180ae\" y=\"128.332008\"/>\r\n    </g>\r\n    <g clip-path=\"url(#p158df751c5)\">\r\n     <use style=\"fill:#00a0af;stroke:#ffffff;stroke-width:0.48;\" x=\"63.24481\" xlink:href=\"#C0_0_dd382180ae\" y=\"90.636279\"/>\r\n    </g>\r\n    <g clip-path=\"url(#p158df751c5)\">\r\n     <use style=\"fill:#007ac2;stroke:#ffffff;stroke-width:0.48;\" x=\"65.719311\" xlink:href=\"#C0_0_dd382180ae\" y=\"120.057336\"/>\r\n    </g>\r\n    <g clip-path=\"url(#p158df751c5)\">\r\n     <use style=\"fill:#0086bc;stroke:#ffffff;stroke-width:0.48;\" x=\"68.193812\" xlink:href=\"#C0_0_dd382180ae\" y=\"110.863256\"/>\r\n    </g>\r\n    <g clip-path=\"url(#p158df751c5)\">\r\n     <use style=\"fill:#0081be;stroke:#ffffff;stroke-width:0.48;\" x=\"70.668313\" xlink:href=\"#C0_0_dd382180ae\" y=\"114.540888\"/>\r\n    </g>\r\n    <g clip-path=\"url(#p158df751c5)\">\r\n     <use style=\"fill:#0069cb;stroke:#ffffff;stroke-width:0.48;\" x=\"73.142815\" xlink:href=\"#C0_0_dd382180ae\" y=\"132.929049\"/>\r\n    </g>\r\n    <g clip-path=\"url(#p158df751c5)\">\r\n     <use style=\"fill:#006fc8;stroke:#ffffff;stroke-width:0.48;\" x=\"75.617316\" xlink:href=\"#C0_0_dd382180ae\" y=\"128.332008\"/>\r\n    </g>\r\n    <g clip-path=\"url(#p158df751c5)\">\r\n     <use style=\"fill:#002ce9;stroke:#ffffff;stroke-width:0.48;\" x=\"78.091817\" xlink:href=\"#C0_0_dd382180ae\" y=\"180.738266\"/>\r\n    </g>\r\n    <g clip-path=\"url(#p158df751c5)\">\r\n     <use style=\"fill:#005ad2;stroke:#ffffff;stroke-width:0.48;\" x=\"80.566318\" xlink:href=\"#C0_0_dd382180ae\" y=\"144.881353\"/>\r\n    </g>\r\n    <g clip-path=\"url(#p158df751c5)\">\r\n     <use style=\"fill:#00c09f;stroke:#ffffff;stroke-width:0.48;\" x=\"83.040819\" xlink:href=\"#C0_0_dd382180ae\" y=\"65.812262\"/>\r\n    </g>\r\n    <g clip-path=\"url(#p158df751c5)\">\r\n     <use style=\"fill:#00abaa;stroke:#ffffff;stroke-width:0.48;\" x=\"85.51532\" xlink:href=\"#C0_0_dd382180ae\" y=\"82.361607\"/>\r\n    </g>\r\n    <g clip-path=\"url(#p158df751c5)\">\r\n     <use style=\"fill:#0091b6;stroke:#ffffff;stroke-width:0.48;\" x=\"87.989821\" xlink:href=\"#C0_0_dd382180ae\" y=\"102.588584\"/>\r\n    </g>\r\n    <g clip-path=\"url(#p158df751c5)\">\r\n     <use style=\"fill:#00a0af;stroke:#ffffff;stroke-width:0.48;\" x=\"90.464322\" xlink:href=\"#C0_0_dd382180ae\" y=\"90.636279\"/>\r\n    </g>\r\n    <g clip-path=\"url(#p158df751c5)\">\r\n     <use style=\"fill:#0077c3;stroke:#ffffff;stroke-width:0.48;\" x=\"92.938823\" xlink:href=\"#C0_0_dd382180ae\" y=\"122.81556\"/>\r\n    </g>\r\n    <g clip-path=\"url(#p158df751c5)\">\r\n     <use style=\"fill:#00ada8;stroke:#ffffff;stroke-width:0.48;\" x=\"95.413325\" xlink:href=\"#C0_0_dd382180ae\" y=\"80.522791\"/>\r\n    </g>\r\n    <g clip-path=\"url(#p158df751c5)\">\r\n     <use style=\"fill:#0026ec;stroke:#ffffff;stroke-width:0.48;\" x=\"97.887826\" xlink:href=\"#C0_0_dd382180ae\" y=\"185.335307\"/>\r\n    </g>\r\n    <g clip-path=\"url(#p158df751c5)\">\r\n     <use style=\"fill:#00f784;stroke:#ffffff;stroke-width:0.48;\" x=\"100.362327\" xlink:href=\"#C0_0_dd382180ae\" y=\"23.519493\"/>\r\n    </g>\r\n    <g clip-path=\"url(#p158df751c5)\">\r\n     <use style=\"fill:#0080bf;stroke:#ffffff;stroke-width:0.48;\" x=\"102.836828\" xlink:href=\"#C0_0_dd382180ae\" y=\"115.460296\"/>\r\n    </g>\r\n    <g clip-path=\"url(#p158df751c5)\">\r\n     <use style=\"fill:#0098b3;stroke:#ffffff;stroke-width:0.48;\" x=\"105.311329\" xlink:href=\"#C0_0_dd382180ae\" y=\"97.072135\"/>\r\n    </g>\r\n    <g clip-path=\"url(#p158df751c5)\">\r\n     <use style=\"fill:#00c09f;stroke:#ffffff;stroke-width:0.48;\" x=\"107.78583\" xlink:href=\"#C0_0_dd382180ae\" y=\"65.812262\"/>\r\n    </g>\r\n    <g clip-path=\"url(#p158df751c5)\">\r\n     <use style=\"fill:#0092b6;stroke:#ffffff;stroke-width:0.48;\" x=\"110.260331\" xlink:href=\"#C0_0_dd382180ae\" y=\"101.669175\"/>\r\n    </g>\r\n    <g clip-path=\"url(#p158df751c5)\">\r\n     <use style=\"fill:#0004fd;stroke:#ffffff;stroke-width:0.48;\" x=\"112.734832\" xlink:href=\"#C0_0_dd382180ae\" y=\"211.078732\"/>\r\n    </g>\r\n    <g clip-path=\"url(#p158df751c5)\">\r\n     <use style=\"fill:#00aca9;stroke:#ffffff;stroke-width:0.48;\" x=\"115.209333\" xlink:href=\"#C0_0_dd382180ae\" y=\"81.442199\"/>\r\n    </g>\r\n    <g clip-path=\"url(#p158df751c5)\">\r\n     <use style=\"fill:#002aea;stroke:#ffffff;stroke-width:0.48;\" x=\"117.683835\" xlink:href=\"#C0_0_dd382180ae\" y=\"181.657674\"/>\r\n    </g>\r\n    <g clip-path=\"url(#p158df751c5)\">\r\n     <use style=\"fill:#00a1ae;stroke:#ffffff;stroke-width:0.48;\" x=\"120.158336\" xlink:href=\"#C0_0_dd382180ae\" y=\"89.716871\"/>\r\n    </g>\r\n    <g clip-path=\"url(#p158df751c5)\">\r\n     <use style=\"fill:#0056d4;stroke:#ffffff;stroke-width:0.48;\" x=\"122.632837\" xlink:href=\"#C0_0_dd382180ae\" y=\"147.639577\"/>\r\n    </g>\r\n    <g clip-path=\"url(#p158df751c5)\">\r\n     <use style=\"fill:#006cc9;stroke:#ffffff;stroke-width:0.48;\" x=\"125.107338\" xlink:href=\"#C0_0_dd382180ae\" y=\"131.090233\"/>\r\n    </g>\r\n    <g clip-path=\"url(#p158df751c5)\">\r\n     <use style=\"fill:#009eb0;stroke:#ffffff;stroke-width:0.48;\" x=\"127.581839\" xlink:href=\"#C0_0_dd382180ae\" y=\"92.475095\"/>\r\n    </g>\r\n    <g clip-path=\"url(#p158df751c5)\">\r\n     <use style=\"fill:#005bd2;stroke:#ffffff;stroke-width:0.48;\" x=\"130.05634\" xlink:href=\"#C0_0_dd382180ae\" y=\"143.961945\"/>\r\n    </g>\r\n    <g clip-path=\"url(#p158df751c5)\">\r\n     <use style=\"fill:#0084bd;stroke:#ffffff;stroke-width:0.48;\" x=\"132.530841\" xlink:href=\"#C0_0_dd382180ae\" y=\"112.702072\"/>\r\n    </g>\r\n    <g clip-path=\"url(#p158df751c5)\">\r\n     <use style=\"fill:#007fc0;stroke:#ffffff;stroke-width:0.48;\" x=\"135.005342\" xlink:href=\"#C0_0_dd382180ae\" y=\"116.379704\"/>\r\n    </g>\r\n    <g clip-path=\"url(#p158df751c5)\">\r\n     <use style=\"fill:#00a5ac;stroke:#ffffff;stroke-width:0.48;\" x=\"137.479843\" xlink:href=\"#C0_0_dd382180ae\" y=\"86.958647\"/>\r\n    </g>\r\n    <g clip-path=\"url(#p158df751c5)\">\r\n     <use style=\"fill:#008bba;stroke:#ffffff;stroke-width:0.48;\" x=\"139.954345\" xlink:href=\"#C0_0_dd382180ae\" y=\"107.185624\"/>\r\n    </g>\r\n    <g clip-path=\"url(#p158df751c5)\">\r\n     <use style=\"fill:#0093b6;stroke:#ffffff;stroke-width:0.48;\" x=\"142.428846\" xlink:href=\"#C0_0_dd382180ae\" y=\"100.749767\"/>\r\n    </g>\r\n    <g clip-path=\"url(#p158df751c5)\">\r\n     <use style=\"fill:#0090b7;stroke:#ffffff;stroke-width:0.48;\" x=\"144.903347\" xlink:href=\"#C0_0_dd382180ae\" y=\"103.507992\"/>\r\n    </g>\r\n    <g clip-path=\"url(#p158df751c5)\">\r\n     <use style=\"fill:#00ff80;stroke:#ffffff;stroke-width:0.48;\" x=\"147.377848\" xlink:href=\"#C0_0_dd382180ae\" y=\"17.083636\"/>\r\n    </g>\r\n    <g clip-path=\"url(#p158df751c5)\">\r\n     <use style=\"fill:#00e88b;stroke:#ffffff;stroke-width:0.48;\" x=\"149.852349\" xlink:href=\"#C0_0_dd382180ae\" y=\"35.471797\"/>\r\n    </g>\r\n    <g clip-path=\"url(#p158df751c5)\">\r\n     <use style=\"fill:#00a3ae;stroke:#ffffff;stroke-width:0.48;\" x=\"152.32685\" xlink:href=\"#C0_0_dd382180ae\" y=\"88.797463\"/>\r\n    </g>\r\n    <g clip-path=\"url(#p158df751c5)\">\r\n     <use style=\"fill:#0069cb;stroke:#ffffff;stroke-width:0.48;\" x=\"154.801351\" xlink:href=\"#C0_0_dd382180ae\" y=\"132.929049\"/>\r\n    </g>\r\n    <g clip-path=\"url(#p158df751c5)\">\r\n     <use style=\"fill:#0061ce;stroke:#ffffff;stroke-width:0.48;\" x=\"157.275852\" xlink:href=\"#C0_0_dd382180ae\" y=\"139.364905\"/>\r\n    </g>\r\n    <g clip-path=\"url(#p158df751c5)\">\r\n     <use style=\"fill:#00e98b;stroke:#ffffff;stroke-width:0.48;\" x=\"159.750353\" xlink:href=\"#C0_0_dd382180ae\" y=\"34.552389\"/>\r\n    </g>\r\n    <g clip-path=\"url(#p158df751c5)\">\r\n     <use style=\"fill:#0085bc;stroke:#ffffff;stroke-width:0.48;\" x=\"162.224854\" xlink:href=\"#C0_0_dd382180ae\" y=\"111.782664\"/>\r\n    </g>\r\n    <g clip-path=\"url(#p158df751c5)\">\r\n     <use style=\"fill:#007fc0;stroke:#ffffff;stroke-width:0.48;\" x=\"164.699356\" xlink:href=\"#C0_0_dd382180ae\" y=\"116.379704\"/>\r\n    </g>\r\n    <g clip-path=\"url(#p158df751c5)\">\r\n     <use style=\"fill:#002ee8;stroke:#ffffff;stroke-width:0.48;\" x=\"167.173857\" xlink:href=\"#C0_0_dd382180ae\" y=\"178.89945\"/>\r\n    </g>\r\n    <g clip-path=\"url(#p158df751c5)\">\r\n     <use style=\"fill:#0064cd;stroke:#ffffff;stroke-width:0.48;\" x=\"169.648358\" xlink:href=\"#C0_0_dd382180ae\" y=\"137.526089\"/>\r\n    </g>\r\n    <g clip-path=\"url(#p158df751c5)\">\r\n     <use style=\"fill:#007bc2;stroke:#ffffff;stroke-width:0.48;\" x=\"172.122859\" xlink:href=\"#C0_0_dd382180ae\" y=\"119.137928\"/>\r\n    </g>\r\n    <g clip-path=\"url(#p158df751c5)\">\r\n     <use style=\"fill:#0077c3;stroke:#ffffff;stroke-width:0.48;\" x=\"174.59736\" xlink:href=\"#C0_0_dd382180ae\" y=\"122.81556\"/>\r\n    </g>\r\n    <g clip-path=\"url(#p158df751c5)\">\r\n     <use style=\"fill:#0099b2;stroke:#ffffff;stroke-width:0.48;\" x=\"177.071861\" xlink:href=\"#C0_0_dd382180ae\" y=\"96.152727\"/>\r\n    </g>\r\n    <g clip-path=\"url(#p158df751c5)\">\r\n     <use style=\"fill:#0040df;stroke:#ffffff;stroke-width:0.48;\" x=\"179.546362\" xlink:href=\"#C0_0_dd382180ae\" y=\"165.10833\"/>\r\n    </g>\r\n    <g clip-path=\"url(#p158df751c5)\">\r\n     <use style=\"fill:#00a7ac;stroke:#ffffff;stroke-width:0.48;\" x=\"182.020863\" xlink:href=\"#C0_0_dd382180ae\" y=\"85.119831\"/>\r\n    </g>\r\n    <g clip-path=\"url(#p158df751c5)\">\r\n     <use style=\"fill:#00c99b;stroke:#ffffff;stroke-width:0.48;\" x=\"184.495364\" xlink:href=\"#C0_0_dd382180ae\" y=\"59.376406\"/>\r\n    </g>\r\n    <g clip-path=\"url(#p158df751c5)\">\r\n     <use style=\"fill:#002fe8;stroke:#ffffff;stroke-width:0.48;\" x=\"186.969866\" xlink:href=\"#C0_0_dd382180ae\" y=\"177.980042\"/>\r\n    </g>\r\n    <g clip-path=\"url(#p158df751c5)\">\r\n     <use style=\"fill:#00cf98;stroke:#ffffff;stroke-width:0.48;\" x=\"189.444367\" xlink:href=\"#C0_0_dd382180ae\" y=\"54.779366\"/>\r\n    </g>\r\n    <g clip-path=\"url(#p158df751c5)\">\r\n     <use style=\"fill:#00ff80;stroke:#ffffff;stroke-width:0.48;\" x=\"191.918868\" xlink:href=\"#C0_0_dd382180ae\" y=\"17.083636\"/>\r\n    </g>\r\n    <g clip-path=\"url(#p158df751c5)\">\r\n     <use style=\"fill:#00c39e;stroke:#ffffff;stroke-width:0.48;\" x=\"194.393369\" xlink:href=\"#C0_0_dd382180ae\" y=\"63.973446\"/>\r\n    </g>\r\n    <g clip-path=\"url(#p158df751c5)\">\r\n     <use style=\"fill:#00c29e;stroke:#ffffff;stroke-width:0.48;\" x=\"196.86787\" xlink:href=\"#C0_0_dd382180ae\" y=\"64.892854\"/>\r\n    </g>\r\n    <g clip-path=\"url(#p158df751c5)\">\r\n     <use style=\"fill:#00c29e;stroke:#ffffff;stroke-width:0.48;\" x=\"199.342371\" xlink:href=\"#C0_0_dd382180ae\" y=\"64.892854\"/>\r\n    </g>\r\n    <g clip-path=\"url(#p158df751c5)\">\r\n     <use style=\"fill:#0081be;stroke:#ffffff;stroke-width:0.48;\" x=\"201.816872\" xlink:href=\"#C0_0_dd382180ae\" y=\"114.540888\"/>\r\n    </g>\r\n    <g clip-path=\"url(#p158df751c5)\">\r\n     <use style=\"fill:#0071c6;stroke:#ffffff;stroke-width:0.48;\" x=\"204.291373\" xlink:href=\"#C0_0_dd382180ae\" y=\"127.4126\"/>\r\n    </g>\r\n    <g clip-path=\"url(#p158df751c5)\">\r\n     <use style=\"fill:#0078c3;stroke:#ffffff;stroke-width:0.48;\" x=\"206.765874\" xlink:href=\"#C0_0_dd382180ae\" y=\"121.896152\"/>\r\n    </g>\r\n    <g clip-path=\"url(#p158df751c5)\">\r\n     <use style=\"fill:#005bd2;stroke:#ffffff;stroke-width:0.48;\" x=\"209.240376\" xlink:href=\"#C0_0_dd382180ae\" y=\"143.961945\"/>\r\n    </g>\r\n    <g clip-path=\"url(#p158df751c5)\">\r\n     <use style=\"fill:#007ac2;stroke:#ffffff;stroke-width:0.48;\" x=\"211.714877\" xlink:href=\"#C0_0_dd382180ae\" y=\"120.057336\"/>\r\n    </g>\r\n    <g clip-path=\"url(#p158df751c5)\">\r\n     <use style=\"fill:#0082be;stroke:#ffffff;stroke-width:0.48;\" x=\"214.189378\" xlink:href=\"#C0_0_dd382180ae\" y=\"113.62148\"/>\r\n    </g>\r\n    <g clip-path=\"url(#p158df751c5)\">\r\n     <use style=\"fill:#008bba;stroke:#ffffff;stroke-width:0.48;\" x=\"216.663879\" xlink:href=\"#C0_0_dd382180ae\" y=\"107.185624\"/>\r\n    </g>\r\n    <g clip-path=\"url(#p158df751c5)\">\r\n     <use style=\"fill:#0045dc;stroke:#ffffff;stroke-width:0.48;\" x=\"219.13838\" xlink:href=\"#C0_0_dd382180ae\" y=\"161.430698\"/>\r\n    </g>\r\n    <g clip-path=\"url(#p158df751c5)\">\r\n     <use style=\"fill:#008db8;stroke:#ffffff;stroke-width:0.48;\" x=\"221.612881\" xlink:href=\"#C0_0_dd382180ae\" y=\"105.346808\"/>\r\n    </g>\r\n    <g clip-path=\"url(#p158df751c5)\">\r\n     <use style=\"fill:#0065cc;stroke:#ffffff;stroke-width:0.48;\" x=\"224.087382\" xlink:href=\"#C0_0_dd382180ae\" y=\"136.606681\"/>\r\n    </g>\r\n    <g clip-path=\"url(#p158df751c5)\">\r\n     <use style=\"fill:#00a7ac;stroke:#ffffff;stroke-width:0.48;\" x=\"226.561883\" xlink:href=\"#C0_0_dd382180ae\" y=\"85.119831\"/>\r\n    </g>\r\n    <g clip-path=\"url(#p158df751c5)\">\r\n     <use style=\"fill:#005ed0;stroke:#ffffff;stroke-width:0.48;\" x=\"229.036384\" xlink:href=\"#C0_0_dd382180ae\" y=\"142.123129\"/>\r\n    </g>\r\n    <g clip-path=\"url(#p158df751c5)\">\r\n     <use style=\"fill:#0082be;stroke:#ffffff;stroke-width:0.48;\" x=\"231.510886\" xlink:href=\"#C0_0_dd382180ae\" y=\"113.62148\"/>\r\n    </g>\r\n    <g clip-path=\"url(#p158df751c5)\">\r\n     <use style=\"fill:#00b8a3;stroke:#ffffff;stroke-width:0.48;\" x=\"233.985387\" xlink:href=\"#C0_0_dd382180ae\" y=\"72.248118\"/>\r\n    </g>\r\n    <g clip-path=\"url(#p158df751c5)\">\r\n     <use style=\"fill:#0042de;stroke:#ffffff;stroke-width:0.48;\" x=\"236.459888\" xlink:href=\"#C0_0_dd382180ae\" y=\"163.269514\"/>\r\n    </g>\r\n    <g clip-path=\"url(#p158df751c5)\">\r\n     <use style=\"fill:#0072c6;stroke:#ffffff;stroke-width:0.48;\" x=\"238.934389\" xlink:href=\"#C0_0_dd382180ae\" y=\"126.493192\"/>\r\n    </g>\r\n    <g clip-path=\"url(#p158df751c5)\">\r\n     <use style=\"fill:#002de8;stroke:#ffffff;stroke-width:0.48;\" x=\"241.40889\" xlink:href=\"#C0_0_dd382180ae\" y=\"179.818858\"/>\r\n    </g>\r\n    <g clip-path=\"url(#p158df751c5)\">\r\n     <use style=\"fill:#0040df;stroke:#ffffff;stroke-width:0.48;\" x=\"243.883391\" xlink:href=\"#C0_0_dd382180ae\" y=\"165.10833\"/>\r\n    </g>\r\n    <g clip-path=\"url(#p158df751c5)\">\r\n     <use style=\"fill:#00abaa;stroke:#ffffff;stroke-width:0.48;\" x=\"246.357892\" xlink:href=\"#C0_0_dd382180ae\" y=\"82.361607\"/>\r\n    </g>\r\n    <g clip-path=\"url(#p158df751c5)\">\r\n     <use style=\"fill:#00aca9;stroke:#ffffff;stroke-width:0.48;\" x=\"248.832393\" xlink:href=\"#C0_0_dd382180ae\" y=\"81.442199\"/>\r\n    </g>\r\n    <g clip-path=\"url(#p158df751c5)\">\r\n     <use style=\"fill:#00a1ae;stroke:#ffffff;stroke-width:0.48;\" x=\"251.306894\" xlink:href=\"#C0_0_dd382180ae\" y=\"89.716871\"/>\r\n    </g>\r\n    <g clip-path=\"url(#p158df751c5)\">\r\n     <use style=\"fill:#00b9a2;stroke:#ffffff;stroke-width:0.48;\" x=\"253.781396\" xlink:href=\"#C0_0_dd382180ae\" y=\"71.32871\"/>\r\n    </g>\r\n    <g clip-path=\"url(#p158df751c5)\">\r\n     <use style=\"fill:#004dd8;stroke:#ffffff;stroke-width:0.48;\" x=\"256.255897\" xlink:href=\"#C0_0_dd382180ae\" y=\"154.994841\"/>\r\n    </g>\r\n    <g clip-path=\"url(#p158df751c5)\">\r\n     <use style=\"fill:#0000ff;stroke:#ffffff;stroke-width:0.48;\" x=\"258.730398\" xlink:href=\"#C0_0_dd382180ae\" y=\"214.756364\"/>\r\n    </g>\r\n    <g clip-path=\"url(#p158df751c5)\">\r\n     <use style=\"fill:#0049db;stroke:#ffffff;stroke-width:0.48;\" x=\"261.204899\" xlink:href=\"#C0_0_dd382180ae\" y=\"157.753066\"/>\r\n    </g>\r\n    <g clip-path=\"url(#p158df751c5)\">\r\n     <use style=\"fill:#0094b5;stroke:#ffffff;stroke-width:0.48;\" x=\"263.6794\" xlink:href=\"#C0_0_dd382180ae\" y=\"99.830359\"/>\r\n    </g>\r\n    <g clip-path=\"url(#p158df751c5)\">\r\n     <use style=\"fill:#008db8;stroke:#ffffff;stroke-width:0.48;\" x=\"266.153901\" xlink:href=\"#C0_0_dd382180ae\" y=\"105.346808\"/>\r\n    </g>\r\n    <g clip-path=\"url(#p158df751c5)\">\r\n     <use style=\"fill:#0035e4;stroke:#ffffff;stroke-width:0.48;\" x=\"268.628402\" xlink:href=\"#C0_0_dd382180ae\" y=\"173.383002\"/>\r\n    </g>\r\n    <g clip-path=\"url(#p158df751c5)\">\r\n     <use style=\"fill:#0039e2;stroke:#ffffff;stroke-width:0.48;\" x=\"271.102903\" xlink:href=\"#C0_0_dd382180ae\" y=\"170.624778\"/>\r\n    </g>\r\n    <g clip-path=\"url(#p158df751c5)\">\r\n     <use style=\"fill:#008db8;stroke:#ffffff;stroke-width:0.48;\" x=\"273.577404\" xlink:href=\"#C0_0_dd382180ae\" y=\"105.346808\"/>\r\n    </g>\r\n    <g clip-path=\"url(#p158df751c5)\">\r\n     <use style=\"fill:#0058d3;stroke:#ffffff;stroke-width:0.48;\" x=\"276.051905\" xlink:href=\"#C0_0_dd382180ae\" y=\"146.720169\"/>\r\n    </g>\r\n    <g clip-path=\"url(#p158df751c5)\">\r\n     <use style=\"fill:#0052d6;stroke:#ffffff;stroke-width:0.48;\" x=\"278.526407\" xlink:href=\"#C0_0_dd382180ae\" y=\"151.317209\"/>\r\n    </g>\r\n    <g clip-path=\"url(#p158df751c5)\">\r\n     <use style=\"fill:#009db0;stroke:#ffffff;stroke-width:0.48;\" x=\"281.000908\" xlink:href=\"#C0_0_dd382180ae\" y=\"93.394503\"/>\r\n    </g>\r\n    <g clip-path=\"url(#p158df751c5)\">\r\n     <use style=\"fill:#0074c5;stroke:#ffffff;stroke-width:0.48;\" x=\"283.475409\" xlink:href=\"#C0_0_dd382180ae\" y=\"124.654376\"/>\r\n    </g>\r\n    <g clip-path=\"url(#p158df751c5)\">\r\n     <use style=\"fill:#0060cf;stroke:#ffffff;stroke-width:0.48;\" x=\"285.94991\" xlink:href=\"#C0_0_dd382180ae\" y=\"140.284313\"/>\r\n    </g>\r\n    <g clip-path=\"url(#p158df751c5)\">\r\n     <use style=\"fill:#00c29e;stroke:#ffffff;stroke-width:0.48;\" x=\"288.424411\" xlink:href=\"#C0_0_dd382180ae\" y=\"64.892854\"/>\r\n    </g>\r\n    <g clip-path=\"url(#p158df751c5)\">\r\n     <use style=\"fill:#00ec89;stroke:#ffffff;stroke-width:0.48;\" x=\"290.898912\" xlink:href=\"#C0_0_dd382180ae\" y=\"31.794165\"/>\r\n    </g>\r\n    <g clip-path=\"url(#p158df751c5)\">\r\n     <use style=\"fill:#00a0af;stroke:#ffffff;stroke-width:0.48;\" x=\"293.373413\" xlink:href=\"#C0_0_dd382180ae\" y=\"90.636279\"/>\r\n    </g>\r\n    <g clip-path=\"url(#p158df751c5)\">\r\n     <use style=\"fill:#00b0a7;stroke:#ffffff;stroke-width:0.48;\" x=\"295.847914\" xlink:href=\"#C0_0_dd382180ae\" y=\"78.683975\"/>\r\n    </g>\r\n    <g clip-path=\"url(#p158df751c5)\">\r\n     <use style=\"fill:#00b1a6;stroke:#ffffff;stroke-width:0.48;\" x=\"298.322415\" xlink:href=\"#C0_0_dd382180ae\" y=\"77.764567\"/>\r\n    </g>\r\n    <g clip-path=\"url(#p158df751c5)\">\r\n     <use style=\"fill:#0041de;stroke:#ffffff;stroke-width:0.48;\" x=\"300.796917\" xlink:href=\"#C0_0_dd382180ae\" y=\"164.188922\"/>\r\n    </g>\r\n    <g clip-path=\"url(#p158df751c5)\">\r\n     <use style=\"fill:#00c49d;stroke:#ffffff;stroke-width:0.48;\" x=\"303.271418\" xlink:href=\"#C0_0_dd382180ae\" y=\"63.054038\"/>\r\n    </g>\r\n    <g clip-path=\"url(#p158df751c5)\">\r\n     <use style=\"fill:#0081be;stroke:#ffffff;stroke-width:0.48;\" x=\"305.745919\" xlink:href=\"#C0_0_dd382180ae\" y=\"114.540888\"/>\r\n    </g>\r\n    <g clip-path=\"url(#p158df751c5)\">\r\n     <use style=\"fill:#009bb2;stroke:#ffffff;stroke-width:0.48;\" x=\"308.22042\" xlink:href=\"#C0_0_dd382180ae\" y=\"94.313911\"/>\r\n    </g>\r\n    <g clip-path=\"url(#p158df751c5)\">\r\n     <use style=\"fill:#00ea8a;stroke:#ffffff;stroke-width:0.48;\" x=\"310.694921\" xlink:href=\"#C0_0_dd382180ae\" y=\"33.632981\"/>\r\n    </g>\r\n    <g clip-path=\"url(#p158df751c5)\">\r\n     <use style=\"fill:#00afa8;stroke:#ffffff;stroke-width:0.48;\" x=\"313.169422\" xlink:href=\"#C0_0_dd382180ae\" y=\"79.603383\"/>\r\n    </g>\r\n    <g clip-path=\"url(#p158df751c5)\">\r\n     <use style=\"fill:#008bba;stroke:#ffffff;stroke-width:0.48;\" x=\"315.643923\" xlink:href=\"#C0_0_dd382180ae\" y=\"107.185624\"/>\r\n    </g>\r\n    <g clip-path=\"url(#p158df751c5)\">\r\n     <use style=\"fill:#0097b3;stroke:#ffffff;stroke-width:0.48;\" x=\"318.118424\" xlink:href=\"#C0_0_dd382180ae\" y=\"97.991543\"/>\r\n    </g>\r\n    <g clip-path=\"url(#p158df751c5)\">\r\n     <use style=\"fill:#00e58c;stroke:#ffffff;stroke-width:0.48;\" x=\"320.592925\" xlink:href=\"#C0_0_dd382180ae\" y=\"37.310613\"/>\r\n    </g>\r\n    <g clip-path=\"url(#p158df751c5)\">\r\n     <use style=\"fill:#0050d7;stroke:#ffffff;stroke-width:0.48;\" x=\"323.067427\" xlink:href=\"#C0_0_dd382180ae\" y=\"152.236617\"/>\r\n    </g>\r\n    <g clip-path=\"url(#p158df751c5)\">\r\n     <use style=\"fill:#003ae2;stroke:#ffffff;stroke-width:0.48;\" x=\"325.541928\" xlink:href=\"#C0_0_dd382180ae\" y=\"169.70537\"/>\r\n    </g>\r\n    <g clip-path=\"url(#p158df751c5)\">\r\n     <use style=\"fill:#0086bc;stroke:#ffffff;stroke-width:0.48;\" x=\"328.016429\" xlink:href=\"#C0_0_dd382180ae\" y=\"110.863256\"/>\r\n    </g>\r\n    <g clip-path=\"url(#p158df751c5)\">\r\n     <use style=\"fill:#00ff80;stroke:#ffffff;stroke-width:0.48;\" x=\"330.49093\" xlink:href=\"#C0_0_dd382180ae\" y=\"17.083636\"/>\r\n    </g>\r\n    <g clip-path=\"url(#p158df751c5)\">\r\n     <use style=\"fill:#00d097;stroke:#ffffff;stroke-width:0.48;\" x=\"332.965431\" xlink:href=\"#C0_0_dd382180ae\" y=\"53.859958\"/>\r\n    </g>\r\n    <g clip-path=\"url(#p158df751c5)\">\r\n     <use style=\"fill:#00c29e;stroke:#ffffff;stroke-width:0.48;\" x=\"335.439932\" xlink:href=\"#C0_0_dd382180ae\" y=\"64.892854\"/>\r\n    </g>\r\n    <g clip-path=\"url(#p158df751c5)\">\r\n     <use style=\"fill:#0056d4;stroke:#ffffff;stroke-width:0.48;\" x=\"337.914433\" xlink:href=\"#C0_0_dd382180ae\" y=\"147.639577\"/>\r\n    </g>\r\n    <g clip-path=\"url(#p158df751c5)\">\r\n     <use style=\"fill:#008eb8;stroke:#ffffff;stroke-width:0.48;\" x=\"340.388934\" xlink:href=\"#C0_0_dd382180ae\" y=\"104.4274\"/>\r\n    </g>\r\n    <g clip-path=\"url(#p158df751c5)\">\r\n     <use style=\"fill:#0067cc;stroke:#ffffff;stroke-width:0.48;\" x=\"342.863435\" xlink:href=\"#C0_0_dd382180ae\" y=\"134.767865\"/>\r\n    </g>\r\n    <g clip-path=\"url(#p158df751c5)\">\r\n     <use style=\"fill:#00d793;stroke:#ffffff;stroke-width:0.48;\" x=\"345.337937\" xlink:href=\"#C0_0_dd382180ae\" y=\"48.34351\"/>\r\n    </g>\r\n    <g clip-path=\"url(#p158df751c5)\">\r\n     <use style=\"fill:#00afa8;stroke:#ffffff;stroke-width:0.48;\" x=\"347.812438\" xlink:href=\"#C0_0_dd382180ae\" y=\"79.603383\"/>\r\n    </g>\r\n    <g clip-path=\"url(#p158df751c5)\">\r\n     <use style=\"fill:#006fc8;stroke:#ffffff;stroke-width:0.48;\" x=\"350.286939\" xlink:href=\"#C0_0_dd382180ae\" y=\"128.332008\"/>\r\n    </g>\r\n    <g clip-path=\"url(#p158df751c5)\">\r\n     <use style=\"fill:#0077c3;stroke:#ffffff;stroke-width:0.48;\" x=\"352.76144\" xlink:href=\"#C0_0_dd382180ae\" y=\"122.81556\"/>\r\n    </g>\r\n    <g clip-path=\"url(#p158df751c5)\">\r\n     <use style=\"fill:#00afa8;stroke:#ffffff;stroke-width:0.48;\" x=\"355.235941\" xlink:href=\"#C0_0_dd382180ae\" y=\"79.603383\"/>\r\n    </g>\r\n    <g clip-path=\"url(#p158df751c5)\">\r\n     <use style=\"fill:#00c69c;stroke:#ffffff;stroke-width:0.48;\" x=\"357.710442\" xlink:href=\"#C0_0_dd382180ae\" y=\"61.215222\"/>\r\n    </g>\r\n    <g clip-path=\"url(#p158df751c5)\">\r\n     <use style=\"fill:#0096b4;stroke:#ffffff;stroke-width:0.48;\" x=\"360.184943\" xlink:href=\"#C0_0_dd382180ae\" y=\"98.910951\"/>\r\n    </g>\r\n   </g>\r\n   <g id=\"matplotlib.axis_1\">\r\n    <g id=\"xtick_1\">\r\n     <g id=\"line2d_1\">\r\n      <defs>\r\n       <path d=\"M 0 0 \r\nL 0 3.5 \r\n\" id=\"m43cb0f30c5\" style=\"stroke:#ffffff;stroke-width:0.8;\"/>\r\n      </defs>\r\n      <g>\r\n       <use style=\"fill:#ffffff;stroke:#ffffff;stroke-width:0.8;\" x=\"68.193812\" xlink:href=\"#m43cb0f30c5\" y=\"224.64\"/>\r\n      </g>\r\n     </g>\r\n     <g id=\"text_1\">\r\n      <!-- 1900 -->\r\n      <g style=\"fill:#ffffff;\" transform=\"translate(55.468812 239.238438)scale(0.1 -0.1)\">\r\n       <defs>\r\n        <path d=\"M 12.40625 8.296875 \r\nL 28.515625 8.296875 \r\nL 28.515625 63.921875 \r\nL 10.984375 60.40625 \r\nL 10.984375 69.390625 \r\nL 28.421875 72.90625 \r\nL 38.28125 72.90625 \r\nL 38.28125 8.296875 \r\nL 54.390625 8.296875 \r\nL 54.390625 0 \r\nL 12.40625 0 \r\nz\r\n\" id=\"DejaVuSans-49\"/>\r\n        <path d=\"M 10.984375 1.515625 \r\nL 10.984375 10.5 \r\nQ 14.703125 8.734375 18.5 7.8125 \r\nQ 22.3125 6.890625 25.984375 6.890625 \r\nQ 35.75 6.890625 40.890625 13.453125 \r\nQ 46.046875 20.015625 46.78125 33.40625 \r\nQ 43.953125 29.203125 39.59375 26.953125 \r\nQ 35.25 24.703125 29.984375 24.703125 \r\nQ 19.046875 24.703125 12.671875 31.3125 \r\nQ 6.296875 37.9375 6.296875 49.421875 \r\nQ 6.296875 60.640625 12.9375 67.421875 \r\nQ 19.578125 74.21875 30.609375 74.21875 \r\nQ 43.265625 74.21875 49.921875 64.515625 \r\nQ 56.59375 54.828125 56.59375 36.375 \r\nQ 56.59375 19.140625 48.40625 8.859375 \r\nQ 40.234375 -1.421875 26.421875 -1.421875 \r\nQ 22.703125 -1.421875 18.890625 -0.6875 \r\nQ 15.09375 0.046875 10.984375 1.515625 \r\nz\r\nM 30.609375 32.421875 \r\nQ 37.25 32.421875 41.125 36.953125 \r\nQ 45.015625 41.5 45.015625 49.421875 \r\nQ 45.015625 57.28125 41.125 61.84375 \r\nQ 37.25 66.40625 30.609375 66.40625 \r\nQ 23.96875 66.40625 20.09375 61.84375 \r\nQ 16.21875 57.28125 16.21875 49.421875 \r\nQ 16.21875 41.5 20.09375 36.953125 \r\nQ 23.96875 32.421875 30.609375 32.421875 \r\nz\r\n\" id=\"DejaVuSans-57\"/>\r\n        <path d=\"M 31.78125 66.40625 \r\nQ 24.171875 66.40625 20.328125 58.90625 \r\nQ 16.5 51.421875 16.5 36.375 \r\nQ 16.5 21.390625 20.328125 13.890625 \r\nQ 24.171875 6.390625 31.78125 6.390625 \r\nQ 39.453125 6.390625 43.28125 13.890625 \r\nQ 47.125 21.390625 47.125 36.375 \r\nQ 47.125 51.421875 43.28125 58.90625 \r\nQ 39.453125 66.40625 31.78125 66.40625 \r\nz\r\nM 31.78125 74.21875 \r\nQ 44.046875 74.21875 50.515625 64.515625 \r\nQ 56.984375 54.828125 56.984375 36.375 \r\nQ 56.984375 17.96875 50.515625 8.265625 \r\nQ 44.046875 -1.421875 31.78125 -1.421875 \r\nQ 19.53125 -1.421875 13.0625 8.265625 \r\nQ 6.59375 17.96875 6.59375 36.375 \r\nQ 6.59375 54.828125 13.0625 64.515625 \r\nQ 19.53125 74.21875 31.78125 74.21875 \r\nz\r\n\" id=\"DejaVuSans-48\"/>\r\n       </defs>\r\n       <use xlink:href=\"#DejaVuSans-49\"/>\r\n       <use x=\"63.623047\" xlink:href=\"#DejaVuSans-57\"/>\r\n       <use x=\"127.246094\" xlink:href=\"#DejaVuSans-48\"/>\r\n       <use x=\"190.869141\" xlink:href=\"#DejaVuSans-48\"/>\r\n      </g>\r\n     </g>\r\n    </g>\r\n    <g id=\"xtick_2\">\r\n     <g id=\"line2d_2\">\r\n      <g>\r\n       <use style=\"fill:#ffffff;stroke:#ffffff;stroke-width:0.8;\" x=\"117.683835\" xlink:href=\"#m43cb0f30c5\" y=\"224.64\"/>\r\n      </g>\r\n     </g>\r\n     <g id=\"text_2\">\r\n      <!-- 1920 -->\r\n      <g style=\"fill:#ffffff;\" transform=\"translate(104.958835 239.238438)scale(0.1 -0.1)\">\r\n       <defs>\r\n        <path d=\"M 19.1875 8.296875 \r\nL 53.609375 8.296875 \r\nL 53.609375 0 \r\nL 7.328125 0 \r\nL 7.328125 8.296875 \r\nQ 12.9375 14.109375 22.625 23.890625 \r\nQ 32.328125 33.6875 34.8125 36.53125 \r\nQ 39.546875 41.84375 41.421875 45.53125 \r\nQ 43.3125 49.21875 43.3125 52.78125 \r\nQ 43.3125 58.59375 39.234375 62.25 \r\nQ 35.15625 65.921875 28.609375 65.921875 \r\nQ 23.96875 65.921875 18.8125 64.3125 \r\nQ 13.671875 62.703125 7.8125 59.421875 \r\nL 7.8125 69.390625 \r\nQ 13.765625 71.78125 18.9375 73 \r\nQ 24.125 74.21875 28.421875 74.21875 \r\nQ 39.75 74.21875 46.484375 68.546875 \r\nQ 53.21875 62.890625 53.21875 53.421875 \r\nQ 53.21875 48.921875 51.53125 44.890625 \r\nQ 49.859375 40.875 45.40625 35.40625 \r\nQ 44.1875 33.984375 37.640625 27.21875 \r\nQ 31.109375 20.453125 19.1875 8.296875 \r\nz\r\n\" id=\"DejaVuSans-50\"/>\r\n       </defs>\r\n       <use xlink:href=\"#DejaVuSans-49\"/>\r\n       <use x=\"63.623047\" xlink:href=\"#DejaVuSans-57\"/>\r\n       <use x=\"127.246094\" xlink:href=\"#DejaVuSans-50\"/>\r\n       <use x=\"190.869141\" xlink:href=\"#DejaVuSans-48\"/>\r\n      </g>\r\n     </g>\r\n    </g>\r\n    <g id=\"xtick_3\">\r\n     <g id=\"line2d_3\">\r\n      <g>\r\n       <use style=\"fill:#ffffff;stroke:#ffffff;stroke-width:0.8;\" x=\"167.173857\" xlink:href=\"#m43cb0f30c5\" y=\"224.64\"/>\r\n      </g>\r\n     </g>\r\n     <g id=\"text_3\">\r\n      <!-- 1940 -->\r\n      <g style=\"fill:#ffffff;\" transform=\"translate(154.448857 239.238438)scale(0.1 -0.1)\">\r\n       <defs>\r\n        <path d=\"M 37.796875 64.3125 \r\nL 12.890625 25.390625 \r\nL 37.796875 25.390625 \r\nz\r\nM 35.203125 72.90625 \r\nL 47.609375 72.90625 \r\nL 47.609375 25.390625 \r\nL 58.015625 25.390625 \r\nL 58.015625 17.1875 \r\nL 47.609375 17.1875 \r\nL 47.609375 0 \r\nL 37.796875 0 \r\nL 37.796875 17.1875 \r\nL 4.890625 17.1875 \r\nL 4.890625 26.703125 \r\nz\r\n\" id=\"DejaVuSans-52\"/>\r\n       </defs>\r\n       <use xlink:href=\"#DejaVuSans-49\"/>\r\n       <use x=\"63.623047\" xlink:href=\"#DejaVuSans-57\"/>\r\n       <use x=\"127.246094\" xlink:href=\"#DejaVuSans-52\"/>\r\n       <use x=\"190.869141\" xlink:href=\"#DejaVuSans-48\"/>\r\n      </g>\r\n     </g>\r\n    </g>\r\n    <g id=\"xtick_4\">\r\n     <g id=\"line2d_4\">\r\n      <g>\r\n       <use style=\"fill:#ffffff;stroke:#ffffff;stroke-width:0.8;\" x=\"216.663879\" xlink:href=\"#m43cb0f30c5\" y=\"224.64\"/>\r\n      </g>\r\n     </g>\r\n     <g id=\"text_4\">\r\n      <!-- 1960 -->\r\n      <g style=\"fill:#ffffff;\" transform=\"translate(203.938879 239.238438)scale(0.1 -0.1)\">\r\n       <defs>\r\n        <path d=\"M 33.015625 40.375 \r\nQ 26.375 40.375 22.484375 35.828125 \r\nQ 18.609375 31.296875 18.609375 23.390625 \r\nQ 18.609375 15.53125 22.484375 10.953125 \r\nQ 26.375 6.390625 33.015625 6.390625 \r\nQ 39.65625 6.390625 43.53125 10.953125 \r\nQ 47.40625 15.53125 47.40625 23.390625 \r\nQ 47.40625 31.296875 43.53125 35.828125 \r\nQ 39.65625 40.375 33.015625 40.375 \r\nz\r\nM 52.59375 71.296875 \r\nL 52.59375 62.3125 \r\nQ 48.875 64.0625 45.09375 64.984375 \r\nQ 41.3125 65.921875 37.59375 65.921875 \r\nQ 27.828125 65.921875 22.671875 59.328125 \r\nQ 17.53125 52.734375 16.796875 39.40625 \r\nQ 19.671875 43.65625 24.015625 45.921875 \r\nQ 28.375 48.1875 33.59375 48.1875 \r\nQ 44.578125 48.1875 50.953125 41.515625 \r\nQ 57.328125 34.859375 57.328125 23.390625 \r\nQ 57.328125 12.15625 50.6875 5.359375 \r\nQ 44.046875 -1.421875 33.015625 -1.421875 \r\nQ 20.359375 -1.421875 13.671875 8.265625 \r\nQ 6.984375 17.96875 6.984375 36.375 \r\nQ 6.984375 53.65625 15.1875 63.9375 \r\nQ 23.390625 74.21875 37.203125 74.21875 \r\nQ 40.921875 74.21875 44.703125 73.484375 \r\nQ 48.484375 72.75 52.59375 71.296875 \r\nz\r\n\" id=\"DejaVuSans-54\"/>\r\n       </defs>\r\n       <use xlink:href=\"#DejaVuSans-49\"/>\r\n       <use x=\"63.623047\" xlink:href=\"#DejaVuSans-57\"/>\r\n       <use x=\"127.246094\" xlink:href=\"#DejaVuSans-54\"/>\r\n       <use x=\"190.869141\" xlink:href=\"#DejaVuSans-48\"/>\r\n      </g>\r\n     </g>\r\n    </g>\r\n    <g id=\"xtick_5\">\r\n     <g id=\"line2d_5\">\r\n      <g>\r\n       <use style=\"fill:#ffffff;stroke:#ffffff;stroke-width:0.8;\" x=\"266.153901\" xlink:href=\"#m43cb0f30c5\" y=\"224.64\"/>\r\n      </g>\r\n     </g>\r\n     <g id=\"text_5\">\r\n      <!-- 1980 -->\r\n      <g style=\"fill:#ffffff;\" transform=\"translate(253.428901 239.238438)scale(0.1 -0.1)\">\r\n       <defs>\r\n        <path d=\"M 31.78125 34.625 \r\nQ 24.75 34.625 20.71875 30.859375 \r\nQ 16.703125 27.09375 16.703125 20.515625 \r\nQ 16.703125 13.921875 20.71875 10.15625 \r\nQ 24.75 6.390625 31.78125 6.390625 \r\nQ 38.8125 6.390625 42.859375 10.171875 \r\nQ 46.921875 13.96875 46.921875 20.515625 \r\nQ 46.921875 27.09375 42.890625 30.859375 \r\nQ 38.875 34.625 31.78125 34.625 \r\nz\r\nM 21.921875 38.8125 \r\nQ 15.578125 40.375 12.03125 44.71875 \r\nQ 8.5 49.078125 8.5 55.328125 \r\nQ 8.5 64.0625 14.71875 69.140625 \r\nQ 20.953125 74.21875 31.78125 74.21875 \r\nQ 42.671875 74.21875 48.875 69.140625 \r\nQ 55.078125 64.0625 55.078125 55.328125 \r\nQ 55.078125 49.078125 51.53125 44.71875 \r\nQ 48 40.375 41.703125 38.8125 \r\nQ 48.828125 37.15625 52.796875 32.3125 \r\nQ 56.78125 27.484375 56.78125 20.515625 \r\nQ 56.78125 9.90625 50.3125 4.234375 \r\nQ 43.84375 -1.421875 31.78125 -1.421875 \r\nQ 19.734375 -1.421875 13.25 4.234375 \r\nQ 6.78125 9.90625 6.78125 20.515625 \r\nQ 6.78125 27.484375 10.78125 32.3125 \r\nQ 14.796875 37.15625 21.921875 38.8125 \r\nz\r\nM 18.3125 54.390625 \r\nQ 18.3125 48.734375 21.84375 45.5625 \r\nQ 25.390625 42.390625 31.78125 42.390625 \r\nQ 38.140625 42.390625 41.71875 45.5625 \r\nQ 45.3125 48.734375 45.3125 54.390625 \r\nQ 45.3125 60.0625 41.71875 63.234375 \r\nQ 38.140625 66.40625 31.78125 66.40625 \r\nQ 25.390625 66.40625 21.84375 63.234375 \r\nQ 18.3125 60.0625 18.3125 54.390625 \r\nz\r\n\" id=\"DejaVuSans-56\"/>\r\n       </defs>\r\n       <use xlink:href=\"#DejaVuSans-49\"/>\r\n       <use x=\"63.623047\" xlink:href=\"#DejaVuSans-57\"/>\r\n       <use x=\"127.246094\" xlink:href=\"#DejaVuSans-56\"/>\r\n       <use x=\"190.869141\" xlink:href=\"#DejaVuSans-48\"/>\r\n      </g>\r\n     </g>\r\n    </g>\r\n    <g id=\"xtick_6\">\r\n     <g id=\"line2d_6\">\r\n      <g>\r\n       <use style=\"fill:#ffffff;stroke:#ffffff;stroke-width:0.8;\" x=\"315.643923\" xlink:href=\"#m43cb0f30c5\" y=\"224.64\"/>\r\n      </g>\r\n     </g>\r\n     <g id=\"text_6\">\r\n      <!-- 2000 -->\r\n      <g style=\"fill:#ffffff;\" transform=\"translate(302.918923 239.238438)scale(0.1 -0.1)\">\r\n       <use xlink:href=\"#DejaVuSans-50\"/>\r\n       <use x=\"63.623047\" xlink:href=\"#DejaVuSans-48\"/>\r\n       <use x=\"127.246094\" xlink:href=\"#DejaVuSans-48\"/>\r\n       <use x=\"190.869141\" xlink:href=\"#DejaVuSans-48\"/>\r\n      </g>\r\n     </g>\r\n    </g>\r\n    <g id=\"xtick_7\">\r\n     <g id=\"line2d_7\">\r\n      <g>\r\n       <use style=\"fill:#ffffff;stroke:#ffffff;stroke-width:0.8;\" x=\"365.133945\" xlink:href=\"#m43cb0f30c5\" y=\"224.64\"/>\r\n      </g>\r\n     </g>\r\n     <g id=\"text_7\">\r\n      <!-- 2020 -->\r\n      <g style=\"fill:#ffffff;\" transform=\"translate(352.408945 239.238438)scale(0.1 -0.1)\">\r\n       <use xlink:href=\"#DejaVuSans-50\"/>\r\n       <use x=\"63.623047\" xlink:href=\"#DejaVuSans-48\"/>\r\n       <use x=\"127.246094\" xlink:href=\"#DejaVuSans-50\"/>\r\n       <use x=\"190.869141\" xlink:href=\"#DejaVuSans-48\"/>\r\n      </g>\r\n     </g>\r\n    </g>\r\n    <g id=\"text_8\">\r\n     <!-- Date -->\r\n     <g style=\"fill:#ffffff;\" transform=\"translate(196.052344 252.916563)scale(0.1 -0.1)\">\r\n      <defs>\r\n       <path d=\"M 19.671875 64.796875 \r\nL 19.671875 8.109375 \r\nL 31.59375 8.109375 \r\nQ 46.6875 8.109375 53.6875 14.9375 \r\nQ 60.6875 21.78125 60.6875 36.53125 \r\nQ 60.6875 51.171875 53.6875 57.984375 \r\nQ 46.6875 64.796875 31.59375 64.796875 \r\nz\r\nM 9.8125 72.90625 \r\nL 30.078125 72.90625 \r\nQ 51.265625 72.90625 61.171875 64.09375 \r\nQ 71.09375 55.28125 71.09375 36.53125 \r\nQ 71.09375 17.671875 61.125 8.828125 \r\nQ 51.171875 0 30.078125 0 \r\nL 9.8125 0 \r\nz\r\n\" id=\"DejaVuSans-68\"/>\r\n       <path d=\"M 34.28125 27.484375 \r\nQ 23.390625 27.484375 19.1875 25 \r\nQ 14.984375 22.515625 14.984375 16.5 \r\nQ 14.984375 11.71875 18.140625 8.90625 \r\nQ 21.296875 6.109375 26.703125 6.109375 \r\nQ 34.1875 6.109375 38.703125 11.40625 \r\nQ 43.21875 16.703125 43.21875 25.484375 \r\nL 43.21875 27.484375 \r\nz\r\nM 52.203125 31.203125 \r\nL 52.203125 0 \r\nL 43.21875 0 \r\nL 43.21875 8.296875 \r\nQ 40.140625 3.328125 35.546875 0.953125 \r\nQ 30.953125 -1.421875 24.3125 -1.421875 \r\nQ 15.921875 -1.421875 10.953125 3.296875 \r\nQ 6 8.015625 6 15.921875 \r\nQ 6 25.140625 12.171875 29.828125 \r\nQ 18.359375 34.515625 30.609375 34.515625 \r\nL 43.21875 34.515625 \r\nL 43.21875 35.40625 \r\nQ 43.21875 41.609375 39.140625 45 \r\nQ 35.0625 48.390625 27.6875 48.390625 \r\nQ 23 48.390625 18.546875 47.265625 \r\nQ 14.109375 46.140625 10.015625 43.890625 \r\nL 10.015625 52.203125 \r\nQ 14.9375 54.109375 19.578125 55.046875 \r\nQ 24.21875 56 28.609375 56 \r\nQ 40.484375 56 46.34375 49.84375 \r\nQ 52.203125 43.703125 52.203125 31.203125 \r\nz\r\n\" id=\"DejaVuSans-97\"/>\r\n       <path d=\"M 18.3125 70.21875 \r\nL 18.3125 54.6875 \r\nL 36.8125 54.6875 \r\nL 36.8125 47.703125 \r\nL 18.3125 47.703125 \r\nL 18.3125 18.015625 \r\nQ 18.3125 11.328125 20.140625 9.421875 \r\nQ 21.96875 7.515625 27.59375 7.515625 \r\nL 36.8125 7.515625 \r\nL 36.8125 0 \r\nL 27.59375 0 \r\nQ 17.1875 0 13.234375 3.875 \r\nQ 9.28125 7.765625 9.28125 18.015625 \r\nL 9.28125 47.703125 \r\nL 2.6875 47.703125 \r\nL 2.6875 54.6875 \r\nL 9.28125 54.6875 \r\nL 9.28125 70.21875 \r\nz\r\n\" id=\"DejaVuSans-116\"/>\r\n       <path d=\"M 56.203125 29.59375 \r\nL 56.203125 25.203125 \r\nL 14.890625 25.203125 \r\nQ 15.484375 15.921875 20.484375 11.0625 \r\nQ 25.484375 6.203125 34.421875 6.203125 \r\nQ 39.59375 6.203125 44.453125 7.46875 \r\nQ 49.3125 8.734375 54.109375 11.28125 \r\nL 54.109375 2.78125 \r\nQ 49.265625 0.734375 44.1875 -0.34375 \r\nQ 39.109375 -1.421875 33.890625 -1.421875 \r\nQ 20.796875 -1.421875 13.15625 6.1875 \r\nQ 5.515625 13.8125 5.515625 26.8125 \r\nQ 5.515625 40.234375 12.765625 48.109375 \r\nQ 20.015625 56 32.328125 56 \r\nQ 43.359375 56 49.78125 48.890625 \r\nQ 56.203125 41.796875 56.203125 29.59375 \r\nz\r\nM 47.21875 32.234375 \r\nQ 47.125 39.59375 43.09375 43.984375 \r\nQ 39.0625 48.390625 32.421875 48.390625 \r\nQ 24.90625 48.390625 20.390625 44.140625 \r\nQ 15.875 39.890625 15.1875 32.171875 \r\nz\r\n\" id=\"DejaVuSans-101\"/>\r\n      </defs>\r\n      <use xlink:href=\"#DejaVuSans-68\"/>\r\n      <use x=\"77.001953\" xlink:href=\"#DejaVuSans-97\"/>\r\n      <use x=\"138.28125\" xlink:href=\"#DejaVuSans-116\"/>\r\n      <use x=\"177.490234\" xlink:href=\"#DejaVuSans-101\"/>\r\n     </g>\r\n    </g>\r\n   </g>\r\n   <g id=\"matplotlib.axis_2\">\r\n    <g id=\"ytick_1\">\r\n     <g id=\"line2d_8\">\r\n      <defs>\r\n       <path d=\"M 0 0 \r\nL -3.5 0 \r\n\" id=\"meffa5a8626\" style=\"stroke:#ffffff;stroke-width:0.8;\"/>\r\n      </defs>\r\n      <g>\r\n       <use style=\"fill:#ffffff;stroke:#ffffff;stroke-width:0.8;\" x=\"40.603125\" xlink:href=\"#meffa5a8626\" y=\"178.89945\"/>\r\n      </g>\r\n     </g>\r\n     <g id=\"text_9\">\r\n      <!-- 30 -->\r\n      <g style=\"fill:#ffffff;\" transform=\"translate(20.878125 182.698669)scale(0.1 -0.1)\">\r\n       <defs>\r\n        <path d=\"M 40.578125 39.3125 \r\nQ 47.65625 37.796875 51.625 33 \r\nQ 55.609375 28.21875 55.609375 21.1875 \r\nQ 55.609375 10.40625 48.1875 4.484375 \r\nQ 40.765625 -1.421875 27.09375 -1.421875 \r\nQ 22.515625 -1.421875 17.65625 -0.515625 \r\nQ 12.796875 0.390625 7.625 2.203125 \r\nL 7.625 11.71875 \r\nQ 11.71875 9.328125 16.59375 8.109375 \r\nQ 21.484375 6.890625 26.8125 6.890625 \r\nQ 36.078125 6.890625 40.9375 10.546875 \r\nQ 45.796875 14.203125 45.796875 21.1875 \r\nQ 45.796875 27.640625 41.28125 31.265625 \r\nQ 36.765625 34.90625 28.71875 34.90625 \r\nL 20.21875 34.90625 \r\nL 20.21875 43.015625 \r\nL 29.109375 43.015625 \r\nQ 36.375 43.015625 40.234375 45.921875 \r\nQ 44.09375 48.828125 44.09375 54.296875 \r\nQ 44.09375 59.90625 40.109375 62.90625 \r\nQ 36.140625 65.921875 28.71875 65.921875 \r\nQ 24.65625 65.921875 20.015625 65.03125 \r\nQ 15.375 64.15625 9.8125 62.3125 \r\nL 9.8125 71.09375 \r\nQ 15.4375 72.65625 20.34375 73.4375 \r\nQ 25.25 74.21875 29.59375 74.21875 \r\nQ 40.828125 74.21875 47.359375 69.109375 \r\nQ 53.90625 64.015625 53.90625 55.328125 \r\nQ 53.90625 49.265625 50.4375 45.09375 \r\nQ 46.96875 40.921875 40.578125 39.3125 \r\nz\r\n\" id=\"DejaVuSans-51\"/>\r\n       </defs>\r\n       <use xlink:href=\"#DejaVuSans-51\"/>\r\n       <use x=\"63.623047\" xlink:href=\"#DejaVuSans-48\"/>\r\n      </g>\r\n     </g>\r\n    </g>\r\n    <g id=\"ytick_2\">\r\n     <g id=\"line2d_9\">\r\n      <g>\r\n       <use style=\"fill:#ffffff;stroke:#ffffff;stroke-width:0.8;\" x=\"40.603125\" xlink:href=\"#meffa5a8626\" y=\"132.929049\"/>\r\n      </g>\r\n     </g>\r\n     <g id=\"text_10\">\r\n      <!-- 35 -->\r\n      <g style=\"fill:#ffffff;\" transform=\"translate(20.878125 136.728267)scale(0.1 -0.1)\">\r\n       <defs>\r\n        <path d=\"M 10.796875 72.90625 \r\nL 49.515625 72.90625 \r\nL 49.515625 64.59375 \r\nL 19.828125 64.59375 \r\nL 19.828125 46.734375 \r\nQ 21.96875 47.46875 24.109375 47.828125 \r\nQ 26.265625 48.1875 28.421875 48.1875 \r\nQ 40.625 48.1875 47.75 41.5 \r\nQ 54.890625 34.8125 54.890625 23.390625 \r\nQ 54.890625 11.625 47.5625 5.09375 \r\nQ 40.234375 -1.421875 26.90625 -1.421875 \r\nQ 22.3125 -1.421875 17.546875 -0.640625 \r\nQ 12.796875 0.140625 7.71875 1.703125 \r\nL 7.71875 11.625 \r\nQ 12.109375 9.234375 16.796875 8.0625 \r\nQ 21.484375 6.890625 26.703125 6.890625 \r\nQ 35.15625 6.890625 40.078125 11.328125 \r\nQ 45.015625 15.765625 45.015625 23.390625 \r\nQ 45.015625 31 40.078125 35.4375 \r\nQ 35.15625 39.890625 26.703125 39.890625 \r\nQ 22.75 39.890625 18.8125 39.015625 \r\nQ 14.890625 38.140625 10.796875 36.28125 \r\nz\r\n\" id=\"DejaVuSans-53\"/>\r\n       </defs>\r\n       <use xlink:href=\"#DejaVuSans-51\"/>\r\n       <use x=\"63.623047\" xlink:href=\"#DejaVuSans-53\"/>\r\n      </g>\r\n     </g>\r\n    </g>\r\n    <g id=\"ytick_3\">\r\n     <g id=\"line2d_10\">\r\n      <g>\r\n       <use style=\"fill:#ffffff;stroke:#ffffff;stroke-width:0.8;\" x=\"40.603125\" xlink:href=\"#meffa5a8626\" y=\"86.958647\"/>\r\n      </g>\r\n     </g>\r\n     <g id=\"text_11\">\r\n      <!-- 40 -->\r\n      <g style=\"fill:#ffffff;\" transform=\"translate(20.878125 90.757866)scale(0.1 -0.1)\">\r\n       <use xlink:href=\"#DejaVuSans-52\"/>\r\n       <use x=\"63.623047\" xlink:href=\"#DejaVuSans-48\"/>\r\n      </g>\r\n     </g>\r\n    </g>\r\n    <g id=\"ytick_4\">\r\n     <g id=\"line2d_11\">\r\n      <g>\r\n       <use style=\"fill:#ffffff;stroke:#ffffff;stroke-width:0.8;\" x=\"40.603125\" xlink:href=\"#meffa5a8626\" y=\"40.988245\"/>\r\n      </g>\r\n     </g>\r\n     <g id=\"text_12\">\r\n      <!-- 45 -->\r\n      <g style=\"fill:#ffffff;\" transform=\"translate(20.878125 44.787464)scale(0.1 -0.1)\">\r\n       <use xlink:href=\"#DejaVuSans-52\"/>\r\n       <use x=\"63.623047\" xlink:href=\"#DejaVuSans-53\"/>\r\n      </g>\r\n     </g>\r\n    </g>\r\n    <g id=\"text_13\">\r\n     <!-- Temperature -->\r\n     <g style=\"fill:#ffffff;\" transform=\"translate(14.798438 147.589531)rotate(-90)scale(0.1 -0.1)\">\r\n      <defs>\r\n       <path d=\"M -0.296875 72.90625 \r\nL 61.375 72.90625 \r\nL 61.375 64.59375 \r\nL 35.5 64.59375 \r\nL 35.5 0 \r\nL 25.59375 0 \r\nL 25.59375 64.59375 \r\nL -0.296875 64.59375 \r\nz\r\n\" id=\"DejaVuSans-84\"/>\r\n       <path d=\"M 52 44.1875 \r\nQ 55.375 50.25 60.0625 53.125 \r\nQ 64.75 56 71.09375 56 \r\nQ 79.640625 56 84.28125 50.015625 \r\nQ 88.921875 44.046875 88.921875 33.015625 \r\nL 88.921875 0 \r\nL 79.890625 0 \r\nL 79.890625 32.71875 \r\nQ 79.890625 40.578125 77.09375 44.375 \r\nQ 74.3125 48.1875 68.609375 48.1875 \r\nQ 61.625 48.1875 57.5625 43.546875 \r\nQ 53.515625 38.921875 53.515625 30.90625 \r\nL 53.515625 0 \r\nL 44.484375 0 \r\nL 44.484375 32.71875 \r\nQ 44.484375 40.625 41.703125 44.40625 \r\nQ 38.921875 48.1875 33.109375 48.1875 \r\nQ 26.21875 48.1875 22.15625 43.53125 \r\nQ 18.109375 38.875 18.109375 30.90625 \r\nL 18.109375 0 \r\nL 9.078125 0 \r\nL 9.078125 54.6875 \r\nL 18.109375 54.6875 \r\nL 18.109375 46.1875 \r\nQ 21.1875 51.21875 25.484375 53.609375 \r\nQ 29.78125 56 35.6875 56 \r\nQ 41.65625 56 45.828125 52.96875 \r\nQ 50 49.953125 52 44.1875 \r\nz\r\n\" id=\"DejaVuSans-109\"/>\r\n       <path d=\"M 18.109375 8.203125 \r\nL 18.109375 -20.796875 \r\nL 9.078125 -20.796875 \r\nL 9.078125 54.6875 \r\nL 18.109375 54.6875 \r\nL 18.109375 46.390625 \r\nQ 20.953125 51.265625 25.265625 53.625 \r\nQ 29.59375 56 35.59375 56 \r\nQ 45.5625 56 51.78125 48.09375 \r\nQ 58.015625 40.1875 58.015625 27.296875 \r\nQ 58.015625 14.40625 51.78125 6.484375 \r\nQ 45.5625 -1.421875 35.59375 -1.421875 \r\nQ 29.59375 -1.421875 25.265625 0.953125 \r\nQ 20.953125 3.328125 18.109375 8.203125 \r\nz\r\nM 48.6875 27.296875 \r\nQ 48.6875 37.203125 44.609375 42.84375 \r\nQ 40.53125 48.484375 33.40625 48.484375 \r\nQ 26.265625 48.484375 22.1875 42.84375 \r\nQ 18.109375 37.203125 18.109375 27.296875 \r\nQ 18.109375 17.390625 22.1875 11.75 \r\nQ 26.265625 6.109375 33.40625 6.109375 \r\nQ 40.53125 6.109375 44.609375 11.75 \r\nQ 48.6875 17.390625 48.6875 27.296875 \r\nz\r\n\" id=\"DejaVuSans-112\"/>\r\n       <path d=\"M 41.109375 46.296875 \r\nQ 39.59375 47.171875 37.8125 47.578125 \r\nQ 36.03125 48 33.890625 48 \r\nQ 26.265625 48 22.1875 43.046875 \r\nQ 18.109375 38.09375 18.109375 28.8125 \r\nL 18.109375 0 \r\nL 9.078125 0 \r\nL 9.078125 54.6875 \r\nL 18.109375 54.6875 \r\nL 18.109375 46.1875 \r\nQ 20.953125 51.171875 25.484375 53.578125 \r\nQ 30.03125 56 36.53125 56 \r\nQ 37.453125 56 38.578125 55.875 \r\nQ 39.703125 55.765625 41.0625 55.515625 \r\nz\r\n\" id=\"DejaVuSans-114\"/>\r\n       <path d=\"M 8.5 21.578125 \r\nL 8.5 54.6875 \r\nL 17.484375 54.6875 \r\nL 17.484375 21.921875 \r\nQ 17.484375 14.15625 20.5 10.265625 \r\nQ 23.53125 6.390625 29.59375 6.390625 \r\nQ 36.859375 6.390625 41.078125 11.03125 \r\nQ 45.3125 15.671875 45.3125 23.6875 \r\nL 45.3125 54.6875 \r\nL 54.296875 54.6875 \r\nL 54.296875 0 \r\nL 45.3125 0 \r\nL 45.3125 8.40625 \r\nQ 42.046875 3.421875 37.71875 1 \r\nQ 33.40625 -1.421875 27.6875 -1.421875 \r\nQ 18.265625 -1.421875 13.375 4.4375 \r\nQ 8.5 10.296875 8.5 21.578125 \r\nz\r\nM 31.109375 56 \r\nz\r\n\" id=\"DejaVuSans-117\"/>\r\n      </defs>\r\n      <use xlink:href=\"#DejaVuSans-84\"/>\r\n      <use x=\"44.083984\" xlink:href=\"#DejaVuSans-101\"/>\r\n      <use x=\"105.607422\" xlink:href=\"#DejaVuSans-109\"/>\r\n      <use x=\"203.019531\" xlink:href=\"#DejaVuSans-112\"/>\r\n      <use x=\"266.496094\" xlink:href=\"#DejaVuSans-101\"/>\r\n      <use x=\"328.019531\" xlink:href=\"#DejaVuSans-114\"/>\r\n      <use x=\"369.132812\" xlink:href=\"#DejaVuSans-97\"/>\r\n      <use x=\"430.412109\" xlink:href=\"#DejaVuSans-116\"/>\r\n      <use x=\"469.621094\" xlink:href=\"#DejaVuSans-117\"/>\r\n      <use x=\"533\" xlink:href=\"#DejaVuSans-114\"/>\r\n      <use x=\"571.863281\" xlink:href=\"#DejaVuSans-101\"/>\r\n     </g>\r\n    </g>\r\n   </g>\r\n   <g id=\"patch_3\">\r\n    <path d=\"M 40.603125 224.64 \r\nL 40.603125 7.2 \r\n\" style=\"fill:none;stroke:#ffffff;stroke-linecap:square;stroke-linejoin:miter;stroke-width:0.8;\"/>\r\n   </g>\r\n   <g id=\"patch_4\">\r\n    <path d=\"M 375.403125 224.64 \r\nL 375.403125 7.2 \r\n\" style=\"fill:none;stroke:#ffffff;stroke-linecap:square;stroke-linejoin:miter;stroke-width:0.8;\"/>\r\n   </g>\r\n   <g id=\"patch_5\">\r\n    <path d=\"M 40.603125 224.64 \r\nL 375.403125 224.64 \r\n\" style=\"fill:none;stroke:#ffffff;stroke-linecap:square;stroke-linejoin:miter;stroke-width:0.8;\"/>\r\n   </g>\r\n   <g id=\"patch_6\">\r\n    <path d=\"M 40.603125 7.2 \r\nL 375.403125 7.2 \r\n\" style=\"fill:none;stroke:#ffffff;stroke-linecap:square;stroke-linejoin:miter;stroke-width:0.8;\"/>\r\n   </g>\r\n  </g>\r\n </g>\r\n <defs>\r\n  <clipPath id=\"p158df751c5\">\r\n   <rect height=\"217.44\" width=\"334.8\" x=\"40.603125\" y=\"7.2\"/>\r\n  </clipPath>\r\n </defs>\r\n</svg>\r\n",
      "image/png": "[encoded data removed]"
     },
     "metadata": {}
    }
   ],
   "source": [
    "axes = sns.scatterplot(data=nyc, x='Date', y='Temperature', hue='Temperature', palette='winter', legend=False)"
   ]
  },
  {
   "cell_type": "markdown",
   "metadata": {},
   "source": [
    "Os argumentos de **scatterplot** são:\n",
    "- *data*, que especifica o DataFrame (nyc) que contém os dados a serem exibidos.\n",
    "- *x* e *y*, que especificam os nomes das colunas de nyc que são a fonte dos dados ao longo dos eixos x e y, respectivamente. Neste caso, x é a 'Data' e y é a 'Temperatura'. Os valores correspondentes de cada coluna formam a coordenada x-y pares usados para traçar os pontos.\n",
    "- *hue* especifica quais dados da coluna devem ser usados para determinar as cores. Neste caso, usamos a coluna 'Temperatura'. \n",
    "- *palette*, que especifica um mapa de cores Matplotlib.\n",
    "- *legend = False* especifica que o gráfico de dispersão não deve mostrar uma legenda para o gráfico - o padrão é True, mas não precisamos de uma legenda para este exemplo."
   ]
  },
  {
   "cell_type": "code",
   "execution_count": 48,
   "metadata": {},
   "outputs": [
    {
     "output_type": "execute_result",
     "data": {
      "text/plain": [
       "(10.0, 70.0)"
      ]
     },
     "metadata": {},
     "execution_count": 48
    }
   ],
   "source": [
    "axes.set_ylim(10, 70)"
   ]
  },
  {
   "cell_type": "markdown",
   "metadata": {},
   "source": [
    "A seguir, vamos exibir a linha de regressão. Primeiro, crie uma matriz contendo os valores mínimo e máximos de nyc.Data. Estas são as coordenadas x da linha de regressão\n",
    "pontos inicial e final:"
   ]
  },
  {
   "cell_type": "code",
   "execution_count": 49,
   "metadata": {},
   "outputs": [],
   "source": [
    "import numpy as np"
   ]
  },
  {
   "cell_type": "code",
   "execution_count": 50,
   "metadata": {},
   "outputs": [],
   "source": [
    "x = np.array([min(nyc.Date.values), max(nyc.Date.values)])"
   ]
  },
  {
   "cell_type": "code",
   "execution_count": 51,
   "metadata": {},
   "outputs": [],
   "source": [
    "predict = (lambda x: linear_regression.coef_ * x + linear_regression.intercept_)"
   ]
  },
  {
   "cell_type": "code",
   "execution_count": 52,
   "metadata": {},
   "outputs": [],
   "source": [
    "y = predict(x)"
   ]
  },
  {
   "cell_type": "code",
   "execution_count": 53,
   "metadata": {},
   "outputs": [],
   "source": [
    "import matplotlib.pyplot as plt"
   ]
  },
  {
   "cell_type": "code",
   "execution_count": 54,
   "metadata": {},
   "outputs": [
    {
     "output_type": "display_data",
     "data": {
      "text/plain": "<Figure size 432x288 with 1 Axes>",
      "image/svg+xml": "<?xml version=\"1.0\" encoding=\"utf-8\" standalone=\"no\"?>\r\n<!DOCTYPE svg PUBLIC \"-//W3C//DTD SVG 1.1//EN\"\r\n  \"http://www.w3.org/Graphics/SVG/1.1/DTD/svg11.dtd\">\r\n<!-- Created with matplotlib (https://matplotlib.org/) -->\r\n<svg height=\"248.518125pt\" version=\"1.1\" viewBox=\"0 0 380.921445 248.518125\" width=\"380.921445pt\" xmlns=\"http://www.w3.org/2000/svg\" xmlns:xlink=\"http://www.w3.org/1999/xlink\">\r\n <metadata>\r\n  <rdf:RDF xmlns:cc=\"http://creativecommons.org/ns#\" xmlns:dc=\"http://purl.org/dc/elements/1.1/\" xmlns:rdf=\"http://www.w3.org/1999/02/22-rdf-syntax-ns#\">\r\n   <cc:Work>\r\n    <dc:type rdf:resource=\"http://purl.org/dc/dcmitype/StillImage\"/>\r\n    <dc:date>2020-11-26T10:37:29.484698</dc:date>\r\n    <dc:format>image/svg+xml</dc:format>\r\n    <dc:creator>\r\n     <cc:Agent>\r\n      <dc:title>Matplotlib v3.3.3, https://matplotlib.org/</dc:title>\r\n     </cc:Agent>\r\n    </dc:creator>\r\n   </cc:Work>\r\n  </rdf:RDF>\r\n </metadata>\r\n <defs>\r\n  <style type=\"text/css\">*{stroke-linecap:butt;stroke-linejoin:round;}</style>\r\n </defs>\r\n <g id=\"figure_1\">\r\n  <g id=\"patch_1\">\r\n   <path d=\"M 0 248.518125 \r\nL 380.921445 248.518125 \r\nL 380.921445 0 \r\nL 0 0 \r\nz\r\n\"/>\r\n  </g>\r\n  <g id=\"axes_1\">\r\n   <g id=\"patch_2\">\r\n    <path d=\"M 36.465625 224.64 \r\nL 371.265625 224.64 \r\nL 371.265625 7.2 \r\nL 36.465625 7.2 \r\nz\r\n\"/>\r\n   </g>\r\n   <g id=\"matplotlib.axis_1\">\r\n    <g id=\"xtick_1\">\r\n     <g id=\"line2d_1\">\r\n      <defs>\r\n       <path d=\"M 0 0 \r\nL 0 3.5 \r\n\" id=\"m02f8b9ef2a\" style=\"stroke:#ffffff;stroke-width:0.8;\"/>\r\n      </defs>\r\n      <g>\r\n       <use style=\"fill:#ffffff;stroke:#ffffff;stroke-width:0.8;\" x=\"64.056312\" xlink:href=\"#m02f8b9ef2a\" y=\"224.64\"/>\r\n      </g>\r\n     </g>\r\n     <g id=\"text_1\">\r\n      <!-- 1900 -->\r\n      <g style=\"fill:#ffffff;\" transform=\"translate(51.331312 239.238438)scale(0.1 -0.1)\">\r\n       <defs>\r\n        <path d=\"M 12.40625 8.296875 \r\nL 28.515625 8.296875 \r\nL 28.515625 63.921875 \r\nL 10.984375 60.40625 \r\nL 10.984375 69.390625 \r\nL 28.421875 72.90625 \r\nL 38.28125 72.90625 \r\nL 38.28125 8.296875 \r\nL 54.390625 8.296875 \r\nL 54.390625 0 \r\nL 12.40625 0 \r\nz\r\n\" id=\"DejaVuSans-49\"/>\r\n        <path d=\"M 10.984375 1.515625 \r\nL 10.984375 10.5 \r\nQ 14.703125 8.734375 18.5 7.8125 \r\nQ 22.3125 6.890625 25.984375 6.890625 \r\nQ 35.75 6.890625 40.890625 13.453125 \r\nQ 46.046875 20.015625 46.78125 33.40625 \r\nQ 43.953125 29.203125 39.59375 26.953125 \r\nQ 35.25 24.703125 29.984375 24.703125 \r\nQ 19.046875 24.703125 12.671875 31.3125 \r\nQ 6.296875 37.9375 6.296875 49.421875 \r\nQ 6.296875 60.640625 12.9375 67.421875 \r\nQ 19.578125 74.21875 30.609375 74.21875 \r\nQ 43.265625 74.21875 49.921875 64.515625 \r\nQ 56.59375 54.828125 56.59375 36.375 \r\nQ 56.59375 19.140625 48.40625 8.859375 \r\nQ 40.234375 -1.421875 26.421875 -1.421875 \r\nQ 22.703125 -1.421875 18.890625 -0.6875 \r\nQ 15.09375 0.046875 10.984375 1.515625 \r\nz\r\nM 30.609375 32.421875 \r\nQ 37.25 32.421875 41.125 36.953125 \r\nQ 45.015625 41.5 45.015625 49.421875 \r\nQ 45.015625 57.28125 41.125 61.84375 \r\nQ 37.25 66.40625 30.609375 66.40625 \r\nQ 23.96875 66.40625 20.09375 61.84375 \r\nQ 16.21875 57.28125 16.21875 49.421875 \r\nQ 16.21875 41.5 20.09375 36.953125 \r\nQ 23.96875 32.421875 30.609375 32.421875 \r\nz\r\n\" id=\"DejaVuSans-57\"/>\r\n        <path d=\"M 31.78125 66.40625 \r\nQ 24.171875 66.40625 20.328125 58.90625 \r\nQ 16.5 51.421875 16.5 36.375 \r\nQ 16.5 21.390625 20.328125 13.890625 \r\nQ 24.171875 6.390625 31.78125 6.390625 \r\nQ 39.453125 6.390625 43.28125 13.890625 \r\nQ 47.125 21.390625 47.125 36.375 \r\nQ 47.125 51.421875 43.28125 58.90625 \r\nQ 39.453125 66.40625 31.78125 66.40625 \r\nz\r\nM 31.78125 74.21875 \r\nQ 44.046875 74.21875 50.515625 64.515625 \r\nQ 56.984375 54.828125 56.984375 36.375 \r\nQ 56.984375 17.96875 50.515625 8.265625 \r\nQ 44.046875 -1.421875 31.78125 -1.421875 \r\nQ 19.53125 -1.421875 13.0625 8.265625 \r\nQ 6.59375 17.96875 6.59375 36.375 \r\nQ 6.59375 54.828125 13.0625 64.515625 \r\nQ 19.53125 74.21875 31.78125 74.21875 \r\nz\r\n\" id=\"DejaVuSans-48\"/>\r\n       </defs>\r\n       <use xlink:href=\"#DejaVuSans-49\"/>\r\n       <use x=\"63.623047\" xlink:href=\"#DejaVuSans-57\"/>\r\n       <use x=\"127.246094\" xlink:href=\"#DejaVuSans-48\"/>\r\n       <use x=\"190.869141\" xlink:href=\"#DejaVuSans-48\"/>\r\n      </g>\r\n     </g>\r\n    </g>\r\n    <g id=\"xtick_2\">\r\n     <g id=\"line2d_2\">\r\n      <g>\r\n       <use style=\"fill:#ffffff;stroke:#ffffff;stroke-width:0.8;\" x=\"113.546335\" xlink:href=\"#m02f8b9ef2a\" y=\"224.64\"/>\r\n      </g>\r\n     </g>\r\n     <g id=\"text_2\">\r\n      <!-- 1920 -->\r\n      <g style=\"fill:#ffffff;\" transform=\"translate(100.821335 239.238438)scale(0.1 -0.1)\">\r\n       <defs>\r\n        <path d=\"M 19.1875 8.296875 \r\nL 53.609375 8.296875 \r\nL 53.609375 0 \r\nL 7.328125 0 \r\nL 7.328125 8.296875 \r\nQ 12.9375 14.109375 22.625 23.890625 \r\nQ 32.328125 33.6875 34.8125 36.53125 \r\nQ 39.546875 41.84375 41.421875 45.53125 \r\nQ 43.3125 49.21875 43.3125 52.78125 \r\nQ 43.3125 58.59375 39.234375 62.25 \r\nQ 35.15625 65.921875 28.609375 65.921875 \r\nQ 23.96875 65.921875 18.8125 64.3125 \r\nQ 13.671875 62.703125 7.8125 59.421875 \r\nL 7.8125 69.390625 \r\nQ 13.765625 71.78125 18.9375 73 \r\nQ 24.125 74.21875 28.421875 74.21875 \r\nQ 39.75 74.21875 46.484375 68.546875 \r\nQ 53.21875 62.890625 53.21875 53.421875 \r\nQ 53.21875 48.921875 51.53125 44.890625 \r\nQ 49.859375 40.875 45.40625 35.40625 \r\nQ 44.1875 33.984375 37.640625 27.21875 \r\nQ 31.109375 20.453125 19.1875 8.296875 \r\nz\r\n\" id=\"DejaVuSans-50\"/>\r\n       </defs>\r\n       <use xlink:href=\"#DejaVuSans-49\"/>\r\n       <use x=\"63.623047\" xlink:href=\"#DejaVuSans-57\"/>\r\n       <use x=\"127.246094\" xlink:href=\"#DejaVuSans-50\"/>\r\n       <use x=\"190.869141\" xlink:href=\"#DejaVuSans-48\"/>\r\n      </g>\r\n     </g>\r\n    </g>\r\n    <g id=\"xtick_3\">\r\n     <g id=\"line2d_3\">\r\n      <g>\r\n       <use style=\"fill:#ffffff;stroke:#ffffff;stroke-width:0.8;\" x=\"163.036357\" xlink:href=\"#m02f8b9ef2a\" y=\"224.64\"/>\r\n      </g>\r\n     </g>\r\n     <g id=\"text_3\">\r\n      <!-- 1940 -->\r\n      <g style=\"fill:#ffffff;\" transform=\"translate(150.311357 239.238438)scale(0.1 -0.1)\">\r\n       <defs>\r\n        <path d=\"M 37.796875 64.3125 \r\nL 12.890625 25.390625 \r\nL 37.796875 25.390625 \r\nz\r\nM 35.203125 72.90625 \r\nL 47.609375 72.90625 \r\nL 47.609375 25.390625 \r\nL 58.015625 25.390625 \r\nL 58.015625 17.1875 \r\nL 47.609375 17.1875 \r\nL 47.609375 0 \r\nL 37.796875 0 \r\nL 37.796875 17.1875 \r\nL 4.890625 17.1875 \r\nL 4.890625 26.703125 \r\nz\r\n\" id=\"DejaVuSans-52\"/>\r\n       </defs>\r\n       <use xlink:href=\"#DejaVuSans-49\"/>\r\n       <use x=\"63.623047\" xlink:href=\"#DejaVuSans-57\"/>\r\n       <use x=\"127.246094\" xlink:href=\"#DejaVuSans-52\"/>\r\n       <use x=\"190.869141\" xlink:href=\"#DejaVuSans-48\"/>\r\n      </g>\r\n     </g>\r\n    </g>\r\n    <g id=\"xtick_4\">\r\n     <g id=\"line2d_4\">\r\n      <g>\r\n       <use style=\"fill:#ffffff;stroke:#ffffff;stroke-width:0.8;\" x=\"212.526379\" xlink:href=\"#m02f8b9ef2a\" y=\"224.64\"/>\r\n      </g>\r\n     </g>\r\n     <g id=\"text_4\">\r\n      <!-- 1960 -->\r\n      <g style=\"fill:#ffffff;\" transform=\"translate(199.801379 239.238438)scale(0.1 -0.1)\">\r\n       <defs>\r\n        <path d=\"M 33.015625 40.375 \r\nQ 26.375 40.375 22.484375 35.828125 \r\nQ 18.609375 31.296875 18.609375 23.390625 \r\nQ 18.609375 15.53125 22.484375 10.953125 \r\nQ 26.375 6.390625 33.015625 6.390625 \r\nQ 39.65625 6.390625 43.53125 10.953125 \r\nQ 47.40625 15.53125 47.40625 23.390625 \r\nQ 47.40625 31.296875 43.53125 35.828125 \r\nQ 39.65625 40.375 33.015625 40.375 \r\nz\r\nM 52.59375 71.296875 \r\nL 52.59375 62.3125 \r\nQ 48.875 64.0625 45.09375 64.984375 \r\nQ 41.3125 65.921875 37.59375 65.921875 \r\nQ 27.828125 65.921875 22.671875 59.328125 \r\nQ 17.53125 52.734375 16.796875 39.40625 \r\nQ 19.671875 43.65625 24.015625 45.921875 \r\nQ 28.375 48.1875 33.59375 48.1875 \r\nQ 44.578125 48.1875 50.953125 41.515625 \r\nQ 57.328125 34.859375 57.328125 23.390625 \r\nQ 57.328125 12.15625 50.6875 5.359375 \r\nQ 44.046875 -1.421875 33.015625 -1.421875 \r\nQ 20.359375 -1.421875 13.671875 8.265625 \r\nQ 6.984375 17.96875 6.984375 36.375 \r\nQ 6.984375 53.65625 15.1875 63.9375 \r\nQ 23.390625 74.21875 37.203125 74.21875 \r\nQ 40.921875 74.21875 44.703125 73.484375 \r\nQ 48.484375 72.75 52.59375 71.296875 \r\nz\r\n\" id=\"DejaVuSans-54\"/>\r\n       </defs>\r\n       <use xlink:href=\"#DejaVuSans-49\"/>\r\n       <use x=\"63.623047\" xlink:href=\"#DejaVuSans-57\"/>\r\n       <use x=\"127.246094\" xlink:href=\"#DejaVuSans-54\"/>\r\n       <use x=\"190.869141\" xlink:href=\"#DejaVuSans-48\"/>\r\n      </g>\r\n     </g>\r\n    </g>\r\n    <g id=\"xtick_5\">\r\n     <g id=\"line2d_5\">\r\n      <g>\r\n       <use style=\"fill:#ffffff;stroke:#ffffff;stroke-width:0.8;\" x=\"262.016401\" xlink:href=\"#m02f8b9ef2a\" y=\"224.64\"/>\r\n      </g>\r\n     </g>\r\n     <g id=\"text_5\">\r\n      <!-- 1980 -->\r\n      <g style=\"fill:#ffffff;\" transform=\"translate(249.291401 239.238438)scale(0.1 -0.1)\">\r\n       <defs>\r\n        <path d=\"M 31.78125 34.625 \r\nQ 24.75 34.625 20.71875 30.859375 \r\nQ 16.703125 27.09375 16.703125 20.515625 \r\nQ 16.703125 13.921875 20.71875 10.15625 \r\nQ 24.75 6.390625 31.78125 6.390625 \r\nQ 38.8125 6.390625 42.859375 10.171875 \r\nQ 46.921875 13.96875 46.921875 20.515625 \r\nQ 46.921875 27.09375 42.890625 30.859375 \r\nQ 38.875 34.625 31.78125 34.625 \r\nz\r\nM 21.921875 38.8125 \r\nQ 15.578125 40.375 12.03125 44.71875 \r\nQ 8.5 49.078125 8.5 55.328125 \r\nQ 8.5 64.0625 14.71875 69.140625 \r\nQ 20.953125 74.21875 31.78125 74.21875 \r\nQ 42.671875 74.21875 48.875 69.140625 \r\nQ 55.078125 64.0625 55.078125 55.328125 \r\nQ 55.078125 49.078125 51.53125 44.71875 \r\nQ 48 40.375 41.703125 38.8125 \r\nQ 48.828125 37.15625 52.796875 32.3125 \r\nQ 56.78125 27.484375 56.78125 20.515625 \r\nQ 56.78125 9.90625 50.3125 4.234375 \r\nQ 43.84375 -1.421875 31.78125 -1.421875 \r\nQ 19.734375 -1.421875 13.25 4.234375 \r\nQ 6.78125 9.90625 6.78125 20.515625 \r\nQ 6.78125 27.484375 10.78125 32.3125 \r\nQ 14.796875 37.15625 21.921875 38.8125 \r\nz\r\nM 18.3125 54.390625 \r\nQ 18.3125 48.734375 21.84375 45.5625 \r\nQ 25.390625 42.390625 31.78125 42.390625 \r\nQ 38.140625 42.390625 41.71875 45.5625 \r\nQ 45.3125 48.734375 45.3125 54.390625 \r\nQ 45.3125 60.0625 41.71875 63.234375 \r\nQ 38.140625 66.40625 31.78125 66.40625 \r\nQ 25.390625 66.40625 21.84375 63.234375 \r\nQ 18.3125 60.0625 18.3125 54.390625 \r\nz\r\n\" id=\"DejaVuSans-56\"/>\r\n       </defs>\r\n       <use xlink:href=\"#DejaVuSans-49\"/>\r\n       <use x=\"63.623047\" xlink:href=\"#DejaVuSans-57\"/>\r\n       <use x=\"127.246094\" xlink:href=\"#DejaVuSans-56\"/>\r\n       <use x=\"190.869141\" xlink:href=\"#DejaVuSans-48\"/>\r\n      </g>\r\n     </g>\r\n    </g>\r\n    <g id=\"xtick_6\">\r\n     <g id=\"line2d_6\">\r\n      <g>\r\n       <use style=\"fill:#ffffff;stroke:#ffffff;stroke-width:0.8;\" x=\"311.506423\" xlink:href=\"#m02f8b9ef2a\" y=\"224.64\"/>\r\n      </g>\r\n     </g>\r\n     <g id=\"text_6\">\r\n      <!-- 2000 -->\r\n      <g style=\"fill:#ffffff;\" transform=\"translate(298.781423 239.238438)scale(0.1 -0.1)\">\r\n       <use xlink:href=\"#DejaVuSans-50\"/>\r\n       <use x=\"63.623047\" xlink:href=\"#DejaVuSans-48\"/>\r\n       <use x=\"127.246094\" xlink:href=\"#DejaVuSans-48\"/>\r\n       <use x=\"190.869141\" xlink:href=\"#DejaVuSans-48\"/>\r\n      </g>\r\n     </g>\r\n    </g>\r\n    <g id=\"xtick_7\">\r\n     <g id=\"line2d_7\">\r\n      <g>\r\n       <use style=\"fill:#ffffff;stroke:#ffffff;stroke-width:0.8;\" x=\"360.996445\" xlink:href=\"#m02f8b9ef2a\" y=\"224.64\"/>\r\n      </g>\r\n     </g>\r\n     <g id=\"text_7\">\r\n      <!-- 2020 -->\r\n      <g style=\"fill:#ffffff;\" transform=\"translate(348.271445 239.238438)scale(0.1 -0.1)\">\r\n       <use xlink:href=\"#DejaVuSans-50\"/>\r\n       <use x=\"63.623047\" xlink:href=\"#DejaVuSans-48\"/>\r\n       <use x=\"127.246094\" xlink:href=\"#DejaVuSans-50\"/>\r\n       <use x=\"190.869141\" xlink:href=\"#DejaVuSans-48\"/>\r\n      </g>\r\n     </g>\r\n    </g>\r\n   </g>\r\n   <g id=\"matplotlib.axis_2\">\r\n    <g id=\"ytick_1\">\r\n     <g id=\"line2d_8\">\r\n      <defs>\r\n       <path d=\"M 0 0 \r\nL -3.5 0 \r\n\" id=\"m1524aa19ec\" style=\"stroke:#ffffff;stroke-width:0.8;\"/>\r\n      </defs>\r\n      <g>\r\n       <use style=\"fill:#ffffff;stroke:#ffffff;stroke-width:0.8;\" x=\"36.465625\" xlink:href=\"#m1524aa19ec\" y=\"209.735987\"/>\r\n      </g>\r\n     </g>\r\n     <g id=\"text_8\">\r\n      <!-- 36.5 -->\r\n      <g style=\"fill:#ffffff;\" transform=\"translate(7.2 213.535205)scale(0.1 -0.1)\">\r\n       <defs>\r\n        <path d=\"M 40.578125 39.3125 \r\nQ 47.65625 37.796875 51.625 33 \r\nQ 55.609375 28.21875 55.609375 21.1875 \r\nQ 55.609375 10.40625 48.1875 4.484375 \r\nQ 40.765625 -1.421875 27.09375 -1.421875 \r\nQ 22.515625 -1.421875 17.65625 -0.515625 \r\nQ 12.796875 0.390625 7.625 2.203125 \r\nL 7.625 11.71875 \r\nQ 11.71875 9.328125 16.59375 8.109375 \r\nQ 21.484375 6.890625 26.8125 6.890625 \r\nQ 36.078125 6.890625 40.9375 10.546875 \r\nQ 45.796875 14.203125 45.796875 21.1875 \r\nQ 45.796875 27.640625 41.28125 31.265625 \r\nQ 36.765625 34.90625 28.71875 34.90625 \r\nL 20.21875 34.90625 \r\nL 20.21875 43.015625 \r\nL 29.109375 43.015625 \r\nQ 36.375 43.015625 40.234375 45.921875 \r\nQ 44.09375 48.828125 44.09375 54.296875 \r\nQ 44.09375 59.90625 40.109375 62.90625 \r\nQ 36.140625 65.921875 28.71875 65.921875 \r\nQ 24.65625 65.921875 20.015625 65.03125 \r\nQ 15.375 64.15625 9.8125 62.3125 \r\nL 9.8125 71.09375 \r\nQ 15.4375 72.65625 20.34375 73.4375 \r\nQ 25.25 74.21875 29.59375 74.21875 \r\nQ 40.828125 74.21875 47.359375 69.109375 \r\nQ 53.90625 64.015625 53.90625 55.328125 \r\nQ 53.90625 49.265625 50.4375 45.09375 \r\nQ 46.96875 40.921875 40.578125 39.3125 \r\nz\r\n\" id=\"DejaVuSans-51\"/>\r\n        <path d=\"M 10.6875 12.40625 \r\nL 21 12.40625 \r\nL 21 0 \r\nL 10.6875 0 \r\nz\r\n\" id=\"DejaVuSans-46\"/>\r\n        <path d=\"M 10.796875 72.90625 \r\nL 49.515625 72.90625 \r\nL 49.515625 64.59375 \r\nL 19.828125 64.59375 \r\nL 19.828125 46.734375 \r\nQ 21.96875 47.46875 24.109375 47.828125 \r\nQ 26.265625 48.1875 28.421875 48.1875 \r\nQ 40.625 48.1875 47.75 41.5 \r\nQ 54.890625 34.8125 54.890625 23.390625 \r\nQ 54.890625 11.625 47.5625 5.09375 \r\nQ 40.234375 -1.421875 26.90625 -1.421875 \r\nQ 22.3125 -1.421875 17.546875 -0.640625 \r\nQ 12.796875 0.140625 7.71875 1.703125 \r\nL 7.71875 11.625 \r\nQ 12.109375 9.234375 16.796875 8.0625 \r\nQ 21.484375 6.890625 26.703125 6.890625 \r\nQ 35.15625 6.890625 40.078125 11.328125 \r\nQ 45.015625 15.765625 45.015625 23.390625 \r\nQ 45.015625 31 40.078125 35.4375 \r\nQ 35.15625 39.890625 26.703125 39.890625 \r\nQ 22.75 39.890625 18.8125 39.015625 \r\nQ 14.890625 38.140625 10.796875 36.28125 \r\nz\r\n\" id=\"DejaVuSans-53\"/>\r\n       </defs>\r\n       <use xlink:href=\"#DejaVuSans-51\"/>\r\n       <use x=\"63.623047\" xlink:href=\"#DejaVuSans-54\"/>\r\n       <use x=\"127.246094\" xlink:href=\"#DejaVuSans-46\"/>\r\n       <use x=\"159.033203\" xlink:href=\"#DejaVuSans-53\"/>\r\n      </g>\r\n     </g>\r\n    </g>\r\n    <g id=\"ytick_2\">\r\n     <g id=\"line2d_9\">\r\n      <g>\r\n       <use style=\"fill:#ffffff;stroke:#ffffff;stroke-width:0.8;\" x=\"36.465625\" xlink:href=\"#m1524aa19ec\" y=\"168.298218\"/>\r\n      </g>\r\n     </g>\r\n     <g id=\"text_9\">\r\n      <!-- 37.0 -->\r\n      <g style=\"fill:#ffffff;\" transform=\"translate(7.2 172.097437)scale(0.1 -0.1)\">\r\n       <defs>\r\n        <path d=\"M 8.203125 72.90625 \r\nL 55.078125 72.90625 \r\nL 55.078125 68.703125 \r\nL 28.609375 0 \r\nL 18.3125 0 \r\nL 43.21875 64.59375 \r\nL 8.203125 64.59375 \r\nz\r\n\" id=\"DejaVuSans-55\"/>\r\n       </defs>\r\n       <use xlink:href=\"#DejaVuSans-51\"/>\r\n       <use x=\"63.623047\" xlink:href=\"#DejaVuSans-55\"/>\r\n       <use x=\"127.246094\" xlink:href=\"#DejaVuSans-46\"/>\r\n       <use x=\"159.033203\" xlink:href=\"#DejaVuSans-48\"/>\r\n      </g>\r\n     </g>\r\n    </g>\r\n    <g id=\"ytick_3\">\r\n     <g id=\"line2d_10\">\r\n      <g>\r\n       <use style=\"fill:#ffffff;stroke:#ffffff;stroke-width:0.8;\" x=\"36.465625\" xlink:href=\"#m1524aa19ec\" y=\"126.860449\"/>\r\n      </g>\r\n     </g>\r\n     <g id=\"text_10\">\r\n      <!-- 37.5 -->\r\n      <g style=\"fill:#ffffff;\" transform=\"translate(7.2 130.659668)scale(0.1 -0.1)\">\r\n       <use xlink:href=\"#DejaVuSans-51\"/>\r\n       <use x=\"63.623047\" xlink:href=\"#DejaVuSans-55\"/>\r\n       <use x=\"127.246094\" xlink:href=\"#DejaVuSans-46\"/>\r\n       <use x=\"159.033203\" xlink:href=\"#DejaVuSans-53\"/>\r\n      </g>\r\n     </g>\r\n    </g>\r\n    <g id=\"ytick_4\">\r\n     <g id=\"line2d_11\">\r\n      <g>\r\n       <use style=\"fill:#ffffff;stroke:#ffffff;stroke-width:0.8;\" x=\"36.465625\" xlink:href=\"#m1524aa19ec\" y=\"85.422681\"/>\r\n      </g>\r\n     </g>\r\n     <g id=\"text_11\">\r\n      <!-- 38.0 -->\r\n      <g style=\"fill:#ffffff;\" transform=\"translate(7.2 89.221899)scale(0.1 -0.1)\">\r\n       <use xlink:href=\"#DejaVuSans-51\"/>\r\n       <use x=\"63.623047\" xlink:href=\"#DejaVuSans-56\"/>\r\n       <use x=\"127.246094\" xlink:href=\"#DejaVuSans-46\"/>\r\n       <use x=\"159.033203\" xlink:href=\"#DejaVuSans-48\"/>\r\n      </g>\r\n     </g>\r\n    </g>\r\n    <g id=\"ytick_5\">\r\n     <g id=\"line2d_12\">\r\n      <g>\r\n       <use style=\"fill:#ffffff;stroke:#ffffff;stroke-width:0.8;\" x=\"36.465625\" xlink:href=\"#m1524aa19ec\" y=\"43.984912\"/>\r\n      </g>\r\n     </g>\r\n     <g id=\"text_12\">\r\n      <!-- 38.5 -->\r\n      <g style=\"fill:#ffffff;\" transform=\"translate(7.2 47.784131)scale(0.1 -0.1)\">\r\n       <use xlink:href=\"#DejaVuSans-51\"/>\r\n       <use x=\"63.623047\" xlink:href=\"#DejaVuSans-56\"/>\r\n       <use x=\"127.246094\" xlink:href=\"#DejaVuSans-46\"/>\r\n       <use x=\"159.033203\" xlink:href=\"#DejaVuSans-53\"/>\r\n      </g>\r\n     </g>\r\n    </g>\r\n   </g>\r\n   <g id=\"line2d_13\">\r\n    <path clip-path=\"url(#p6d2a134aea)\" d=\"M 51.683807 214.756364 \r\nL 356.047443 17.083636 \r\n\" style=\"fill:none;stroke:#8dd3c7;stroke-linecap:square;stroke-width:1.5;\"/>\r\n   </g>\r\n   <g id=\"patch_3\">\r\n    <path d=\"M 36.465625 224.64 \r\nL 36.465625 7.2 \r\n\" style=\"fill:none;stroke:#ffffff;stroke-linecap:square;stroke-linejoin:miter;stroke-width:0.8;\"/>\r\n   </g>\r\n   <g id=\"patch_4\">\r\n    <path d=\"M 371.265625 224.64 \r\nL 371.265625 7.2 \r\n\" style=\"fill:none;stroke:#ffffff;stroke-linecap:square;stroke-linejoin:miter;stroke-width:0.8;\"/>\r\n   </g>\r\n   <g id=\"patch_5\">\r\n    <path d=\"M 36.465625 224.64 \r\nL 371.265625 224.64 \r\n\" style=\"fill:none;stroke:#ffffff;stroke-linecap:square;stroke-linejoin:miter;stroke-width:0.8;\"/>\r\n   </g>\r\n   <g id=\"patch_6\">\r\n    <path d=\"M 36.465625 7.2 \r\nL 371.265625 7.2 \r\n\" style=\"fill:none;stroke:#ffffff;stroke-linecap:square;stroke-linejoin:miter;stroke-width:0.8;\"/>\r\n   </g>\r\n  </g>\r\n </g>\r\n <defs>\r\n  <clipPath id=\"p6d2a134aea\">\r\n   <rect height=\"217.44\" width=\"334.8\" x=\"36.465625\" y=\"7.2\"/>\r\n  </clipPath>\r\n </defs>\r\n</svg>\r\n",
      "image/png": "[encoded data removed]"
     },
     "metadata": {}
    }
   ],
   "source": [
    "line = plt.plot(x, y)"
   ]
  },
  {
   "cell_type": "code",
   "execution_count": 55,
   "metadata": {},
   "outputs": [
    {
     "output_type": "execute_result",
     "data": {
      "text/plain": [
       "array([39.15425695])"
      ]
     },
     "metadata": {},
     "execution_count": 55
    }
   ],
   "source": [
    "predict(2035)"
   ]
  },
  {
   "cell_type": "markdown",
   "metadata": {},
   "source": [
    "# Regressão multilinear"
   ]
  },
  {
   "cell_type": "markdown",
   "metadata": {},
   "source": [
    "O conjunto de dados [California Housing](http://lib.stat.cmu.edu/datasets) tem 20.640 amostras, cada uma \n",
    "com oito atributos numéricos. \n",
    "- Faremos uma regressão linear múltipla que usa todos os oito atributos numéricos para fazer previsões de preços de habitação."
   ]
  },
  {
   "cell_type": "markdown",
   "metadata": {},
   "source": [
    "De acordo com a descrição do conjunto de dados California Housing Price no scikit-learn,  \n",
    "o conjunto de dados foi derivado do censo dos EUA de 1990. usando uma linha para cada grupo de bloco do censo. Um\n",
    "grupo de blocos é a menor unidade geográfica para a qual o U.S. Census Bureau publica\n",
    "dados de amostra (um grupo de blocos normalmente tem uma população de 600 a 3.000 pessoas).  \n",
    "O conjunto de dados tem 20.640 amostras - uma por grupo de blocos - com oito atributos cada:\n",
    "-  renda média - em dezenas de milhares, então 8,37 representaria US 83.700 \n",
    "-  idade média da casa - no conjunto de dados, o valor máximo para deste atributo é 52\n",
    "-  número médio de quartos\n",
    "-  número médio de quartos\n",
    "-  população do bloco\n",
    "-  ocupação média da casa\n",
    "-  latitude do bloco de casa\n",
    "-  longitude do bloco de casa\n",
    "\n",
    "Cada amostra também tem como meta um valor mediano de casa correspondente em centenas de milhares,\n",
    "então 3,55 representaria US 355.000. No conjunto de dados, o valor máximo para este recurso é 5, o que representa US 500.000.\n",
    "É razoável esperar que mais quartos ou mais quartos ou renda mais alta significa maior valor da casa. Ao combinar esses recursos para fazer previsões, temos mais probabilidade de obter previsões mais precisas."
   ]
  },
  {
   "cell_type": "markdown",
   "metadata": {},
   "source": [
    "Vamos carregar o conjunto de dados e nos familiarizar com ele. A função **fetch_california_housing**\n",
    "do módulo **sklearn.datasets** retorna um objeto **Bunch** contendo os dados e outras informações sobre o conjunto de dados:"
   ]
  },
  {
   "cell_type": "code",
   "execution_count": 1,
   "metadata": {},
   "outputs": [],
   "source": [
    "from sklearn.datasets import fetch_california_housing"
   ]
  },
  {
   "cell_type": "code",
   "execution_count": 2,
   "metadata": {},
   "outputs": [],
   "source": [
    "california = fetch_california_housing()"
   ]
  },
  {
   "cell_type": "code",
   "execution_count": 3,
   "metadata": {},
   "outputs": [
    {
     "output_type": "stream",
     "name": "stdout",
     "text": [
      ".. _california_housing_dataset:\n\nCalifornia Housing dataset\n--------------------------\n\n**Data Set Characteristics:**\n\n    :Number of Instances: 20640\n\n    :Number of Attributes: 8 numeric, predictive attributes and the target\n\n    :Attribute Information:\n        - MedInc        median income in block\n        - HouseAge      median house age in block\n        - AveRooms      average number of rooms\n        - AveBedrms     average number of bedrooms\n        - Population    block population\n        - AveOccup      average house occupancy\n        - Latitude      house block latitude\n        - Longitude     house block longitude\n\n    :Missing Attribute Values: None\n\nThis dataset was obtained from the StatLib repository.\nhttp://lib.stat.cmu.edu/datasets/\n\nThe target variable is the median house value for California districts.\n\nThis dataset was derived from the 1990 U.S. census, using one row per census\nblock group. A block group is the smallest geographical unit for which the U.S.\nCensus Bureau publishes sample data (a block group typically has a population\nof 600 to 3,000 people).\n\nIt can be downloaded/loaded using the\n:func:`sklearn.datasets.fetch_california_housing` function.\n\n.. topic:: References\n\n    - Pace, R. Kelley and Ronald Barry, Sparse Spatial Autoregressions,\n      Statistics and Probability Letters, 33 (1997) 291-297\n\n"
     ]
    }
   ],
   "source": [
    "print(california.DESCR)"
   ]
  },
  {
   "cell_type": "code",
   "execution_count": 4,
   "metadata": {},
   "outputs": [
    {
     "output_type": "execute_result",
     "data": {
      "text/plain": [
       "(20640, 8)"
      ]
     },
     "metadata": {},
     "execution_count": 4
    }
   ],
   "source": [
    "california.data.shape"
   ]
  },
  {
   "cell_type": "code",
   "execution_count": 5,
   "metadata": {},
   "outputs": [
    {
     "output_type": "execute_result",
     "data": {
      "text/plain": [
       "(20640,)"
      ]
     },
     "metadata": {},
     "execution_count": 5
    }
   ],
   "source": [
    "california.target.shape"
   ]
  },
  {
   "cell_type": "code",
   "execution_count": 6,
   "metadata": {},
   "outputs": [
    {
     "output_type": "execute_result",
     "data": {
      "text/plain": [
       "['MedInc',\n",
       " 'HouseAge',\n",
       " 'AveRooms',\n",
       " 'AveBedrms',\n",
       " 'Population',\n",
       " 'AveOccup',\n",
       " 'Latitude',\n",
       " 'Longitude']"
      ]
     },
     "metadata": {},
     "execution_count": 6
    }
   ],
   "source": [
    "california.feature_names"
   ]
  },
  {
   "cell_type": "markdown",
   "metadata": {},
   "source": [
    "### Explorando os dados com DataFrame"
   ]
  },
  {
   "cell_type": "code",
   "execution_count": 7,
   "metadata": {},
   "outputs": [],
   "source": [
    "import pandas as pd"
   ]
  },
  {
   "cell_type": "code",
   "execution_count": 8,
   "metadata": {},
   "outputs": [],
   "source": [
    "pd.set_option('precision', 4)"
   ]
  },
  {
   "cell_type": "markdown",
   "metadata": {},
   "source": [
    "*precistion* corresponde ao número máximo de dígitos a serem exibidos à direita de cada decimal ponto."
   ]
  },
  {
   "cell_type": "code",
   "execution_count": 9,
   "metadata": {},
   "outputs": [],
   "source": [
    "pd.set_option('max_columns', 9)"
   ]
  },
  {
   "cell_type": "markdown",
   "metadata": {},
   "source": [
    "'max_columns' é o número máximo de colunas a serem exibidas quando você produz a representação de string do DataFrame. \n",
    "Por padrão, se o pandas não consegue colocar todas as colunas da esquerda para a direita, ele corta as colunas do meio e exibe reticências (…). \n",
    "- A configuração 'max_columns' permite que o pandas mostrem todas as colunas usando várias linhas de saída. "
   ]
  },
  {
   "cell_type": "code",
   "execution_count": 10,
   "metadata": {},
   "outputs": [],
   "source": [
    "pd.set_option('display.width', None)"
   ]
  },
  {
   "cell_type": "markdown",
   "metadata": {},
   "source": [
    "display.width' especifica a largura em caracteres do seu prompt de comando (Windows), Terminal (macOS / Linux) ou shell (Linux). O valor *None* diz ao pandas para detectar automaticamente a largura da tela ao formatar representações de string de\n",
    "Series e DataFrames."
   ]
  },
  {
   "cell_type": "markdown",
   "metadata": {},
   "source": [
    "Em seguida, vamos criar um **DataFrame** a partir dos arrays data, target e feature_names do objeto Bunch.\n",
    "- Abaixo o cria DataFrame inicial é criado usando os dados em california.data e com os nomes das colunas especificados por california.feature_names. \n",
    "- A segunda declaração adiciona uma coluna para os valores medianos da casa armazenados em california.target:"
   ]
  },
  {
   "cell_type": "code",
   "execution_count": 11,
   "metadata": {},
   "outputs": [],
   "source": [
    "california_df = pd.DataFrame(california.data, columns=california.feature_names)"
   ]
  },
  {
   "cell_type": "code",
   "execution_count": 12,
   "metadata": {},
   "outputs": [],
   "source": [
    "california_df['MedHouseValue'] = pd.Series(california.target)"
   ]
  },
  {
   "cell_type": "code",
   "execution_count": 13,
   "metadata": {},
   "outputs": [
    {
     "output_type": "execute_result",
     "data": {
      "text/plain": [
       "   MedInc  HouseAge  AveRooms  AveBedrms  Population  AveOccup  Latitude  \\\n",
       "0  8.3252      41.0    6.9841     1.0238       322.0    2.5556     37.88   \n",
       "1  8.3014      21.0    6.2381     0.9719      2401.0    2.1098     37.86   \n",
       "2  7.2574      52.0    8.2881     1.0734       496.0    2.8023     37.85   \n",
       "3  5.6431      52.0    5.8174     1.0731       558.0    2.5479     37.85   \n",
       "4  3.8462      52.0    6.2819     1.0811       565.0    2.1815     37.85   \n",
       "\n",
       "   Longitude  MedHouseValue  \n",
       "0    -122.23          4.526  \n",
       "1    -122.22          3.585  \n",
       "2    -122.24          3.521  \n",
       "3    -122.25          3.413  \n",
       "4    -122.25          3.422  "
      ],
      "text/html": "<div>\n<style scoped>\n    .dataframe tbody tr th:only-of-type {\n        vertical-align: middle;\n    }\n\n    .dataframe tbody tr th {\n        vertical-align: top;\n    }\n\n    .dataframe thead th {\n        text-align: right;\n    }\n</style>\n<table border=\"1\" class=\"dataframe\">\n  <thead>\n    <tr style=\"text-align: right;\">\n      <th></th>\n      <th>MedInc</th>\n      <th>HouseAge</th>\n      <th>AveRooms</th>\n      <th>AveBedrms</th>\n      <th>Population</th>\n      <th>AveOccup</th>\n      <th>Latitude</th>\n      <th>Longitude</th>\n      <th>MedHouseValue</th>\n    </tr>\n  </thead>\n  <tbody>\n    <tr>\n      <th>0</th>\n      <td>8.3252</td>\n      <td>41.0</td>\n      <td>6.9841</td>\n      <td>1.0238</td>\n      <td>322.0</td>\n      <td>2.5556</td>\n      <td>37.88</td>\n      <td>-122.23</td>\n      <td>4.526</td>\n    </tr>\n    <tr>\n      <th>1</th>\n      <td>8.3014</td>\n      <td>21.0</td>\n      <td>6.2381</td>\n      <td>0.9719</td>\n      <td>2401.0</td>\n      <td>2.1098</td>\n      <td>37.86</td>\n      <td>-122.22</td>\n      <td>3.585</td>\n    </tr>\n    <tr>\n      <th>2</th>\n      <td>7.2574</td>\n      <td>52.0</td>\n      <td>8.2881</td>\n      <td>1.0734</td>\n      <td>496.0</td>\n      <td>2.8023</td>\n      <td>37.85</td>\n      <td>-122.24</td>\n      <td>3.521</td>\n    </tr>\n    <tr>\n      <th>3</th>\n      <td>5.6431</td>\n      <td>52.0</td>\n      <td>5.8174</td>\n      <td>1.0731</td>\n      <td>558.0</td>\n      <td>2.5479</td>\n      <td>37.85</td>\n      <td>-122.25</td>\n      <td>3.413</td>\n    </tr>\n    <tr>\n      <th>4</th>\n      <td>3.8462</td>\n      <td>52.0</td>\n      <td>6.2819</td>\n      <td>1.0811</td>\n      <td>565.0</td>\n      <td>2.1815</td>\n      <td>37.85</td>\n      <td>-122.25</td>\n      <td>3.422</td>\n    </tr>\n  </tbody>\n</table>\n</div>"
     },
     "metadata": {},
     "execution_count": 13
    }
   ],
   "source": [
    "california_df.head()"
   ]
  },
  {
   "cell_type": "code",
   "execution_count": 14,
   "metadata": {},
   "outputs": [
    {
     "output_type": "execute_result",
     "data": {
      "text/plain": [
       "       MedInc  HouseAge  AveRooms  AveBedrms  Population  AveOccup  Latitude  \\\n",
       "20635  1.5603      25.0    5.0455     1.1333       845.0    2.5606     39.48   \n",
       "20636  2.5568      18.0    6.1140     1.3158       356.0    3.1228     39.49   \n",
       "20637  1.7000      17.0    5.2055     1.1201      1007.0    2.3256     39.43   \n",
       "20638  1.8672      18.0    5.3295     1.1719       741.0    2.1232     39.43   \n",
       "20639  2.3886      16.0    5.2547     1.1623      1387.0    2.6170     39.37   \n",
       "\n",
       "       Longitude  MedHouseValue  \n",
       "20635    -121.09          0.781  \n",
       "20636    -121.21          0.771  \n",
       "20637    -121.22          0.923  \n",
       "20638    -121.32          0.847  \n",
       "20639    -121.24          0.894  "
      ],
      "text/html": "<div>\n<style scoped>\n    .dataframe tbody tr th:only-of-type {\n        vertical-align: middle;\n    }\n\n    .dataframe tbody tr th {\n        vertical-align: top;\n    }\n\n    .dataframe thead th {\n        text-align: right;\n    }\n</style>\n<table border=\"1\" class=\"dataframe\">\n  <thead>\n    <tr style=\"text-align: right;\">\n      <th></th>\n      <th>MedInc</th>\n      <th>HouseAge</th>\n      <th>AveRooms</th>\n      <th>AveBedrms</th>\n      <th>Population</th>\n      <th>AveOccup</th>\n      <th>Latitude</th>\n      <th>Longitude</th>\n      <th>MedHouseValue</th>\n    </tr>\n  </thead>\n  <tbody>\n    <tr>\n      <th>20635</th>\n      <td>1.5603</td>\n      <td>25.0</td>\n      <td>5.0455</td>\n      <td>1.1333</td>\n      <td>845.0</td>\n      <td>2.5606</td>\n      <td>39.48</td>\n      <td>-121.09</td>\n      <td>0.781</td>\n    </tr>\n    <tr>\n      <th>20636</th>\n      <td>2.5568</td>\n      <td>18.0</td>\n      <td>6.1140</td>\n      <td>1.3158</td>\n      <td>356.0</td>\n      <td>3.1228</td>\n      <td>39.49</td>\n      <td>-121.21</td>\n      <td>0.771</td>\n    </tr>\n    <tr>\n      <th>20637</th>\n      <td>1.7000</td>\n      <td>17.0</td>\n      <td>5.2055</td>\n      <td>1.1201</td>\n      <td>1007.0</td>\n      <td>2.3256</td>\n      <td>39.43</td>\n      <td>-121.22</td>\n      <td>0.923</td>\n    </tr>\n    <tr>\n      <th>20638</th>\n      <td>1.8672</td>\n      <td>18.0</td>\n      <td>5.3295</td>\n      <td>1.1719</td>\n      <td>741.0</td>\n      <td>2.1232</td>\n      <td>39.43</td>\n      <td>-121.32</td>\n      <td>0.847</td>\n    </tr>\n    <tr>\n      <th>20639</th>\n      <td>2.3886</td>\n      <td>16.0</td>\n      <td>5.2547</td>\n      <td>1.1623</td>\n      <td>1387.0</td>\n      <td>2.6170</td>\n      <td>39.37</td>\n      <td>-121.24</td>\n      <td>0.894</td>\n    </tr>\n  </tbody>\n</table>\n</div>"
     },
     "metadata": {},
     "execution_count": 14
    }
   ],
   "source": [
    "california_df.tail()"
   ]
  },
  {
   "cell_type": "code",
   "execution_count": 15,
   "metadata": {},
   "outputs": [
    {
     "output_type": "execute_result",
     "data": {
      "text/plain": [
       "           MedInc    HouseAge    AveRooms   AveBedrms  Population    AveOccup  \\\n",
       "count  20640.0000  20640.0000  20640.0000  20640.0000  20640.0000  20640.0000   \n",
       "mean       3.8707     28.6395      5.4290      1.0967   1425.4767      3.0707   \n",
       "std        1.8998     12.5856      2.4742      0.4739   1132.4621     10.3860   \n",
       "min        0.4999      1.0000      0.8462      0.3333      3.0000      0.6923   \n",
       "25%        2.5634     18.0000      4.4407      1.0061    787.0000      2.4297   \n",
       "50%        3.5348     29.0000      5.2291      1.0488   1166.0000      2.8181   \n",
       "75%        4.7432     37.0000      6.0524      1.0995   1725.0000      3.2823   \n",
       "max       15.0001     52.0000    141.9091     34.0667  35682.0000   1243.3333   \n",
       "\n",
       "         Latitude   Longitude  MedHouseValue  \n",
       "count  20640.0000  20640.0000     20640.0000  \n",
       "mean      35.6319   -119.5697         2.0686  \n",
       "std        2.1360      2.0035         1.1540  \n",
       "min       32.5400   -124.3500         0.1500  \n",
       "25%       33.9300   -121.8000         1.1960  \n",
       "50%       34.2600   -118.4900         1.7970  \n",
       "75%       37.7100   -118.0100         2.6472  \n",
       "max       41.9500   -114.3100         5.0000  "
      ],
      "text/html": "<div>\n<style scoped>\n    .dataframe tbody tr th:only-of-type {\n        vertical-align: middle;\n    }\n\n    .dataframe tbody tr th {\n        vertical-align: top;\n    }\n\n    .dataframe thead th {\n        text-align: right;\n    }\n</style>\n<table border=\"1\" class=\"dataframe\">\n  <thead>\n    <tr style=\"text-align: right;\">\n      <th></th>\n      <th>MedInc</th>\n      <th>HouseAge</th>\n      <th>AveRooms</th>\n      <th>AveBedrms</th>\n      <th>Population</th>\n      <th>AveOccup</th>\n      <th>Latitude</th>\n      <th>Longitude</th>\n      <th>MedHouseValue</th>\n    </tr>\n  </thead>\n  <tbody>\n    <tr>\n      <th>count</th>\n      <td>20640.0000</td>\n      <td>20640.0000</td>\n      <td>20640.0000</td>\n      <td>20640.0000</td>\n      <td>20640.0000</td>\n      <td>20640.0000</td>\n      <td>20640.0000</td>\n      <td>20640.0000</td>\n      <td>20640.0000</td>\n    </tr>\n    <tr>\n      <th>mean</th>\n      <td>3.8707</td>\n      <td>28.6395</td>\n      <td>5.4290</td>\n      <td>1.0967</td>\n      <td>1425.4767</td>\n      <td>3.0707</td>\n      <td>35.6319</td>\n      <td>-119.5697</td>\n      <td>2.0686</td>\n    </tr>\n    <tr>\n      <th>std</th>\n      <td>1.8998</td>\n      <td>12.5856</td>\n      <td>2.4742</td>\n      <td>0.4739</td>\n      <td>1132.4621</td>\n      <td>10.3860</td>\n      <td>2.1360</td>\n      <td>2.0035</td>\n      <td>1.1540</td>\n    </tr>\n    <tr>\n      <th>min</th>\n      <td>0.4999</td>\n      <td>1.0000</td>\n      <td>0.8462</td>\n      <td>0.3333</td>\n      <td>3.0000</td>\n      <td>0.6923</td>\n      <td>32.5400</td>\n      <td>-124.3500</td>\n      <td>0.1500</td>\n    </tr>\n    <tr>\n      <th>25%</th>\n      <td>2.5634</td>\n      <td>18.0000</td>\n      <td>4.4407</td>\n      <td>1.0061</td>\n      <td>787.0000</td>\n      <td>2.4297</td>\n      <td>33.9300</td>\n      <td>-121.8000</td>\n      <td>1.1960</td>\n    </tr>\n    <tr>\n      <th>50%</th>\n      <td>3.5348</td>\n      <td>29.0000</td>\n      <td>5.2291</td>\n      <td>1.0488</td>\n      <td>1166.0000</td>\n      <td>2.8181</td>\n      <td>34.2600</td>\n      <td>-118.4900</td>\n      <td>1.7970</td>\n    </tr>\n    <tr>\n      <th>75%</th>\n      <td>4.7432</td>\n      <td>37.0000</td>\n      <td>6.0524</td>\n      <td>1.0995</td>\n      <td>1725.0000</td>\n      <td>3.2823</td>\n      <td>37.7100</td>\n      <td>-118.0100</td>\n      <td>2.6472</td>\n    </tr>\n    <tr>\n      <th>max</th>\n      <td>15.0001</td>\n      <td>52.0000</td>\n      <td>141.9091</td>\n      <td>34.0667</td>\n      <td>35682.0000</td>\n      <td>1243.3333</td>\n      <td>41.9500</td>\n      <td>-114.3100</td>\n      <td>5.0000</td>\n    </tr>\n  </tbody>\n</table>\n</div>"
     },
     "metadata": {},
     "execution_count": 15
    }
   ],
   "source": [
    "california_df.describe()"
   ]
  },
  {
   "cell_type": "markdown",
   "metadata": {},
   "source": [
    "## Visualizando atributos\n",
    "\n",
    "É útil visualizar seus dados plotando a saida em relação a cada atributo - neste\n",
    "caso, para ver como o valor residencial mediano se relaciona com cada característica. \n",
    "\n",
    "- Para tornar mais clara nossas visualizações, vamos usar uma amostra dos dados, selecionando aleatoriamente 10% das 20.640 instâncias:"
   ]
  },
  {
   "cell_type": "code",
   "execution_count": 16,
   "metadata": {},
   "outputs": [],
   "source": [
    "sample_df = california_df.sample(frac=0.1, random_state=17)"
   ]
  },
  {
   "cell_type": "markdown",
   "metadata": {},
   "source": [
    "O argumetno **frac** especifica a fração dos dados selecionados (0,1 para 10%), e o argumento **random_state** permite que você ajuste a semente do gerador aleatório. \n",
    "- O valor de semente inteiro (17), que escolhemos arbitrariamente, é crucial para a reprodutibilidade. Cada vez que você usa o mesmo valor de semente, a amostra do método seleciona o mesmo subconjunto aleatório de linhas do DataFrame."
   ]
  },
  {
   "cell_type": "code",
   "execution_count": 17,
   "metadata": {},
   "outputs": [],
   "source": [
    "import matplotlib.pyplot as plt"
   ]
  },
  {
   "cell_type": "code",
   "execution_count": 18,
   "metadata": {},
   "outputs": [],
   "source": [
    "import seaborn as sns"
   ]
  },
  {
   "cell_type": "code",
   "execution_count": 19,
   "metadata": {},
   "outputs": [],
   "source": [
    "sns.set(font_scale=2)"
   ]
  },
  {
   "cell_type": "code",
   "execution_count": 20,
   "metadata": {},
   "outputs": [],
   "source": [
    "sns.set_style('whitegrid')"
   ]
  },
  {
   "cell_type": "code",
   "execution_count": 21,
   "metadata": {},
   "outputs": [
    {
     "output_type": "stream",
     "name": "stdout",
     "text": [
      "Using matplotlib backend: TkAgg\n"
     ]
    }
   ],
   "source": [
    "%matplotlib"
   ]
  },
  {
   "cell_type": "code",
   "execution_count": 139,
   "metadata": {},
   "outputs": [],
   "source": [
    "for feature in california.feature_names:\n",
    "    plt.figure(figsize=(10, 7))\n",
    "    sns.scatterplot(data=sample_df, x=feature, y='MedHouseValue', hue='MedHouseValue', palette='cool', legend=False)"
   ]
  },
  {
   "cell_type": "markdown",
   "metadata": {},
   "source": [
    "### Dividindo os dados para treinamento e teste\n",
    "\n",
    "Para preparar os dados para o treinamento e teste do modelo, vamos dividir os dados em conjunto de treinamento\n",
    "e conjunto de teste usando a função **train_test_split**, em seguida, verificar seus tamanhos: e o mesmo valor de semente, a amostra do método seleciona o mesmo subconjunto aleatório de linhas do DataFrame. "
   ]
  },
  {
   "cell_type": "code",
   "execution_count": 22,
   "metadata": {},
   "outputs": [],
   "source": [
    "from sklearn.model_selection import train_test_split"
   ]
  },
  {
   "cell_type": "code",
   "execution_count": 23,
   "metadata": {},
   "outputs": [],
   "source": [
    "X_train, X_test, y_train, y_test = train_test_split(california.data, california.target, random_state=11)"
   ]
  },
  {
   "cell_type": "code",
   "execution_count": 24,
   "metadata": {},
   "outputs": [
    {
     "output_type": "execute_result",
     "data": {
      "text/plain": [
       "(15480, 8)"
      ]
     },
     "metadata": {},
     "execution_count": 24
    }
   ],
   "source": [
    "X_train.shape"
   ]
  },
  {
   "cell_type": "code",
   "execution_count": 25,
   "metadata": {},
   "outputs": [
    {
     "output_type": "execute_result",
     "data": {
      "text/plain": [
       "(5160, 8)"
      ]
     },
     "metadata": {},
     "execution_count": 25
    }
   ],
   "source": [
    "X_test.shape"
   ]
  },
  {
   "cell_type": "markdown",
   "metadata": {},
   "source": [
    "### Treinando o modelo\n",
    "\n",
    "A seguir, vamos treinar o modelo. Por padrão, um estimador **LinearRegression** usa todos os atributos do conjunto de dados  para realizar uma regressão linear múltipla. \n",
    "- Ocorrerá um erro se houver atributos categóricos em vez de numéricos. \n",
    "    - Se um conjunto de dados contém dados categóricos, você também deve pré-processar os recursos categóricos em números. \n",
    "\n",
    "Uma vantagem de trabalhar com os conjuntos de dados do scikit-learn é que eles já estão no formato para aprendizado de máquina usando modelos do scikit-learn. \n",
    "Como você viu nos dois trechos anteriores, X_train e X_test cada um contém 8 colunas — uma por atributo. Vamos criar um estimador linear (do objeto **LinearRegression**) e ajusta-lo usando X_train e y_train:"
   ]
  },
  {
   "cell_type": "code",
   "execution_count": 26,
   "metadata": {},
   "outputs": [],
   "source": [
    "from sklearn.linear_model import LinearRegression"
   ]
  },
  {
   "cell_type": "code",
   "execution_count": 27,
   "metadata": {},
   "outputs": [],
   "source": [
    "linear_regression = LinearRegression()"
   ]
  },
  {
   "cell_type": "code",
   "execution_count": 28,
   "metadata": {},
   "outputs": [
    {
     "output_type": "execute_result",
     "data": {
      "text/plain": [
       "LinearRegression()"
      ]
     },
     "metadata": {},
     "execution_count": 28
    }
   ],
   "source": [
    "linear_regression.fit(X=X_train, y=y_train)"
   ]
  },
  {
   "cell_type": "markdown",
   "metadata": {},
   "source": [
    "A regressão linear múltipla produz coeficientes separados para cada atributo (armazenado em **coeff_**) no conjunto de dados e uma interceptação (armazenada em **intercept_**):"
   ]
  },
  {
   "cell_type": "code",
   "execution_count": 29,
   "metadata": {},
   "outputs": [
    {
     "output_type": "stream",
     "name": "stdout",
     "text": [
      "    MedInc: 0.4377030215382204\n  HouseAge: 0.009216834565797674\n  AveRooms: -0.10732526637360945\n AveBedrms: 0.6117133073918104\nPopulation: -5.756822009291354e-06\n  AveOccup: -0.0033845664657163156\n  Latitude: -0.4194818609649073\n Longitude: -0.4337713349874023\n"
     ]
    }
   ],
   "source": [
    "for i, name in enumerate(california.feature_names):\n",
    "    print(f'{name:>10}: {linear_regression.coef_[i]}')"
   ]
  },
  {
   "cell_type": "code",
   "execution_count": 30,
   "metadata": {},
   "outputs": [
    {
     "output_type": "execute_result",
     "data": {
      "text/plain": [
       "-36.882950656055556"
      ]
     },
     "metadata": {},
     "execution_count": 30
    }
   ],
   "source": [
    "linear_regression.intercept_"
   ]
  },
  {
   "cell_type": "markdown",
   "metadata": {},
   "source": [
    "Para coeficientes positivos, o valor mediano da casa aumenta conforme o valor do recurso aumenta. Para\n",
    "coeficientes negativos, o valor mediano da casa diminui conforme o valor do recurso aumenta. \n",
    "\n",
    "- Note que o coeficiente da população tem um expoente negativo (e-06), então o valor do coeficiente é na verdade -0,000005756822009298454. Isso é perto de zero, então a população de um grupo de bloco aparentemente tem pouco efeito no valor médio da casa. Você pode usar esses valores com a seguinte equação para fazer previsões:"
   ]
  },
  {
   "cell_type": "markdown",
   "metadata": {},
   "source": [
    "$y = m_1x_1 + m_2x_2 + … m_nx_n + b$"
   ]
  },
  {
   "cell_type": "markdown",
   "metadata": {},
   "source": [
    "- $m_1, m_2, …, m_n$ são os coeficientes,\n",
    "- $b$ é o viés (intercept),\n",
    "- $x_1, x_2, …, x_n$ são os valores de atributos,\n",
    "- $y$ é o valor predito."
   ]
  },
  {
   "cell_type": "markdown",
   "metadata": {},
   "source": [
    "### Testando o modelo\n",
    "\n",
    "Agora, vamos testar o modelo chamando o método de previsão (**predict**) do estimador com as amostras de teste como um argumento. "
   ]
  },
  {
   "cell_type": "code",
   "execution_count": 31,
   "metadata": {},
   "outputs": [],
   "source": [
    "predicted = linear_regression.predict(X_test)"
   ]
  },
  {
   "cell_type": "code",
   "execution_count": 32,
   "metadata": {},
   "outputs": [],
   "source": [
    "expected = y_test"
   ]
  },
  {
   "cell_type": "code",
   "execution_count": 33,
   "metadata": {},
   "outputs": [
    {
     "output_type": "execute_result",
     "data": {
      "text/plain": [
       "array([1.25396876, 2.34693107, 2.03794745, 1.8701254 , 2.53608339])"
      ]
     },
     "metadata": {},
     "execution_count": 33
    }
   ],
   "source": [
    "predicted[:5]"
   ]
  },
  {
   "cell_type": "code",
   "execution_count": 34,
   "metadata": {},
   "outputs": [
    {
     "output_type": "execute_result",
     "data": {
      "text/plain": [
       "array([0.762, 1.732, 1.125, 1.37 , 1.856])"
      ]
     },
     "metadata": {},
     "execution_count": 34
    }
   ],
   "source": [
    "expected[:5]"
   ]
  },
  {
   "cell_type": "code",
   "execution_count": 35,
   "metadata": {
    "tags": []
   },
   "outputs": [
    {
     "output_type": "stream",
     "name": "stdout",
     "text": [
      "predicted: 1.25, expected: 0.76\npredicted: 2.36, expected: 2.39\npredicted: 1.89, expected: 2.02\npredicted: 3.13, expected: 2.99\npredicted: 2.61, expected: 2.41\npredicted: 0.94, expected: 0.53\npredicted: 2.23, expected: 1.58\npredicted: 2.12, expected: 1.49\npredicted: 2.55, expected: 3.80\npredicted: 2.51, expected: 2.03\npredicted: 2.34, expected: 1.74\npredicted: 2.51, expected: 2.89\npredicted: 5.99, expected: 5.00\npredicted: 0.91, expected: 1.06\npredicted: 1.71, expected: 1.51\npredicted: 2.17, expected: 3.02\npredicted: 1.44, expected: 0.75\npredicted: 2.94, expected: 2.48\npredicted: 2.04, expected: 2.15\npredicted: 1.92, expected: 1.26\n"
     ]
    }
   ],
   "source": [
    "for p, e in zip(predicted[:100:5], expected[:100:5]):\n",
    "    print(f'predicted: {p:.2f}, expected: {e:.2f}')"
   ]
  },
  {
   "cell_type": "markdown",
   "metadata": {},
   "source": [
    "### Visualizando os Preços Esperados vs. Previstos\n",
    "\n",
    "Vejamos os valores médios esperados vs. previstos para os dados de teste. Primeiro, vamos\n",
    "criar um DataFrame contendo colunas para os valores esperados e previstos:"
   ]
  },
  {
   "cell_type": "code",
   "execution_count": 36,
   "metadata": {},
   "outputs": [],
   "source": [
    "df = pd.DataFrame()"
   ]
  },
  {
   "cell_type": "code",
   "execution_count": 37,
   "metadata": {},
   "outputs": [],
   "source": [
    "df['Expected'] = pd.Series(expected)"
   ]
  },
  {
   "cell_type": "code",
   "execution_count": 38,
   "metadata": {},
   "outputs": [],
   "source": [
    "df['Predicted'] = pd.Series(predicted)"
   ]
  },
  {
   "cell_type": "markdown",
   "metadata": {},
   "source": [
    "Agora vamos plotar os dados como um gráfico de dispersão com os preços esperados (alvo) ao longo do eixo x\n",
    "e os preços previstos ao longo do eixo y:"
   ]
  },
  {
   "cell_type": "code",
   "execution_count": 39,
   "metadata": {},
   "outputs": [],
   "source": [
    "figure = plt.figure(figsize=(9, 9))"
   ]
  },
  {
   "cell_type": "code",
   "execution_count": 40,
   "metadata": {},
   "outputs": [],
   "source": [
    "axes = sns.scatterplot(data=df, x='Expected', y='Predicted', hue='Predicted', palette='cool', legend=False)"
   ]
  },
  {
   "cell_type": "markdown",
   "metadata": {},
   "source": [
    "A seguir, vamos definir os limites dos eixos x e y para usar a mesma escala ao longo de ambos os eixos:"
   ]
  },
  {
   "cell_type": "code",
   "execution_count": 41,
   "metadata": {},
   "outputs": [],
   "source": [
    "start = min(expected.min(), predicted.min())"
   ]
  },
  {
   "cell_type": "code",
   "execution_count": 42,
   "metadata": {},
   "outputs": [],
   "source": [
    "end = max(expected.max(), predicted.max())"
   ]
  },
  {
   "cell_type": "code",
   "execution_count": 43,
   "metadata": {},
   "outputs": [
    {
     "output_type": "execute_result",
     "data": {
      "text/plain": [
       "(-0.6830978604144633, 7.15571981849682)"
      ]
     },
     "metadata": {},
     "execution_count": 43
    }
   ],
   "source": [
    "axes.set_xlim(start, end)"
   ]
  },
  {
   "cell_type": "markdown",
   "metadata": {},
   "source": [
    "Agora, vamos traçar uma linha que representa as previsões perfeitas (observe que isso não é a linha de regressão). \n",
    "- O snippet a seguir exibe uma linha entre os pontos que representam o canto inferior esquerdo do gráfico (início, início) e o canto superior direito do gráfico (fim, fim). \n",
    "- O terceiro argumento ('k--') indica o estilo da linha. A letra k representa a cor preta, e o - indica que o gráfico deve desenhar uma linha tracejada:"
   ]
  },
  {
   "cell_type": "code",
   "execution_count": 44,
   "metadata": {},
   "outputs": [],
   "source": [
    "line = plt.plot([start, end], [start, end], 'k--')"
   ]
  },
  {
   "cell_type": "markdown",
   "metadata": {},
   "source": [
    "### Métricas do modelo de regressão\n",
    "\n",
    "Scikit-learn fornece muitas funções de métricas para avaliar quão bem os estimadores prevêem os resultados e para comparar estimadores para escolher o(s) melhor(es) para o seu estudo particular.\n",
    "- Essas métricas variam de acordo com o tipo de estimador. Entre as muitas métricas para estimadores de regressão está o coeficiente de determinação do modelo, que também é chamado $R^2$. Para o calculo de $R^2$ de um estimador, chame o função **r2_score** do módulo **sklearn.metrics** com os arrays que representam o esperado e resultados previstos:"
   ]
  },
  {
   "cell_type": "code",
   "execution_count": 115,
   "metadata": {},
   "outputs": [],
   "source": [
    "from sklearn import metrics"
   ]
  },
  {
   "cell_type": "code",
   "execution_count": 116,
   "metadata": {},
   "outputs": [
    {
     "output_type": "execute_result",
     "data": {
      "text/plain": [
       "0.6008983115964333"
      ]
     },
     "metadata": {},
     "execution_count": 116
    }
   ],
   "source": [
    "metrics.r2_score(expected, predicted)"
   ]
  },
  {
   "cell_type": "markdown",
   "metadata": {},
   "source": [
    "O $R^2$ varia de 0,0 a 1,0, sendo 1,0 o ajuste perfeito. \n",
    "- Uma pontuação de $R^2$ de 1,0 indica que o estimador prediz perfeitamente o valor da variável dependente, dado os valores das variáveis independentes. \n",
    "- Uma pontuação de $R^2$ de 0,0 indica que o modelo não pode fazer previsões com nenhuma precisão, com base nos valores das variáveis independentes.\n",
    "\n",
    "Outra métrica comum para modelos de regressão é o erro quadrático médio, que calcula a diferença entre cada valor esperado e previsto. "
   ]
  },
  {
   "cell_type": "code",
   "execution_count": 117,
   "metadata": {},
   "outputs": [
    {
     "output_type": "execute_result",
     "data": {
      "text/plain": [
       "0.5350149774449119"
      ]
     },
     "metadata": {},
     "execution_count": 117
    }
   ],
   "source": [
    "metrics.mean_squared_error(expected, predicted)"
   ]
  },
  {
   "cell_type": "code",
   "execution_count": null,
   "metadata": {},
   "outputs": [],
   "source": []
  }
 ],
 "metadata": {
  "kernelspec": {
   "display_name": "Python 3",
   "language": "python",
   "name": "python3"
  },
  "language_info": {
   "codemirror_mode": {
    "name": "ipython",
    "version": 3
   },
   "file_extension": ".py",
   "mimetype": "text/x-python",
   "name": "python",
   "nbconvert_exporter": "python",
   "pygments_lexer": "ipython3",
   "version": "3.8.6-final"
  }
 },
 "nbformat": 4,
 "nbformat_minor": 2
}