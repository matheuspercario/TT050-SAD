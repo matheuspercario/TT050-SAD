{
  "nbformat": 4,
  "nbformat_minor": 0,
  "metadata": {
    "colab": {
      "name": "Untitled0.ipynb",
      "provenance": []
    },
    "kernelspec": {
      "name": "python3",
      "display_name": "Python 3"
    }
  },
  "cells": [
    {
      "cell_type": "markdown",
      "metadata": {
        "id": "8AWqIaBrwtQA"
      },
      "source": [
        "# Aula - Mineração de Dados\n",
        "\n",
        "## Agrupamento | Clusterização\n",
        "\n",
        "Criado por: Matheus P. Bruder\n",
        "\n",
        "Este é o notebook é utilizado para solucionar os exercícios propostos durante a a parte prática da aula do dia 17-11-2020."
      ]
    },
    {
      "cell_type": "markdown",
      "metadata": {
        "id": "dlXIsbWmy075"
      },
      "source": [
        "# Parte Prática\n",
        "\n",
        "Nesta seção faremos um exemplo prático da utilização do algoritmo K-means, seguindo o tutorial encontrado no medium ([Medium - link](https://medium.com/programadores-ajudando-programadores/k-means-o-que-%C3%A9-como-funciona-aplica%C3%A7%C3%B5es-e-exemplo-em-python-6021df6e2572#:~:text=K%2DMeans%20%C3%A9%20um%20algoritmo,lojas%2Fcentro%20logistico))."
      ]
    },
    {
      "cell_type": "markdown",
      "metadata": {
        "id": "2w4ReMAPzleq"
      },
      "source": [
        "## Vamos ao exemplo: \n",
        "\n",
        "A rede de lojas Bruno tem 19 lojas em algumas das principais cidades do país. A empresa pensa em construir 3 centros logísticos para abastecer as lojas. Mas, qual seria a posição ótima para cada um desses três hubs, considerando apenas a posição (coordenadas geográficas) das lojas?\n",
        "\n",
        "Abaixo, plotamos no gráfico a representação em coordenadas de cada uma das 19 cidades onde a rede possui filiais."
      ]
    },
    {
      "cell_type": "code",
      "metadata": {
        "colab": {
          "base_uri": "https://localhost:8080/",
          "height": 269
        },
        "id": "Wx4iGW-jzi4b",
        "outputId": "29ee6329-e18e-4a1c-8cef-963fd50af301"
      },
      "source": [
        "dataset = np.array([\n",
        "    #matriz com as coordenadas geográficas de cada loja\n",
        "\n",
        "    [-25, -46], #são paulo\n",
        "    [-22, -43], #rio de janeiro\n",
        "    [-25, -49], #curitiba\n",
        "    [-30, -51], #porto alegre\n",
        "    [-19, -43], #belo horizonte\n",
        "    [-15, -47], #brasilia\n",
        "    [-12, -38], #salvador\n",
        "    [-8, -34], #recife\n",
        "    [-16, -49], #goiania\n",
        "    [-3, -60], #manaus\n",
        "    [-22, -47], #campinas\n",
        "    [-3, -38], #fortaleza\n",
        "    [-21, -47], #ribeirão preto\n",
        "    [-23, -51], #maringa\n",
        "    [-27, -48], #florianópolis\n",
        "    [-21, -43], #juiz de fora\n",
        "    [-1, -48], #belém\n",
        "    [-10, -67], #rio branco\n",
        "    [-8, -63] #porto velho\n",
        "     \n",
        "])\n",
        "\n",
        "plt.scatter(dataset[:,1], dataset[:,0]) #posicionamento dos eixos x e y\n",
        "plt.xlim(-75, -30) #range do eixo x\n",
        "plt.ylim(-50, 10) #range do eixo y\n",
        "plt.grid() #função que desenha a grade no nosso gráfico"
      ],
      "execution_count": 78,
      "outputs": [
        {
          "output_type": "display_data",
          "data": {
            "image/png": "[encoded data removed]",
            "text/plain": [
              "<Figure size 432x288 with 1 Axes>"
            ]
          },
          "metadata": {
            "tags": [],
            "needs_background": "light"
          }
        }
      ]
    },
    {
      "cell_type": "markdown",
      "metadata": {
        "id": "2kKuas_C0NVa"
      },
      "source": [
        "O ponto mais ao sul no gráfico representa Porto Alegre, o ponto mais à Oeste representa Rio Branco, o ponto mais à leste representa Recife e o ponto mais ao norte representa Belém.\n",
        "\n",
        "Vamos utilizar o algoritmo KMeans, do pacote Scikit-Learn para agrupar (clusterisar) as nossas filiais em 3 grupos. Cada grupo será servido por um centro logístico, que será representado por um centróide."
      ]
    },
    {
      "cell_type": "code",
      "metadata": {
        "colab": {
          "base_uri": "https://localhost:8080/",
          "height": 269
        },
        "id": "OnnTzetv0PT6",
        "outputId": "63954cac-154c-4c27-e664-db392fd9e356"
      },
      "source": [
        "kmeans = KMeans(\n",
        "    n_clusters = 3, #numero de clusters\n",
        "    init = 'k-means++', \n",
        "    n_init = 10, #algoritmo que define a posição dos clusters de maneira mais assertiva\n",
        "    max_iter = 300 #numero máximo de iterações\n",
        ") \n",
        "\n",
        "pred_y = kmeans.fit_predict(dataset)\n",
        "\n",
        "plt.scatter(dataset[:,1], dataset[:,0], c = pred_y) #posicionamento dos eixos x e y\n",
        "plt.xlim(-75, -30) #range do eixo x\n",
        "plt.ylim(-50, 10) #range do eixo y\n",
        "plt.grid() #função que desenha a grade no nosso gráfico\n",
        "\n",
        "plt.scatter(\n",
        "    kmeans.cluster_centers_[:,1],\n",
        "    kmeans.cluster_centers_[:,0], \n",
        "    s = 70, \n",
        "    c = 'red'\n",
        ") #posição de cada centroide no gráfico\n",
        "\n",
        "plt.show()"
      ],
      "execution_count": 79,
      "outputs": [
        {
          "output_type": "display_data",
          "data": {
            "image/png": "[encoded data removed]",
            "text/plain": [
              "<Figure size 432x288 with 1 Axes>"
            ]
          },
          "metadata": {
            "tags": [],
            "needs_background": "light"
          }
        }
      ]
    },
    {
      "cell_type": "code",
      "metadata": {
        "id": "XB5fP_N3Md2i"
      },
      "source": [
        "import numpy as np #para manipular os vetores\n",
        "from matplotlib import pyplot as plt #para plotar os gráficos\n",
        "from sklearn.cluster import KMeans #para usar o KMeans"
      ],
      "execution_count": 1,
      "outputs": []
    },
    {
      "cell_type": "markdown",
      "metadata": {
        "id": "rxPaYecsOqUX"
      },
      "source": [
        "\n",
        "\n",
        "---\n",
        "\n"
      ]
    },
    {
      "cell_type": "markdown",
      "metadata": {
        "id": "Nyk40uCxxOVF"
      },
      "source": [
        "# Exercício 01\n",
        "\n",
        "Dados dois objetos representados pelas tuplas (22, 1, 42, 10) e (20, 0, 36, 8):\n",
        "\n",
        " -  *Calcule a distância euclidiana entre os dois objetos.*\n",
        " - *Calcule a distância de Manhattan entre os dois objetos.*\n",
        " - *Calcule a distância de Minkowski entre os dois objetos, usando q = 3.*\n"
      ]
    },
    {
      "cell_type": "code",
      "metadata": {
        "colab": {
          "base_uri": "https://localhost:8080/"
        },
        "id": "gsDR0psawrqR",
        "outputId": "28405d1f-b4cc-46f6-f42c-4dcc4facdbb5"
      },
      "source": [
        "def euclidean_distance(tuples):\n",
        "    tot = 0\n",
        "    for x1, x2 in tuples:\n",
        "        tot += ((x1 - x2)**2)\n",
        "    return tot ** (1/2)\n",
        "\n",
        "\n",
        "def manhattan_distance(tuples):\n",
        "    tot = 0\n",
        "    for x1, x2 in tuples:\n",
        "        tot += abs(x1 - x2)\n",
        "    return tot\n",
        "\n",
        "\n",
        "def minkowski_distance(tuples, p=3):\n",
        "    tot = 0\n",
        "    for x1, x2 in tuples:\n",
        "        tot += ((abs(x1 - x2))**(p))\n",
        "    return tot ** (1/p)\n",
        "\n",
        "\n",
        "t1 = (22, 1, 42, 10)\n",
        "t2 = (20, 0, 36, 8)\n",
        "\n",
        "t = list(zip(t1, t2))\n",
        "\n",
        "de = euclidean_distance(t)\n",
        "dma = manhattan_distance(t)\n",
        "dmi = minkowski_distance(t, 3)\n",
        "\n",
        "print(f'Dist. Euclidiana: \\t{de:^10.5}\\nDist. Manhattan: \\t{dma:^10}\\nDist. Minkowski: \\t{dmi:^10.5}')"
      ],
      "execution_count": 2,
      "outputs": [
        {
          "output_type": "stream",
          "text": [
            "Dist. Euclidiana: \t  6.7082  \n",
            "Dist. Manhattan: \t    11    \n",
            "Dist. Minkowski: \t  6.1534  \n"
          ],
          "name": "stdout"
        }
      ]
    },
    {
      "cell_type": "markdown",
      "metadata": {
        "id": "sE1s1ARzxf5R"
      },
      "source": [
        "# Exercício 02 \n",
        "\n",
        "Suponha que a tarefa de mineração de dados seja agrupar os oito pontos a seguir (com (x, y) representando o local) em três grupos:\n",
        "\n",
        "Ponto | Valor\n",
        ":----: | :----:\n",
        "A1 | (2, 10)\n",
        "A2 | (2, 5)\n",
        "A3 | (8, 4)\n",
        "B1 | (5, 8)\n",
        "B2 | (7, 5)\n",
        "B3 | (6, 4)\n",
        "C1 | (1, 2)\n",
        "C2 | (4, 9)\n",
        "\n",
        "A função de distância é a distância euclidiana. Suponha que inicialmente atribuímos A1, B1 e C1 como o centro de cada cluster, respectivamente. Use o algoritmo k-means para mostrar apenas:\n",
        "\n",
        " - *Os três centros de cluster após a execução da primeira rodada*\n",
        " - *Os três grupos finais*\n"
      ]
    },
    {
      "cell_type": "code",
      "metadata": {
        "colab": {
          "base_uri": "https://localhost:8080/",
          "height": 269
        },
        "id": "BO-YF5ZOx0AM",
        "outputId": "ae24b6cc-a535-487a-9eb6-74848dcca3f5"
      },
      "source": [
        "k = 3\n",
        "\n",
        "dados = np.array([\n",
        "    [2, 10],\n",
        "    [2, 5],\n",
        "    [8, 4],\n",
        "    [5, 8],\n",
        "    [7, 5],\n",
        "    [6, 4],\n",
        "    [1, 2],\n",
        "    [4, 9]\n",
        "])\n",
        "\n",
        "centroides = np.array([\n",
        "    [2, 10],\n",
        "    [5, 8],\n",
        "    [1, 2]\n",
        "])\n",
        "\n",
        "# colmap = {1: 'r', 2: 'g', 3: 'b'}\n",
        "\n",
        "plt.scatter(dados[:,1], dados[:,0]) #posicionamento dos eixos x e y -> DADOS\n",
        "plt.scatter(centroides[:,1], centroides[:,0], s=70, c='r') # -> CENTROIDES\n",
        "\n",
        "plt.xlim(0, 12) # range do eixo x\n",
        "plt.ylim(0, 12) # range do eixo y\n",
        "plt.show() #função que desenha a grade no nosso gráfico"
      ],
      "execution_count": 17,
      "outputs": [
        {
          "output_type": "display_data",
          "data": {
            "image/png": "[encoded data removed]",
            "text/plain": [
              "<Figure size 432x288 with 1 Axes>"
            ]
          },
          "metadata": {
            "tags": [],
            "needs_background": "light"
          }
        }
      ]
    },
    {
      "cell_type": "code",
      "metadata": {
        "colab": {
          "base_uri": "https://localhost:8080/",
          "height": 269
        },
        "id": "BL99OOHxDylN",
        "outputId": "c5fbde48-e391-4d6b-914b-153a07d567f1"
      },
      "source": [
        "k_means = KMeans(\n",
        "    n_clusters = 3, #numero de clusters\n",
        "    init = centroides,\n",
        "    n_init = 1, #algoritmo que define a posição dos clusters de maneira mais assertiva\n",
        "    max_iter = 1 #numero máximo de iterações\n",
        ") \n",
        "\n",
        "pred_y = k_means.fit_predict(dados)\n",
        "\n",
        "plt.scatter(dados[:,1], dados[:,0], c = pred_y) #posicionamento dos eixos x e y\n",
        "plt.xlim(0, 12) #range do eixo x\n",
        "plt.ylim(0, 12) #range do eixo y\n",
        "\n",
        "plt.scatter(\n",
        "    k_means.cluster_centers_[:,1],\n",
        "    k_means.cluster_centers_[:,0], \n",
        "    s = 70, \n",
        "    c = 'red'\n",
        ") #posição de cada centroide no gráfico\n",
        "\n",
        "plt.show()"
      ],
      "execution_count": 18,
      "outputs": [
        {
          "output_type": "display_data",
          "data": {
            "image/png": "[encoded data removed]",
            "text/plain": [
              "<Figure size 432x288 with 1 Axes>"
            ]
          },
          "metadata": {
            "tags": [],
            "needs_background": "light"
          }
        }
      ]
    },
    {
      "cell_type": "code",
      "metadata": {
        "colab": {
          "base_uri": "https://localhost:8080/",
          "height": 269
        },
        "id": "UVCQlNdkOyh_",
        "outputId": "2a22a5fb-19a3-4b91-edee-fdf7c41604bf"
      },
      "source": [
        "k_means = KMeans(\n",
        "    n_clusters = 3, #numero de clusters\n",
        "    init = centroides,\n",
        "    n_init = 1, #algoritmo que define a posição dos clusters de maneira mais assertiva\n",
        "    max_iter = 300 #numero máximo de iterações\n",
        ") \n",
        "\n",
        "pred_y = k_means.fit_predict(dados)\n",
        "\n",
        "plt.scatter(dados[:,1], dados[:,0], c = pred_y) #posicionamento dos eixos x e y\n",
        "plt.xlim(0, 12) #range do eixo x\n",
        "plt.ylim(0, 12) #range do eixo y\n",
        "\n",
        "plt.scatter(\n",
        "    k_means.cluster_centers_[:,1],\n",
        "    k_means.cluster_centers_[:,0], \n",
        "    s = 70, \n",
        "    c = 'red'\n",
        ") #posição de cada centroide no gráfico\n",
        "\n",
        "plt.show()"
      ],
      "execution_count": 19,
      "outputs": [
        {
          "output_type": "display_data",
          "data": {
            "image/png": "[encoded data removed]",
            "text/plain": [
              "<Figure size 432x288 with 1 Axes>"
            ]
          },
          "metadata": {
            "tags": [],
            "needs_background": "light"
          }
        }
      ]
    },
    {
      "cell_type": "code",
      "metadata": {
        "id": "c1pwn-6bO1cl"
      },
      "source": [
        ""
      ],
      "execution_count": null,
      "outputs": []
    }
  ]
}